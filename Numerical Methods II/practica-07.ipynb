{
 "cells": [
  {
   "cell_type": "markdown",
   "metadata": {},
   "source": [
    "<div align=\"center\"><span style=\"font-family: Arial; color:#0000FF\"><b>\n",
    "    <span style=\"font-size: x-large\">Métodos Numéricos II</span>\n",
    "    <br>\n",
    "    <span style=\"font-size: large\">Segundo de Grado en Matemáticas - Curso 2022/23</span>\n",
    "    <br>\n",
    "    <span style=\"font-size: medium\">Facultad de Ciencias de la Universidad de Málaga</span>\n",
    "    <br>\n",
    "    <span style=\"font-size: small\">Dpto. de Análisis Matemático, Estadística e Investigación Operativa, y Matemática Aplicada</span>\n",
    "    <br>\n",
    "    <span style=\"font-size: small\">Profs. Manuel J. Castro y Francisco J. Palma (Área Conocimiento de Matemática Aplicada)</span>\n",
    "    <br>\n",
    "    <span style=\"font-size: medium; color:#FF0000\">Práctica número 7</span>\n",
    "    </b></span></div>"
   ]
  },
  {
   "cell_type": "code",
   "execution_count": 2,
   "metadata": {},
   "outputs": [],
   "source": [
    "from algoritmos import *"
   ]
  },
  {
   "cell_type": "markdown",
   "metadata": {},
   "source": [
    "<div align=\"left\"><span style=\"font-family: Arial; color:#000000; font-size: medium\">\n",
    "    <span style=\"color:#FF0000\"><b>Ejercicio 1.</b></span> Dado el vector $X = \\left( \\begin{array}{c} 1 \\\\ 2 \\\\ 3 \\\\ 4 \\end{array} \\right) \\in \\mathbb{R}^4$, calcular la matriz de Householder $H(X) \\in \\mathcal{M}_4(\\mathbb{R})$.\n",
    "    </span></div>"
   ]
  },
  {
   "cell_type": "code",
   "execution_count": 5,
   "metadata": {},
   "outputs": [],
   "source": [
    "# Ejercicio 1.\n",
    "def householder(X):\n",
    "    n, m = shape(X)\n",
    "    if m!= 1:\n",
    "        return False, \"Error, calcular matriz householder: necesitamos un vector\"\n",
    "    I = eye(n)\n",
    "    H = I - (2/(transpose(X)@X))*(X@transpose(X))\n",
    "    return True, H"
   ]
  },
  {
   "cell_type": "code",
   "execution_count": 6,
   "metadata": {},
   "outputs": [
    {
     "name": "stdout",
     "output_type": "stream",
     "text": [
      "[[ 0.93333333 -0.13333333 -0.2        -0.26666667]\n",
      " [-0.13333333  0.73333333 -0.4        -0.53333333]\n",
      " [-0.2        -0.4         0.4        -0.8       ]\n",
      " [-0.26666667 -0.53333333 -0.8        -0.06666667]]\n"
     ]
    }
   ],
   "source": [
    "X = [[1], [2], [3], [4]]\n",
    "exito, H = householder(X)\n",
    "if exito:\n",
    "    print(H)"
   ]
  },
  {
   "cell_type": "code",
   "execution_count": null,
   "metadata": {},
   "outputs": [],
   "source": []
  },
  {
   "cell_type": "markdown",
   "metadata": {},
   "source": [
    "<div align=\"left\"><span style=\"font-family: Arial; color:#000000; font-size: medium\">\n",
    "    <span style=\"color:#FF0000\"><b>Ejercicio 2.</b></span> Dado el vector $X = \\left( \\begin{array}{c} 1 \\\\ 2 \\\\ 3 \\\\ 4 \\end{array} \\right) \\in \\mathbb{R}^4$, calcular las matrices de Householder $H(Z_i) \\in \\mathcal{M}_4(\\mathbb{R})$, $i=1,2$, tales que el vector $H(Z_i)\\,X$ tiene nulas todas sus componentes excepto, quizás, la primera.\n",
    "    </span></div>"
   ]
  },
  {
   "cell_type": "code",
   "execution_count": 8,
   "metadata": {},
   "outputs": [
    {
     "name": "stdout",
     "output_type": "stream",
     "text": [
      "Vector X =  [[1]\n",
      " [2]\n",
      " [3]\n",
      " [4]]\n",
      "Primera matriz: H(Z_1) =  [[-0.18257419+0.j -0.36514837+0.j -0.54772256+0.j -0.73029674+0.j]\n",
      " [-0.36514837+0.j  0.88725161+0.j -0.16912258+0.j -0.22549678+0.j]\n",
      " [-0.54772256+0.j -0.16912258+0.j  0.74631613+0.j -0.33824516+0.j]\n",
      " [-0.73029674+0.j -0.22549678+0.j -0.33824516+0.j  0.54900645+0.j]]\n",
      "Vector modificado: H(Z_1)@X =  [[-5.47722558e+00+0.j]\n",
      " [ 1.11022302e-16+0.j]\n",
      " [ 0.00000000e+00+0.j]\n",
      " [ 4.44089210e-16+0.j]]\n",
      "Segunda matriz: H(Z_2) =  [[ 0.18257419+0.j  0.36514837+0.j  0.54772256+0.j  0.73029674+0.j]\n",
      " [ 0.36514837+0.j  0.83688632+0.j -0.24467052+0.j -0.32622736+0.j]\n",
      " [ 0.54772256+0.j -0.24467052+0.j  0.63299422+0.j -0.48934104+0.j]\n",
      " [ 0.73029674+0.j -0.32622736+0.j -0.48934104+0.j  0.34754528+0.j]]\n",
      "Vector modificado: H(Z_2)@X =  [[ 5.47722558e+00+0.j]\n",
      " [-1.66533454e-16+0.j]\n",
      " [-4.44089210e-16+0.j]\n",
      " [-3.33066907e-16+0.j]]\n"
     ]
    }
   ],
   "source": [
    "# Ejercicio 2.\n",
    "X = array([[1], [2], [3], [4]])\n",
    "E_1 = array([[1], [0], [0], [0]])\n",
    "print(\"Vector X = \", X)\n",
    "Z_1 = X + (norma_vec(X, 2)*exp((angle(X[1]))*1j))*E_1\n",
    "Z_2 = X - (norma_vec(X, 2)*exp((angle(X[1]))*1j))*E_1\n",
    "ex1, H_Z1 = householder(Z_1)\n",
    "ex2, H_Z2 = householder(Z_2)\n",
    "print(\"Primera matriz: H(Z_1) = \", H_Z1)\n",
    "print(\"Vector modificado: H(Z_1)@X = \", H_Z1@X)\n",
    "print(\"Segunda matriz: H(Z_2) = \", H_Z2)\n",
    "print(\"Vector modificado: H(Z_2)@X = \", H_Z2@X)"
   ]
  },
  {
   "cell_type": "code",
   "execution_count": null,
   "metadata": {},
   "outputs": [],
   "source": []
  },
  {
   "cell_type": "code",
   "execution_count": null,
   "metadata": {},
   "outputs": [],
   "source": []
  },
  {
   "cell_type": "markdown",
   "metadata": {},
   "source": [
    "<div align=\"left\"><span style=\"font-family: Arial; color:#000000; font-size: medium\">\n",
    "    <span style=\"color:#FF0000\"><b>Ejercicio 3.</b></span> Considera el sistema lineal $A\\,X=B$, así como el sistema perturbado $A\\,\\bar{X}=\\bar{B}$, donde\n",
    "\\[\n",
    "A = \\left( \\begin{array}{rrrr} 10 & 1 & 4 & 0 \\\\ 1 & 10 & 5 & -1 \\\\ 4 & 5 & 10 & 7 \\\\ 0 & -1 & 7 & 9 \\end{array} \\right)\\,, \\quad B = \\left( \\begin{array}{r} 15 \\\\ 15 \\\\ 26 \\\\ 15 \\end{array} \\right) \\quad \\mbox{y} \\quad \\bar{B} = \\left( \\begin{array}{r} 16 \\\\ 16 \\\\ 25 \\\\ 16 \\end{array} \\right)\\,.\n",
    "\\]\n",
    "    Calcular $X$ y $\\bar{X}$ (mediante el método de Gauss con estrategia de pívot parcial) y verificar la desigualdad\n",
    "\\[\n",
    "\\frac{\\|\\delta X\\|_2}{\\|X\\|_2} \\le \\rm{cond}_2(A)\\,\\frac{\\|\\delta B\\|_2}{\\|B\\|_2}\\,.\n",
    "\\]\n",
    "    </span></div>"
   ]
  },
  {
   "cell_type": "code",
   "execution_count": 19,
   "metadata": {},
   "outputs": [
    {
     "name": "stdout",
     "output_type": "stream",
     "text": [
      "Matriz: A =  [[10  1  4  0]\n",
      " [ 1 10  5 -1]\n",
      " [ 4  5 10  7]\n",
      " [ 0 -1  7  9]]\n",
      "Vector: B =  [[15]\n",
      " [15]\n",
      " [26]\n",
      " [15]]\n",
      "Vcetor del sistema perturbado: B(tilde) =  [[16]\n",
      " [16]\n",
      " [25]\n",
      " [16]]\n",
      "Vector X =  [[1.]\n",
      " [1.]\n",
      " [1.]\n",
      " [1.]]\n",
      "Vector X(tilde) =  [[  832.]\n",
      " [ 1324.]\n",
      " [-2407.]\n",
      " [ 2021.]]\n",
      "Análisis de errores:\n",
      "Norma de X: ||X||_2 =  1.9999999999994262\n",
      "Norma de deltaX: ||deltaX||_2 =  3509.9507119009654\n",
      "Norma de B: ||B||_2 =  36.75595189897821\n",
      "Norma de deltaB: ||deltaB||_2 =  2.0\n",
      "Error relativo solución: ||deltaX||_2 / ||X||_2 =  1754.975355950986\n",
      "Condicionamiento: cond_2(A) =  35792.397628802246\n",
      "Error relativo dato: ||deltaB||_2 / ||B||_2 =  0.05441295617909432\n",
      "Verificación del teorema:  True\n",
      "Primer miembro de la desigualdad:  1754.975355950986\n",
      "Segundo miembro de la desigualdad:  1947.570163720736\n"
     ]
    }
   ],
   "source": [
    "# Ejercicio 3.\n",
    "A = array([[10, 1, 4, 0], [1, 10, 5, -1], [4, 5, 10, 7], [0, -1, 7, 9]])\n",
    "print(\"Matriz: A = \", A)\n",
    "B = array([[15], [15], [26], [15]])\n",
    "print(\"Vector: B = \", B)\n",
    "B_2 = array([[16], [16], [25], [16]])\n",
    "print(\"Vcetor del sistema perturbado: B(tilde) = \", B_2)\n",
    "\n",
    "ex1, X = gauss_pp(A, B)\n",
    "if ex1:\n",
    "   print(\"Vector X = \", X)\n",
    "ex2, X_2 = gauss_pp(A, B_2)\n",
    "if ex2:\n",
    "   print(\"Vector X(tilde) = \", X_2)\n",
    "a = norma_vec(X,2)\n",
    "b = norma_vec(X-X_2,2)\n",
    "c = norma_vec(B,2)\n",
    "d = norma_vec(B-B_2,2)\n",
    "e = b/a\n",
    "f = d/c\n",
    "ex3, invA = gauss_pp(A, eye(4))\n",
    "n = norm(A, 2)\n",
    "m = norm(invA, 2)\n",
    "cond_2_A = n*m\n",
    "print(\"Análisis de errores:\")\n",
    "print(\"Norma de X: ||X||_2 = \", a)\n",
    "print(\"Norma de deltaX: ||deltaX||_2 = \", b)\n",
    "print(\"Norma de B: ||B||_2 = \", c)\n",
    "print(\"Norma de deltaB: ||deltaB||_2 = \", d)\n",
    "print(\"Error relativo solución: ||deltaX||_2 / ||X||_2 = \", e)\n",
    "print(\"Condicionamiento: cond_2(A) = \", cond_2_A)\n",
    "print(\"Error relativo dato: ||deltaB||_2 / ||B||_2 = \", f)\n",
    "print(\"Verificación del teorema: \", e < cond_2_A*f)\n",
    "print(\"Primer miembro de la desigualdad: \", e)\n",
    "print(\"Segundo miembro de la desigualdad: \", cond_2_A*f)"
   ]
  },
  {
   "cell_type": "code",
   "execution_count": null,
   "metadata": {},
   "outputs": [],
   "source": []
  },
  {
   "cell_type": "code",
   "execution_count": null,
   "metadata": {},
   "outputs": [],
   "source": []
  },
  {
   "cell_type": "markdown",
   "metadata": {},
   "source": [
    "<div align=\"left\"><span style=\"font-family: Arial; color:#000000; font-size: medium\">\n",
    "    <span style=\"color:#FF0000\"><b>Ejercicio 4.</b></span> Calcular $\\rm{cond}_p(A_2)$, $p=1,2,\\infty$, donde $A_2$ es la matriz triangular superior resultante de aplicar el método de Gauss al sistema\n",
    "\\[\n",
    "\\left\\{ \\begin{array}{rcrcr} 10^{-4}\\,x_1 & + & x_2 & = & 1\\,, \\\\ x_1 & + & x_2 & = & 2\\,. \\end{array} \\right.\n",
    "\\]\n",
    "    Comparar los resultados cuando no se utiliza ninguna estrategia de pivot y cuando se utiliza una estrategia de pivot parcial.\n",
    "    <br>\n",
    "    Cambiar el elemento $(1,1)$ de la matriz de coeficientes por $10^{-16}$ y analizar el resultado.\n",
    "    </span></div>"
   ]
  },
  {
   "cell_type": "code",
   "execution_count": 8,
   "metadata": {},
   "outputs": [
    {
     "name": "stdout",
     "output_type": "stream",
     "text": [
      "Matriz de coeficientes: A =  [[1.e-04 1.e+00]\n",
      " [1.e+00 1.e+00]]\n",
      "Vector dato: =  [[1]\n",
      " [2]]\n",
      "Iteración: k =  1\n",
      "Posicion pivot: ik =  2\n",
      "Matriz: A_k+1 =  [[1.000e+00 1.000e+00]\n",
      " [1.000e-04 9.999e-01]]\n",
      "Matriz triangular:  [[1.     1.    ]\n",
      " [0.     0.9999]]\n",
      "Segundo miembro:  [[2.    ]\n",
      " [0.9998]]\n",
      "[[1.00010001]\n",
      " [0.99989999]]\n",
      "Norma 1 de A_2:  2\n",
      "Norma 2 de A_2:  1.618033988749895\n",
      "Norma inf de A_2:  2\n"
     ]
    }
   ],
   "source": [
    "# Ejercicio 4.\n",
    "A = array([[1e-4, 1], [1,1]])\n",
    "print(\"Matriz de coeficientes: A = \", A)\n",
    "B = array([[1], [2]])\n",
    "print(\"Vector dato: = \", B)\n",
    "exito, X = gauss_pp_verbose(A,B)\n",
    "if exito:\n",
    "    print(X)\n",
    "    A_2=array([[1,1],[0,1]])\n",
    "    print(\"Norma 1 de A_2: \", norma_mat(A_2,1))\n",
    "    print(\"Norma 2 de A_2: \", norma_mat(A_2,2))\n",
    "    print(\"Norma inf de A_2: \", norma_mat(A_2,inf))\n",
    "\n",
    "else:\n",
    "    print(X)"
   ]
  },
  {
   "cell_type": "code",
   "execution_count": null,
   "metadata": {},
   "outputs": [],
   "source": []
  },
  {
   "cell_type": "code",
   "execution_count": null,
   "metadata": {},
   "outputs": [],
   "source": []
  },
  {
   "cell_type": "markdown",
   "metadata": {},
   "source": [
    "<div align=\"left\"><span style=\"font-family: Arial; color:#000000; font-size: medium\">\n",
    "    <span style=\"color:#FF0000\"><b>Ejercicio 5.</b></span> Analizar si la matriz\n",
    "\\[\n",
    "A = \\left( \\begin{array}{cccc} 1 & 2 & 1 & 1 \\\\ 2 & 3 & 4 & 3 \\\\ 1 & 4 & -4 & 0 \\\\ 1 & 3 & 0 & 0 \\end{array} \\right)\n",
    "\\]\n",
    "    es definida positiva.\n",
    "    </span></div>"
   ]
  },
  {
   "cell_type": "code",
   "execution_count": 5,
   "metadata": {},
   "outputs": [
    {
     "name": "stdout",
     "output_type": "stream",
     "text": [
      "Error facto_cholesky: no se factoriza la matriz\n",
      "\n",
      " A no es definida positiva pues no tiene factorizacion cholesky\n"
     ]
    }
   ],
   "source": [
    "# Ejercicio 5.\n",
    "A=array([[1,2,1,1],[2,3,4,3],[1,4,-4,0],[1,3,0,0]])\n",
    "exito, chol = facto_cholesky(A)\n",
    "if exito:\n",
    "    print(\"A es definida positiva y su factorizacion cholesky es: \", chol)\n",
    "else:\n",
    "    print(chol)\n",
    "    print(\"\\n A no es definida positiva pues no tiene factorizacion cholesky\")"
   ]
  },
  {
   "cell_type": "code",
   "execution_count": null,
   "metadata": {},
   "outputs": [],
   "source": []
  },
  {
   "cell_type": "code",
   "execution_count": null,
   "metadata": {},
   "outputs": [],
   "source": []
  }
 ],
 "metadata": {
  "kernelspec": {
   "display_name": "Python 3",
   "language": "python",
   "name": "python3"
  },
  "language_info": {
   "codemirror_mode": {
    "name": "ipython",
    "version": 3
   },
   "file_extension": ".py",
   "mimetype": "text/x-python",
   "name": "python",
   "nbconvert_exporter": "python",
   "pygments_lexer": "ipython3",
   "version": "3.7.9"
  }
 },
 "nbformat": 4,
 "nbformat_minor": 4
}
