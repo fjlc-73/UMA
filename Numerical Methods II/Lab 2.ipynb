{
 "cells": [
  {
   "cell_type": "markdown",
   "metadata": {},
   "source": [
    "<div align=\"left\"><span style=\"font-family: Arial; color:#000000; font-size: medium\">\n",
    "    En primer lugar cargamos los módulos necesarios.\n",
    "    </span></div>"
   ]
  },
  {
   "cell_type": "code",
   "execution_count": 1,
   "metadata": {},
   "outputs": [],
   "source": [
    "# -*- coding: utf-8 -*-\n",
    "from numpy import *\n",
    "from numpy.linalg import *\n",
    "from numpy import abs, sum, max, min"
   ]
  },
  {
   "cell_type": "markdown",
   "metadata": {},
   "source": [
    "<div align=\"left\"><span style=\"font-family: Arial; color:#000000; font-size: medium\">\n",
    "    El primer objetivo de esta práctica es ver la forma en la que podemos <b>definir nuestras propias funciones</b> que implementen un determinado algoritmo.\n",
    "    </span></div>"
   ]
  },
  {
   "cell_type": "markdown",
   "metadata": {},
   "source": [
    "<div align=\"left\"><span style=\"font-family: Arial; color:#000000; font-size: medium\">\n",
    "    Por ejemplo, nos podemos plantear definir una función, a la que llamaremos <span style=\"font-family: Courier\">conjugada()</span>, que calcule la <b>conjugada</b> de una matriz.\n",
    "    <br>\n",
    "    Esta función debe tener un único argumento de entrada, que es una matriz $A\\in\\mathcal{M}_{m\\times n}(\\mathbb{C})$, y debe devolver su matriz conjugada $A^*\\in\\mathcal{M}_{n\\times m}(\\mathbb{C})$. El código necesario para llevar a cabo esta tarea puede ser tan simple como este que sigue.\n",
    "    </span></div>"
   ]
  },
  {
   "cell_type": "code",
   "execution_count": 2,
   "metadata": {},
   "outputs": [],
   "source": [
    "def conjugada(A):\n",
    "    return conjugate(transpose(A))"
   ]
  },
  {
   "cell_type": "markdown",
   "metadata": {},
   "source": [
    "<div align=\"left\"><span style=\"font-family: Arial; color:#000000; font-size: medium\">\n",
    "    <span style=\"color:#FF0000\"><b>Ejercicio 1.</b></span> Calcular las conjugadas de las matrices: (a) $A = \\left( \\begin{array}{cc} 1 & 4\\,i \\\\ 2 & -5\\,i \\\\ 3 & 6+6\\,i \\end{array} \\right)$; (b) $B = \\left( \\begin{array}{cc} 1 & 4\\,i \\end{array} \\right)$; (c) $C = \\left( \\begin{array}{c} 1 \\\\ 2 \\\\ 3 \\end{array} \\right)$.\n",
    "    </span></div>"
   ]
  },
  {
   "cell_type": "code",
   "execution_count": 3,
   "metadata": {},
   "outputs": [
    {
     "name": "stdout",
     "output_type": "stream",
     "text": [
      "Ejercicio 1-a.\n",
      "Matriz: A =  [[ 1.+0.j  0.+4.j]\n",
      " [ 2.+0.j -0.-5.j]\n",
      " [ 3.+0.j  6.+6.j]]\n",
      "Conjugada: A^* =  [[ 1.-0.j  2.-0.j  3.-0.j]\n",
      " [ 0.-4.j -0.+5.j  6.-6.j]]\n"
     ]
    }
   ],
   "source": [
    "# Ejercicio 1-a.\n",
    "print(\"Ejercicio 1-a.\")\n",
    "A = array([[1, 4j], [2, -5j], [3, 6+6j]])\n",
    "print(\"Matriz: A = \", A)\n",
    "print(\"Conjugada: A^* = \", conjugada(A))"
   ]
  },
  {
   "cell_type": "code",
   "execution_count": 4,
   "metadata": {},
   "outputs": [
    {
     "name": "stdout",
     "output_type": "stream",
     "text": [
      "Ejercicio 1-b.\n",
      "Conjugada: B^* =  [[1.-0.j]\n",
      " [0.-4.j]]\n"
     ]
    }
   ],
   "source": [
    "# Ejercicio 1-b.\n",
    "print(\"Ejercicio 1-b.\")\n",
    "B = array([[1, 4j]])\n",
    "print(\"Conjugada: B^* = \", conjugada(B))"
   ]
  },
  {
   "cell_type": "code",
   "execution_count": 5,
   "metadata": {},
   "outputs": [
    {
     "name": "stdout",
     "output_type": "stream",
     "text": [
      "Ejercicio 1-c.\n",
      "Conjugada: C^* =  [[1 2 3]]\n"
     ]
    }
   ],
   "source": [
    "# Ejercicio 1-c.\n",
    "print(\"Ejercicio 1-c.\")\n",
    "C = array([[1], [2], [3]])\n",
    "print(\"Conjugada: C^* = \", conjugada(C))"
   ]
  },
  {
   "cell_type": "markdown",
   "metadata": {},
   "source": [
    "<div align=\"left\"><span style=\"font-family: Arial; color:#000000; font-size: medium\">\n",
    "    <span style=\"color:#FF0000\"><b>Ejercicio 2.</b></span> Mejorar la función anterior en el siguiente sentido: como se puede comprobar, si el argumento de entrada es un vector (array de una dimensión), la función devuelve también un vector con los elementos conjugados; modificar la función creada para que en este caso considere el vector como una matriz fila y devuelva, por tanto, una matriz columna (evidentemente con los elementos conjugados).\n",
    "    <br>\n",
    "    Comprobar la validez de la mejora realizada utilizando el vector $x=(1+i\\,,\\,2-2\\,i\\,,\\,-3+3\\,i)$.\n",
    "    </span></div>"
   ]
  },
  {
   "cell_type": "code",
   "execution_count": 4,
   "metadata": {},
   "outputs": [
    {
     "name": "stdout",
     "output_type": "stream",
     "text": [
      "Ejercicio 2.\n",
      "Conjugada: x^* =  [[ 1.-1.j]\n",
      " [ 2.+2.j]\n",
      " [-3.-3.j]]\n"
     ]
    }
   ],
   "source": [
    "# Ejercicio 2.\n",
    "print(\"Ejercicio 2.\")\n",
    "x = array([1+1j, 2-2j, -3+3j])\n",
    "\n",
    "def conjugada(A):\n",
    "    if ndim(A)==1:\n",
    "        A = array([A])\n",
    "    return conjugate(transpose(A))\n",
    "\n",
    "\n",
    "print(\"Conjugada: x^* = \", conjugada(x))\n"
   ]
  },
  {
   "cell_type": "markdown",
   "metadata": {},
   "source": [
    "<div align=\"left\"><span style=\"font-family: Arial; color:#000000; font-size: medium\">\n",
    "    El siguiente objetivo de esta práctica es calcular los <b>autovalores</b> y <b>autovectores</b> de una matriz, <b>diagonalizarla</b> (si es posible) y calcular sus <b>valores singulares</b>.\n",
    "    </span></div>"
   ]
  },
  {
   "cell_type": "markdown",
   "metadata": {},
   "source": [
    "<div align=\"left\"><span style=\"font-family: Arial; color:#000000; font-size: medium\">\n",
    "   Dada una matriz $A\\in\\mathcal{M}_n(\\mathbb{K})$, sus <b>autovalores</b> y <b>autovectores</b> pueden calcularse con la ayuda de la función <span style=\"font-family: Courier\">eig()</span>; esta función tiene un único argumento de entrada que es la matriz cuadrada $A$ y tiene dos argumentos de salida, siendo el primero un vector de $n$ componentes conteniendo a los autovalores (en un orden arbitrario, quizás números complejos aunque la matriz sea de coeficientes reales y repetidos en caso de multiplicidad mayor que uno) y el segundo una matriz cuadrada de orden $n$ cuyas columnas son autovectores (asociados a los autovalores calculados, en el mismo orden y unitarios respecto del producto escalar ordinario).\n",
    "    <br>\n",
    "    No obstante la matriz de autovectores puede no ser regular en el caso de que la matriz dada no sea diagonalizable (los autovectores asociados a autovalores con multiplicidad mayor que 1 no son linealmente independientes).\n",
    "    <br>\n",
    "    En el caso de que la matriz dada sí sea diagonalizable, la matriz de autovectores que obtenemos es regular, pero aunque tengamos asegurado que existe una matriz de paso ortogonal-unitaria (al ser la matriz dada normal), la que obtenemos no lo es necesariamente.\n",
    "    </span></div>"
   ]
  },
  {
   "cell_type": "markdown",
   "metadata": {},
   "source": [
    "<div align=\"left\"><span style=\"font-family: Arial; color:#000000; font-size: medium\">\n",
    "    <span style=\"color:#FF0000\"><b>Ejercicio 3 (a).</b></span> Calcular los autovalores y autovectores, y ver si es diagonalizable la matriz $A = \\left( \\begin{array}{rr} 3 & 1 \\\\ 0 & 1 \\end{array} \\right)$.\n",
    "    <br>\n",
    "    Imprimir el vector de autovalores y la matriz de autovectores (ortogonal-unitaria si es posible) y comprobar si la matriz dada es diagonalizable (comprobar que $P^{-1}\\,A\\,P=D$ para lo cual se puede utilizar la función <span style=\"font-family: Courier\">inv()</span> que calcula la inversa de la función dada como argumento). \n",
    "    </span></div>"
   ]
  },
  {
   "cell_type": "code",
   "execution_count": 10,
   "metadata": {},
   "outputs": [
    {
     "name": "stdout",
     "output_type": "stream",
     "text": [
      "Ejercicio 3-a.\n",
      "Matriz: A =  [[3 1]\n",
      " [0 1]]\n",
      "Vector de autovalores: d =  [3. 1.]\n",
      "Matriz de autovectores: P =  [[ 1.         -0.4472136 ]\n",
      " [ 0.          0.89442719]]\n",
      "det(P) =  0.8944271909999159\n",
      "La matriz es diagonalizable.\n",
      "inv(P)@A@P =  [[3. 0.]\n",
      " [0. 1.]]\n",
      "Comprobación:  0.0\n"
     ]
    }
   ],
   "source": [
    "# Ejercicio 3-a.\n",
    "print(\"Ejercicio 3-a.\")\n",
    "A = array([[3, 1], [0, 1]])\n",
    "print(\"Matriz: A = \", A)\n",
    "d, P = eig(A)\n",
    "print(\"Vector de autovalores: d = \", d)\n",
    "print(\"Matriz de autovectores: P = \", P)\n",
    "detP = det(P)\n",
    "print(\"det(P) = \", detP)\n",
    "if abs(detP) > 1.e-10:\n",
    "    print(\"La matriz es diagonalizable.\")\n",
    "    D = inv(P)@A@P\n",
    "    print(\"inv(P)@A@P = \", D)\n",
    "    print(\"Comprobación: \", max(abs(D - diag(d))))\n",
    "else:\n",
    "    print(\"La matriz no es diagonalizable.\")"
   ]
  },
  {
   "cell_type": "code",
   "execution_count": 11,
   "metadata": {},
   "outputs": [
    {
     "name": "stdout",
     "output_type": "stream",
     "text": [
      "A@A^* - A^*@A =  [[ 1 -2]\n",
      " [-2 -1]]\n",
      "La matriz no es normal.\n"
     ]
    }
   ],
   "source": [
    "# Matriz normal.\n",
    "normal = A@conjugada(A) - conjugada(A)@A\n",
    "print(\"A@A^* - A^*@A = \", normal)\n",
    "mv = max(abs(normal))\n",
    "if mv > 1.e-10:\n",
    "    print(\"La matriz no es normal.\")\n",
    "else:\n",
    "    print(\"La matriz es normal.\")"
   ]
  },
  {
   "cell_type": "code",
   "execution_count": 12,
   "metadata": {},
   "outputs": [
    {
     "name": "stdout",
     "output_type": "stream",
     "text": [
      "P^*@P =  [[ 1.        -0.4472136]\n",
      " [-0.4472136  1.       ]]\n",
      "La matriz de paso no es ortogonal-unitaria.\n"
     ]
    }
   ],
   "source": [
    "# Matriz de paso ortogonal-unitaria.\n",
    "n = size(d)\n",
    "unit = conjugada(P)@P\n",
    "print(\"P^*@P = \", unit)\n",
    "mv = max(abs(unit - eye(n)))\n",
    "if mv > 1.e-10:\n",
    "    print(\"La matriz de paso no es ortogonal-unitaria.\")\n",
    "else:\n",
    "    print(\"La matriz de paso es ortogonal-unitaria.\")"
   ]
  },
  {
   "cell_type": "code",
   "execution_count": 13,
   "metadata": {},
   "outputs": [
    {
     "name": "stdout",
     "output_type": "stream",
     "text": [
      "Autovalor: lambda =  3.0  Autovector: x =  [1. 0.]\n",
      "Autovalor: lambda =  1.0  Autovector: x =  [-0.4472136   0.89442719]\n"
     ]
    }
   ],
   "source": [
    "# Autovalores y autovectores.\n",
    "n = size(d)\n",
    "for i in range(n):\n",
    "    print(\"Autovalor: lambda = \", d[i], \" Autovector: x = \", P[:, i])"
   ]
  },
  {
   "cell_type": "markdown",
   "metadata": {},
   "source": [
    "<div align=\"left\"><span style=\"font-family: Arial; color:#000000; font-size: medium\">\n",
    "    <span style=\"color:#FF0000\"><b>Ejercicio 3 (b).</b></span> Ídem con la matriz $A = \\left( \\begin{array}{rr} 0 & -2 \\\\ 2 & 0 \\end{array} \\right)$.\n",
    "    </span></div>"
   ]
  },
  {
   "cell_type": "code",
   "execution_count": 14,
   "metadata": {},
   "outputs": [
    {
     "name": "stdout",
     "output_type": "stream",
     "text": [
      "Ejercicio 3-b.\n",
      "Matriz: A =  [[ 0 -2]\n",
      " [ 2  0]]\n",
      "Vector de autovalores: d =  [0.+2.j 0.-2.j]\n",
      "Matriz de autovectores: P =  [[ 0.        -0.70710678j  0.        +0.70710678j]\n",
      " [-0.70710678+0.j         -0.70710678-0.j        ]]\n",
      "det(P) =  1j\n",
      "La matriz es diagonalizable.\n",
      "inv(P)@A@P =  [[0.+2.0000000e+00j 0.+4.4408921e-16j]\n",
      " [0.-4.4408921e-16j 0.-2.0000000e+00j]]\n",
      "Comprobación:  4.440892098500626e-16\n"
     ]
    }
   ],
   "source": [
    "# Ejercicio 3-b.\n",
    "print(\"Ejercicio 3-b.\")\n",
    "A = array([[0, -2], [2, 0]])\n",
    "print(\"Matriz: A = \", A)\n",
    "d, P = eig(A)\n",
    "print(\"Vector de autovalores: d = \", d)\n",
    "print(\"Matriz de autovectores: P = \", P)\n",
    "detP = det(P)\n",
    "print(\"det(P) = \", detP)\n",
    "if abs(detP) > 1.e-10:\n",
    "    print(\"La matriz es diagonalizable.\")\n",
    "    D = inv(P)@A@P\n",
    "    print(\"inv(P)@A@P = \", D)\n",
    "    print(\"Comprobación: \", max(abs(D - diag(d))))\n",
    "else:\n",
    "    print(\"La matriz no es diagonalizable.\")"
   ]
  },
  {
   "cell_type": "code",
   "execution_count": 15,
   "metadata": {},
   "outputs": [
    {
     "name": "stdout",
     "output_type": "stream",
     "text": [
      "A@A^* - A^*@A =  [[0 0]\n",
      " [0 0]]\n",
      "La matriz es normal.\n"
     ]
    }
   ],
   "source": [
    "# Matriz normal.\n",
    "normal = A@conjugada(A) - conjugada(A)@A\n",
    "print(\"A@A^* - A^*@A = \", normal)\n",
    "mv = max(abs(normal))\n",
    "if mv > 1.e-10:\n",
    "    print(\"La matriz no es normal.\")\n",
    "else:\n",
    "    print(\"La matriz es normal.\")"
   ]
  },
  {
   "cell_type": "code",
   "execution_count": 16,
   "metadata": {},
   "outputs": [
    {
     "name": "stdout",
     "output_type": "stream",
     "text": [
      "P^*@P =  [[1.00000000e+00+0.j 2.22044605e-16+0.j]\n",
      " [2.22044605e-16+0.j 1.00000000e+00+0.j]]\n",
      "La matriz de paso es ortogonal-unitaria.\n"
     ]
    }
   ],
   "source": [
    "# Matriz de paso ortogonal-unitaria.\n",
    "n = size(d)\n",
    "unit = conjugada(P)@P\n",
    "print(\"P^*@P = \", unit)\n",
    "mv = max(abs(unit - eye(n)))\n",
    "if mv > 1.e-10:\n",
    "    print(\"La matriz de paso no es ortogonal-unitaria.\")\n",
    "else:\n",
    "    print(\"La matriz de paso es ortogonal-unitaria.\")"
   ]
  },
  {
   "cell_type": "code",
   "execution_count": 17,
   "metadata": {},
   "outputs": [
    {
     "name": "stdout",
     "output_type": "stream",
     "text": [
      "Autovalor: lambda =  2.0000000000000004j  Autovector: x =  [ 0.        -0.70710678j -0.70710678+0.j        ]\n",
      "Autovalor: lambda =  -2.0000000000000004j  Autovector: x =  [ 0.        +0.70710678j -0.70710678-0.j        ]\n"
     ]
    }
   ],
   "source": [
    "# Autovalores y autovectores.\n",
    "n = size(d)\n",
    "for i in range(n):\n",
    "    print(\"Autovalor: lambda = \", d[i], \" Autovector: x = \", P[:, i])"
   ]
  },
  {
   "cell_type": "markdown",
   "metadata": {},
   "source": [
    "<div align=\"left\"><span style=\"font-family: Arial; color:#000000; font-size: medium\">\n",
    "    <span style=\"color:#FF0000\"><b>Ejercicio 3 (c).</b></span> Ídem con la matriz $A = \\left( \\begin{array}{rrr} 2 & 0 & 2 \\\\ 0 & 1 & 0 \\\\ 2 & 0 & -1 \\end{array} \\right)$.\n",
    "    </span></div>"
   ]
  },
  {
   "cell_type": "code",
   "execution_count": 18,
   "metadata": {},
   "outputs": [
    {
     "name": "stdout",
     "output_type": "stream",
     "text": [
      "Ejercicio 3-c.\n",
      "Matriz: A =  [[ 2  0  2]\n",
      " [ 0  1  0]\n",
      " [ 2  0 -1]]\n",
      "Vector de autovalores: d =  [ 3. -2.  1.]\n",
      "Matriz de autovectores: P =  [[ 0.89442719 -0.4472136   0.        ]\n",
      " [ 0.          0.          1.        ]\n",
      " [ 0.4472136   0.89442719  0.        ]]\n",
      "det(P) =  -1.0\n",
      "La matriz es diagonalizable.\n",
      "inv(P)@A@P =  [[ 3.00000000e+00  2.22044605e-16  0.00000000e+00]\n",
      " [ 0.00000000e+00 -2.00000000e+00  0.00000000e+00]\n",
      " [ 0.00000000e+00  0.00000000e+00  1.00000000e+00]]\n",
      "Comprobación:  2.220446049250313e-16\n"
     ]
    }
   ],
   "source": [
    "# Ejercicio 3-c.\n",
    "print(\"Ejercicio 3-c.\")\n",
    "A = array([[2, 0 ,2], [0, 1, 0], [2, 0, -1]])\n",
    "print(\"Matriz: A = \", A)\n",
    "d, P = eig(A)\n",
    "print(\"Vector de autovalores: d = \", d)\n",
    "print(\"Matriz de autovectores: P = \", P)\n",
    "detP = det(P)\n",
    "print(\"det(P) = \", detP)\n",
    "if abs(detP) > 1.e-10:\n",
    "    print(\"La matriz es diagonalizable.\")\n",
    "    D = inv(P)@A@P\n",
    "    print(\"inv(P)@A@P = \", D)\n",
    "    print(\"Comprobación: \", max(abs(D - diag(d))))\n",
    "else:\n",
    "    print(\"La matriz no es diagonalizable.\")"
   ]
  },
  {
   "cell_type": "code",
   "execution_count": 20,
   "metadata": {},
   "outputs": [
    {
     "name": "stdout",
     "output_type": "stream",
     "text": [
      "A@A^* - A^*@A =  [[0 0 0]\n",
      " [0 0 0]\n",
      " [0 0 0]]\n",
      "La matriz es normal.\n"
     ]
    }
   ],
   "source": [
    "# Matriz normal.\n",
    "normal = A@conjugada(A) - conjugada(A)@A\n",
    "print(\"A@A^* - A^*@A = \", normal)\n",
    "mv = max(abs(normal))\n",
    "if mv > 1.e-10:\n",
    "    print(\"La matriz no es normal.\")\n",
    "else:\n",
    "    print(\"La matriz es normal.\")"
   ]
  },
  {
   "cell_type": "code",
   "execution_count": 21,
   "metadata": {},
   "outputs": [
    {
     "name": "stdout",
     "output_type": "stream",
     "text": [
      "P^*@P =  [[1. 0. 0.]\n",
      " [0. 1. 0.]\n",
      " [0. 0. 1.]]\n",
      "La matriz de paso es ortogonal-unitaria.\n"
     ]
    }
   ],
   "source": [
    "# Matriz de paso ortogonal-unitaria.\n",
    "n = size(d)\n",
    "unit = conjugada(P)@P\n",
    "print(\"P^*@P = \", unit)\n",
    "mv = max(abs(unit - eye(n)))\n",
    "if mv > 1.e-10:\n",
    "    print(\"La matriz de paso no es ortogonal-unitaria.\")\n",
    "else:\n",
    "    print(\"La matriz de paso es ortogonal-unitaria.\")"
   ]
  },
  {
   "cell_type": "code",
   "execution_count": 19,
   "metadata": {},
   "outputs": [
    {
     "name": "stdout",
     "output_type": "stream",
     "text": [
      "Autovalor: lambda =  3.0  Autovector: x =  [0.89442719 0.         0.4472136 ]\n",
      "Autovalor: lambda =  -2.0  Autovector: x =  [-0.4472136   0.          0.89442719]\n",
      "Autovalor: lambda =  1.0  Autovector: x =  [0. 1. 0.]\n"
     ]
    }
   ],
   "source": [
    "# Autovalores y autovectores.\n",
    "n = size(d)\n",
    "for i in range(n):\n",
    "    print(\"Autovalor: lambda = \", d[i], \" Autovector: x = \", P[:, i])"
   ]
  },
  {
   "cell_type": "markdown",
   "metadata": {},
   "source": [
    "<div align=\"left\"><span style=\"font-family: Arial; color:#000000; font-size: medium\">\n",
    "    <span style=\"color:#FF0000\"><b>Ejercicio 3 (d).</b></span> Ídem con la matriz $A = \\left( \\begin{array}{rrr} 1 & 0 & 0 \\\\ -3 & 1 & 0 \\\\ 4 & -7 & 1 \\end{array} \\right)$.\n",
    "    </span></div>"
   ]
  },
  {
   "cell_type": "code",
   "execution_count": 22,
   "metadata": {},
   "outputs": [
    {
     "name": "stdout",
     "output_type": "stream",
     "text": [
      "Ejercicio 3-d.\n",
      "Matriz: A =  [[ 1  0  0]\n",
      " [-3  1  0]\n",
      " [ 4 -7  1]]\n",
      "Vector de autovalores: d =  [1. 1. 1.]\n",
      "Matriz de autovectores: P =  [[0.00000000e+00 0.00000000e+00 2.34780031e-33]\n",
      " [0.00000000e+00 3.17206578e-17 3.17206578e-17]\n",
      " [1.00000000e+00 1.00000000e+00 1.00000000e+00]]\n",
      "det(P) =  -7.447377042542653e-50\n",
      "La matriz no es diagonalizable.\n"
     ]
    }
   ],
   "source": [
    "# Ejercicio 3-d.\n",
    "print(\"Ejercicio 3-d.\")\n",
    "A = array([[1, 0 ,0], [-3, 1, 0], [4, -7, 1]])\n",
    "print(\"Matriz: A = \", A)\n",
    "d, P = eig(A)\n",
    "print(\"Vector de autovalores: d = \", d)\n",
    "print(\"Matriz de autovectores: P = \", P)\n",
    "detP = det(P)\n",
    "print(\"det(P) = \", detP)\n",
    "if abs(detP) > 1.e-10:\n",
    "    print(\"La matriz es diagonalizable.\")\n",
    "    D = inv(P)@A@P\n",
    "    print(\"inv(P)@A@P = \", D)\n",
    "    print(\"Comprobación: \", max(abs(D - diag(d))))\n",
    "else:\n",
    "    print(\"La matriz no es diagonalizable.\")"
   ]
  },
  {
   "cell_type": "code",
   "execution_count": 23,
   "metadata": {},
   "outputs": [
    {
     "name": "stdout",
     "output_type": "stream",
     "text": [
      "A@A^* - A^*@A =  [[-25  28   0]\n",
      " [ 28 -40 -12]\n",
      " [  0 -12  65]]\n",
      "La matriz no es normal.\n"
     ]
    }
   ],
   "source": [
    "# Matriz normal.\n",
    "normal = A@conjugada(A) - conjugada(A)@A\n",
    "print(\"A@A^* - A^*@A = \", normal)\n",
    "mv = max(abs(normal))\n",
    "if mv > 1.e-10:\n",
    "    print(\"La matriz no es normal.\")\n",
    "else:\n",
    "    print(\"La matriz es normal.\")"
   ]
  },
  {
   "cell_type": "code",
   "execution_count": 24,
   "metadata": {},
   "outputs": [
    {
     "name": "stdout",
     "output_type": "stream",
     "text": [
      "P^*@P =  [[1. 1. 1.]\n",
      " [1. 1. 1.]\n",
      " [1. 1. 1.]]\n",
      "La matriz de paso no es ortogonal-unitaria.\n"
     ]
    }
   ],
   "source": [
    "# Matriz de paso ortogonal-unitaria.\n",
    "n = size(d)\n",
    "unit = conjugada(P)@P\n",
    "print(\"P^*@P = \", unit)\n",
    "mv = max(abs(unit - eye(n)))\n",
    "if mv > 1.e-10:\n",
    "    print(\"La matriz de paso no es ortogonal-unitaria.\")\n",
    "else:\n",
    "    print(\"La matriz de paso es ortogonal-unitaria.\")"
   ]
  },
  {
   "cell_type": "code",
   "execution_count": 25,
   "metadata": {},
   "outputs": [
    {
     "name": "stdout",
     "output_type": "stream",
     "text": [
      "Autovalor: lambda =  1.0  Autovector: x =  [0. 0. 1.]\n",
      "Autovalor: lambda =  1.0  Autovector: x =  [0.00000000e+00 3.17206578e-17 1.00000000e+00]\n",
      "Autovalor: lambda =  1.0  Autovector: x =  [2.34780031e-33 3.17206578e-17 1.00000000e+00]\n"
     ]
    }
   ],
   "source": [
    "# Autovalores y autovectores.\n",
    "n = size(d)\n",
    "for i in range(n):\n",
    "    print(\"Autovalor: lambda = \", d[i], \" Autovector: x = \", P[:, i])"
   ]
  },
  {
   "cell_type": "markdown",
   "metadata": {},
   "source": [
    "<div align=\"left\"><span style=\"font-family: Arial; color:#000000; font-size: medium\">\n",
    "    <span style=\"color:#FF0000\"><b>Ejercicio 3 (e).</b></span> Ídem con la matriz $A = \\left( \\begin{array}{rrrr} 1 & 0 & 0 & 1 \\\\ 0 & 1 & 0 & 0 \\\\ 0 & 0 & 1 & -2 \\\\ 1 & 0 & -2 & 5 \\end{array} \\right)$.\n",
    "    </span></div>"
   ]
  },
  {
   "cell_type": "code",
   "execution_count": 26,
   "metadata": {},
   "outputs": [
    {
     "name": "stdout",
     "output_type": "stream",
     "text": [
      "Ejercicio 3-e.\n",
      "Matriz: A =  [[ 1  0  0  1]\n",
      " [ 0  1  0  0]\n",
      " [ 0  0  1 -2]\n",
      " [ 1  0 -2  5]]\n",
      "Vector de autovalores: d =  [6.00000000e+00 1.00000000e+00 4.59534891e-17 1.00000000e+00]\n",
      "Matriz de autovectores: P =  [[-1.82574186e-01  8.94427191e-01 -4.08248290e-01  0.00000000e+00]\n",
      " [ 0.00000000e+00  0.00000000e+00  0.00000000e+00  1.00000000e+00]\n",
      " [ 3.65148372e-01  4.47213595e-01  8.16496581e-01  0.00000000e+00]\n",
      " [-9.12870929e-01  6.94835567e-17  4.08248290e-01  0.00000000e+00]]\n",
      "det(P) =  -1.0\n",
      "La matriz es diagonalizable.\n",
      "inv(P)@A@P =  [[ 6.00000000e+00 -6.02621719e-16  4.44089210e-16  0.00000000e+00]\n",
      " [-3.90242926e-16  1.00000000e+00  1.19010791e-16  0.00000000e+00]\n",
      " [ 0.00000000e+00  0.00000000e+00  0.00000000e+00  0.00000000e+00]\n",
      " [ 0.00000000e+00  0.00000000e+00  0.00000000e+00  1.00000000e+00]]\n",
      "Comprobación:  6.026217186954206e-16\n"
     ]
    }
   ],
   "source": [
    "# Ejercicio 3-e.\n",
    "print(\"Ejercicio 3-e.\")\n",
    "A = array([[1, 0 ,0, 1], [0, 1, 0, 0], [0, 0, 1, -2], [1, 0, -2, 5]])\n",
    "print(\"Matriz: A = \", A)\n",
    "d, P = eig(A)\n",
    "print(\"Vector de autovalores: d = \", d)\n",
    "print(\"Matriz de autovectores: P = \", P)\n",
    "detP = det(P)\n",
    "print(\"det(P) = \", detP)\n",
    "if abs(detP) > 1.e-10:\n",
    "    print(\"La matriz es diagonalizable.\")\n",
    "    D = inv(P)@A@P\n",
    "    print(\"inv(P)@A@P = \", D)\n",
    "    print(\"Comprobación: \", max(abs(D - diag(d))))\n",
    "else:\n",
    "    print(\"La matriz no es diagonalizable.\")"
   ]
  },
  {
   "cell_type": "code",
   "execution_count": 27,
   "metadata": {},
   "outputs": [
    {
     "name": "stdout",
     "output_type": "stream",
     "text": [
      "A@A^* - A^*@A =  [[0 0 0 0]\n",
      " [0 0 0 0]\n",
      " [0 0 0 0]\n",
      " [0 0 0 0]]\n",
      "La matriz es normal.\n"
     ]
    }
   ],
   "source": [
    "# Matriz normal.\n",
    "normal = A@conjugada(A) - conjugada(A)@A\n",
    "print(\"A@A^* - A^*@A = \", normal)\n",
    "mv = max(abs(normal))\n",
    "if mv > 1.e-10:\n",
    "    print(\"La matriz no es normal.\")\n",
    "else:\n",
    "    print(\"La matriz es normal.\")"
   ]
  },
  {
   "cell_type": "code",
   "execution_count": 28,
   "metadata": {},
   "outputs": [
    {
     "name": "stdout",
     "output_type": "stream",
     "text": [
      "P^*@P =  [[ 1.00000000e+00 -7.91836773e-18  1.66533454e-16  0.00000000e+00]\n",
      " [-7.91836773e-18  1.00000000e+00  2.83665432e-17  0.00000000e+00]\n",
      " [ 1.66533454e-16  2.83665432e-17  1.00000000e+00  0.00000000e+00]\n",
      " [ 0.00000000e+00  0.00000000e+00  0.00000000e+00  1.00000000e+00]]\n",
      "La matriz de paso es ortogonal-unitaria.\n"
     ]
    }
   ],
   "source": [
    "# Matriz de paso ortogonal-unitaria.\n",
    "n = size(d)\n",
    "unit = conjugada(P)@P\n",
    "print(\"P^*@P = \", unit)\n",
    "mv = max(abs(unit - eye(n)))\n",
    "if mv > 1.e-10:\n",
    "    print(\"La matriz de paso no es ortogonal-unitaria.\")\n",
    "else:\n",
    "    print(\"La matriz de paso es ortogonal-unitaria.\")"
   ]
  },
  {
   "cell_type": "code",
   "execution_count": 29,
   "metadata": {},
   "outputs": [
    {
     "name": "stdout",
     "output_type": "stream",
     "text": [
      "Autovalor: lambda =  6.0  Autovector: x =  [-0.18257419  0.          0.36514837 -0.91287093]\n",
      "Autovalor: lambda =  1.0000000000000002  Autovector: x =  [8.94427191e-01 0.00000000e+00 4.47213595e-01 6.94835567e-17]\n",
      "Autovalor: lambda =  4.595348908876999e-17  Autovector: x =  [-0.40824829  0.          0.81649658  0.40824829]\n",
      "Autovalor: lambda =  1.0  Autovector: x =  [0. 1. 0. 0.]\n"
     ]
    }
   ],
   "source": [
    "# Autovalores y autovectores.\n",
    "n = size(d)\n",
    "for i in range(n):\n",
    "    print(\"Autovalor: lambda = \", d[i], \" Autovector: x = \", P[:, i])"
   ]
  },
  {
   "cell_type": "markdown",
   "metadata": {},
   "source": [
    "<div align=\"left\"><span style=\"font-family: Arial; color:#000000; font-size: medium\">\n",
    "    <span style=\"color:#FF0000\"><b>Ejercicio 3 (f).</b></span> Ídem con la matriz $A = \\left( \\begin{array}{rrrr} 7 & 1 & 1 & 1 \\\\ 1 & 7 & 1 & 1 \\\\ 1 & 1 & 7 & 1 \\\\ 1 & 1 & 1 & 7 \\end{array} \\right)$.\n",
    "    </span></div>"
   ]
  },
  {
   "cell_type": "code",
   "execution_count": 30,
   "metadata": {},
   "outputs": [
    {
     "name": "stdout",
     "output_type": "stream",
     "text": [
      "Ejercicio 3-f.\n",
      "Matriz: A =  [[7. 1. 1. 1.]\n",
      " [1. 7. 1. 1.]\n",
      " [1. 1. 7. 1.]\n",
      " [1. 1. 1. 7.]]\n",
      "Vector de autovalores: d =  [ 6. 10.  6.  6.]\n",
      "Matriz de autovectores: P =  [[-0.8660254   0.5        -0.11095038 -0.06189687]\n",
      " [ 0.28867513  0.5         0.84675161  0.47238482]\n",
      " [ 0.28867513  0.5        -0.36790061 -0.79208773]\n",
      " [ 0.28867513  0.5        -0.36790061  0.38159978]]\n",
      "det(P) =  0.8230833252150771\n",
      "La matriz es diagonalizable.\n",
      "inv(P)@A@P =  [[ 6.00000000e+00  0.00000000e+00  2.22044605e-16 -2.22044605e-16]\n",
      " [-6.66133815e-16  1.00000000e+01 -2.22044605e-16 -6.66133815e-16]\n",
      " [ 4.44089210e-16  8.88178420e-16  6.00000000e+00  1.33226763e-15]\n",
      " [ 0.00000000e+00  0.00000000e+00  0.00000000e+00  6.00000000e+00]]\n",
      "Comprobación:  1.3322676295501878e-15\n"
     ]
    }
   ],
   "source": [
    "# Ejercicio 3-f.\n",
    "print(\"Ejercicio 3-f.\")\n",
    "A = ones((4, 4)) + 6*eye(4)\n",
    "print(\"Matriz: A = \", A)\n",
    "d, P = eig(A)\n",
    "print(\"Vector de autovalores: d = \", d)\n",
    "print(\"Matriz de autovectores: P = \", P)\n",
    "detP = det(P)\n",
    "print(\"det(P) = \", detP)\n",
    "if abs(detP) > 1.e-10:\n",
    "    print(\"La matriz es diagonalizable.\")\n",
    "    D = inv(P)@A@P\n",
    "    print(\"inv(P)@A@P = \", D)\n",
    "    print(\"Comprobación: \", max(abs(D - diag(d))))\n",
    "else:\n",
    "    print(\"La matriz no es diagonalizable.\")"
   ]
  },
  {
   "cell_type": "code",
   "execution_count": 31,
   "metadata": {},
   "outputs": [
    {
     "name": "stdout",
     "output_type": "stream",
     "text": [
      "A@A^* - A^*@A =  [[0. 0. 0. 0.]\n",
      " [0. 0. 0. 0.]\n",
      " [0. 0. 0. 0.]\n",
      " [0. 0. 0. 0.]]\n",
      "La matriz es normal.\n"
     ]
    }
   ],
   "source": [
    "# Matriz normal.\n",
    "normal = A@conjugada(A) - conjugada(A)@A\n",
    "print(\"A@A^* - A^*@A = \", normal)\n",
    "mv = max(abs(normal))\n",
    "if mv > 1.e-10:\n",
    "    print(\"La matriz no es normal.\")\n",
    "else:\n",
    "    print(\"La matriz es normal.\")"
   ]
  },
  {
   "cell_type": "code",
   "execution_count": 32,
   "metadata": {},
   "outputs": [
    {
     "name": "stdout",
     "output_type": "stream",
     "text": [
      "P^*@P =  [[1.00000000e+00 0.00000000e+00 1.28114463e-01 7.14723506e-02]\n",
      " [0.00000000e+00 1.00000000e+00 1.11022302e-16 2.77555756e-17]\n",
      " [1.28114463e-01 1.11022302e-16 1.00000000e+00 5.57878859e-01]\n",
      " [7.14723506e-02 2.77555756e-17 5.57878859e-01 1.00000000e+00]]\n",
      "La matriz de paso no es ortogonal-unitaria.\n"
     ]
    }
   ],
   "source": [
    "# Matriz de paso ortogonal-unitaria.\n",
    "n = size(d)\n",
    "unit = conjugada(P)@P\n",
    "print(\"P^*@P = \", unit)\n",
    "mv = max(abs(unit - eye(n)))\n",
    "if mv > 1.e-10:\n",
    "    print(\"La matriz de paso no es ortogonal-unitaria.\")\n",
    "else:\n",
    "    print(\"La matriz de paso es ortogonal-unitaria.\")"
   ]
  },
  {
   "cell_type": "code",
   "execution_count": 33,
   "metadata": {},
   "outputs": [
    {
     "name": "stdout",
     "output_type": "stream",
     "text": [
      "Autovalor: lambda =  6.0  Autovector: x =  [-0.8660254   0.28867513  0.28867513  0.28867513]\n",
      "Autovalor: lambda =  10.0  Autovector: x =  [0.5 0.5 0.5 0.5]\n",
      "Autovalor: lambda =  5.999999999999999  Autovector: x =  [-0.11095038  0.84675161 -0.36790061 -0.36790061]\n",
      "Autovalor: lambda =  6.0  Autovector: x =  [-0.06189687  0.47238482 -0.79208773  0.38159978]\n"
     ]
    }
   ],
   "source": [
    "# Autovalores y autovectores.\n",
    "n = size(d)\n",
    "for i in range(n):\n",
    "    print(\"Autovalor: lambda = \", d[i], \" Autovector: x = \", P[:, i])"
   ]
  },
  {
   "cell_type": "markdown",
   "metadata": {},
   "source": [
    "<div align=\"left\"><span style=\"font-family: Arial; color:#000000; font-size: medium\">\n",
    "    Dada una matriz $A\\in\\mathcal{M}_n(\\mathbb{K})$, sus <b>valores singulares</b> pueden calcularse con la ayuda de la función <span style=\"font-family: Courier\">svd()</span>; esta función tiene un único argumento de entrada que es la matriz cuadrada $A$ y tiene tres argumentos de salida, siendo el segundo un vector de $n$ componentes (reales y mayores o iguales que 0) conteniendo a los valores singulares (en un orden arbitrario y repetidos en caso de multiplicidad mayor que uno) y el primero y tercero las  dos matrices de orden $n$ ortogonales-unitarias de su descomposición en valores singulares.\n",
    "    <br>\n",
    "    Si llamamos $S$ a la matriz diagonal cuyos elementos diagonales son los valores singulares de $A$ (en el orden que proporciona la función <span style=\"font-family: Courier\">svd()</span>) y $U$ y $V$ las matrices ortogonales-unitarias que se obtienen como primera y tercera salida de dicha función, se verifica que $U\\,S\\,V=A$.\n",
    "    </span></div>"
   ]
  },
  {
   "cell_type": "markdown",
   "metadata": {},
   "source": [
    "<div align=\"left\"><span style=\"font-family: Arial; color:#000000; font-size: medium\">\n",
    "    <span style=\"color:#FF0000\"><b>Ejercicio 4 (a).</b></span> Realizar la descomposición en valores singulares de la matriz $A = \\left( \\begin{array}{rr} 3 & 1 \\\\ 0 & 1 \\end{array} \\right)$.\n",
    "    </span></div>"
   ]
  },
  {
   "cell_type": "code",
   "execution_count": 34,
   "metadata": {},
   "outputs": [
    {
     "name": "stdout",
     "output_type": "stream",
     "text": [
      "Ejercicio 4-a.\n",
      "Matriz: A =  [[3 1]\n",
      " [0 1]]\n",
      "Vector de valores singulares: s =  [3.1795868  0.94351882]\n",
      "Matrices ortogonales-unitarias de la descomposición en valores singulares:\n",
      "U =  [[ 0.99402894 -0.10911677]\n",
      " [ 0.10911677  0.99402894]]\n",
      "V =  [[ 0.93788501  0.34694625]\n",
      " [-0.34694625  0.93788501]]\n",
      "U@diag(s)@V =  [[3. 1.]\n",
      " [0. 1.]]\n",
      "Comprobación:  8.881784197001252e-16\n"
     ]
    }
   ],
   "source": [
    "# Ejercicio 4-a.\n",
    "print(\"Ejercicio 4-a.\")\n",
    "A = array([[3, 1], [0, 1]])\n",
    "print(\"Matriz: A = \", A)\n",
    "U, s, V = svd(A)\n",
    "print(\"Vector de valores singulares: s = \", s)\n",
    "print(\"Matrices ortogonales-unitarias de la descomposición en valores singulares:\")\n",
    "print(\"U = \", U)\n",
    "print(\"V = \", V)\n",
    "DVS = U@diag(s)@V\n",
    "print(\"U@diag(s)@V = \", DVS)\n",
    "print(\"Comprobación: \", max(abs(DVS - A)))"
   ]
  },
  {
   "cell_type": "markdown",
   "metadata": {},
   "source": [
    "<div align=\"left\"><span style=\"font-family: Arial; color:#000000; font-size: medium\">\n",
    "    <span style=\"color:#FF0000\"><b>Ejercicio 4 (b).</b></span> Ídem con la matriz $A = \\left( \\begin{array}{rr} 0 & -2 \\\\ 2 & 0 \\end{array} \\right)$.\n",
    "    </span></div>"
   ]
  },
  {
   "cell_type": "code",
   "execution_count": 35,
   "metadata": {},
   "outputs": [
    {
     "name": "stdout",
     "output_type": "stream",
     "text": [
      "Ejercicio 4-b.\n",
      "Matriz: A =  [[ 0 -2]\n",
      " [ 2  0]]\n",
      "Vector de valores singulares: s =  [2. 2.]\n",
      "Matrices ortogonales-unitarias de la descomposición en valores singulares:\n",
      "U =  [[ 0. -1.]\n",
      " [-1.  0.]]\n",
      "V =  [[-1. -0.]\n",
      " [ 0.  1.]]\n",
      "U@diag(s)@V =  [[ 0. -2.]\n",
      " [ 2.  0.]]\n",
      "Comprobación:  0.0\n"
     ]
    }
   ],
   "source": [
    "# Ejercicio 4-b.\n",
    "print(\"Ejercicio 4-b.\")\n",
    "A = array([[0, -2], [2, 0]])\n",
    "print(\"Matriz: A = \", A)\n",
    "U, s, V = svd(A)\n",
    "print(\"Vector de valores singulares: s = \", s)\n",
    "print(\"Matrices ortogonales-unitarias de la descomposición en valores singulares:\")\n",
    "print(\"U = \", U)\n",
    "print(\"V = \", V)\n",
    "DVS = U@diag(s)@V\n",
    "print(\"U@diag(s)@V = \", DVS)\n",
    "print(\"Comprobación: \", max(abs(DVS - A)))"
   ]
  },
  {
   "cell_type": "markdown",
   "metadata": {},
   "source": [
    "<div align=\"left\"><span style=\"font-family: Arial; color:#000000; font-size: medium\">\n",
    "    <span style=\"color:#FF0000\"><b>Ejercicio 4 (c).</b></span> Ídem con la matriz $A = \\left( \\begin{array}{rrr} 2 & 0 & 2 \\\\ 0 & 1 & 0 \\\\ 2 & 0 & -1 \\end{array} \\right)$.\n",
    "    </span></div>"
   ]
  },
  {
   "cell_type": "code",
   "execution_count": 36,
   "metadata": {},
   "outputs": [
    {
     "name": "stdout",
     "output_type": "stream",
     "text": [
      "Ejercicio 4-c.\n",
      "Matriz: A =  [[ 2  0  2]\n",
      " [ 0  1  0]\n",
      " [ 2  0 -1]]\n",
      "Vector de valores singulares: s =  [3. 2. 1.]\n",
      "Matrices ortogonales-unitarias de la descomposición en valores singulares:\n",
      "U =  [[-0.89442719 -0.4472136   0.        ]\n",
      " [ 0.          0.          1.        ]\n",
      " [-0.4472136   0.89442719  0.        ]]\n",
      "V =  [[-0.89442719  0.         -0.4472136 ]\n",
      " [ 0.4472136   0.         -0.89442719]\n",
      " [ 0.          1.          0.        ]]\n",
      "U@diag(s)@V =  [[ 2.  0.  2.]\n",
      " [ 0.  1.  0.]\n",
      " [ 2.  0. -1.]]\n",
      "Comprobación:  1.7763568394002505e-15\n"
     ]
    }
   ],
   "source": [
    "# Ejercicio 4-c.\n",
    "print(\"Ejercicio 4-c.\")\n",
    "A = array([[2, 0 ,2], [0, 1, 0], [2, 0, -1]])\n",
    "print(\"Matriz: A = \", A)\n",
    "U, s, V = svd(A)\n",
    "print(\"Vector de valores singulares: s = \", s)\n",
    "print(\"Matrices ortogonales-unitarias de la descomposición en valores singulares:\")\n",
    "print(\"U = \", U)\n",
    "print(\"V = \", V)\n",
    "DVS = U@diag(s)@V\n",
    "print(\"U@diag(s)@V = \", DVS)\n",
    "print(\"Comprobación: \", max(abs(DVS - A)))"
   ]
  },
  {
   "cell_type": "markdown",
   "metadata": {},
   "source": [
    "<div align=\"left\"><span style=\"font-family: Arial; color:#000000; font-size: medium\">\n",
    "    <span style=\"color:#FF0000\"><b>Ejercicio 4 (d).</b></span> Ídem con la matriz $A = \\left( \\begin{array}{rrr} 1 & 0 & 0 \\\\ -3 & 1 & 0 \\\\ 4 & -7 & 1 \\end{array} \\right)$.\n",
    "    </span></div>"
   ]
  },
  {
   "cell_type": "code",
   "execution_count": 37,
   "metadata": {},
   "outputs": [
    {
     "name": "stdout",
     "output_type": "stream",
     "text": [
      "Ejercicio 4-d.\n",
      "Matriz: A =  [[ 1  0  0]\n",
      " [-3  1  0]\n",
      " [ 4 -7  1]]\n",
      "Vector de valores singulares: s =  [8.49406432 2.20182024 0.05346907]\n",
      "Matrices ortogonales-unitarias de la descomposición en valores singulares:\n",
      "U =  [[-0.06601923  0.37536832 -0.92452154]\n",
      " [ 0.29463434 -0.87789606 -0.3774773 ]\n",
      " [-0.95332684 -0.29731656 -0.05263838]]\n",
      "V =  [[-0.56077155  0.8203284  -0.11223447]\n",
      " [ 0.82649357  0.54651139 -0.13503217]\n",
      " [-0.0494333  -0.16848327 -0.98446419]]\n",
      "U@diag(s)@V =  [[ 1.00000000e+00  1.58143382e-15 -2.78226301e-16]\n",
      " [-3.00000000e+00  1.00000000e+00  2.65531314e-16]\n",
      " [ 4.00000000e+00 -7.00000000e+00  1.00000000e+00]]\n",
      "Comprobación:  1.7763568394002505e-15\n"
     ]
    }
   ],
   "source": [
    "# Ejercicio 4-d.\n",
    "print(\"Ejercicio 4-d.\")\n",
    "A = array([[1, 0 ,0], [-3, 1, 0], [4, -7, 1]])\n",
    "print(\"Matriz: A = \", A)\n",
    "U, s, V = svd(A)\n",
    "print(\"Vector de valores singulares: s = \", s)\n",
    "print(\"Matrices ortogonales-unitarias de la descomposición en valores singulares:\")\n",
    "print(\"U = \", U)\n",
    "print(\"V = \", V)\n",
    "DVS = U@diag(s)@V\n",
    "print(\"U@diag(s)@V = \", DVS)\n",
    "print(\"Comprobación: \", max(abs(DVS - A)))"
   ]
  },
  {
   "cell_type": "markdown",
   "metadata": {},
   "source": [
    "<div align=\"left\"><span style=\"font-family: Arial; color:#000000; font-size: medium\">\n",
    "    <span style=\"color:#FF0000\"><b>Ejercicio 4 (e).</b></span> Ídem con la matriz $A = \\left( \\begin{array}{rrrr} 1 & 0 & 0 & 1 \\\\ 0 & 1 & 0 & 0 \\\\ 0 & 0 & 1 & -2 \\\\ 1 & 0 & -2 & 5 \\end{array} \\right)$.\n",
    "    </span></div>"
   ]
  },
  {
   "cell_type": "code",
   "execution_count": 38,
   "metadata": {},
   "outputs": [
    {
     "name": "stdout",
     "output_type": "stream",
     "text": [
      "Ejercicio 4-e.\n",
      "Matriz: A =  [[ 1  0  0  1]\n",
      " [ 0  1  0  0]\n",
      " [ 0  0  1 -2]\n",
      " [ 1  0 -2  5]]\n",
      "Vector de valores singulares: s =  [6.000000e+00 1.000000e+00 1.000000e+00 1.128133e-16]\n",
      "Matrices ortogonales-unitarias de la descomposición en valores singulares:\n",
      "U =  [[-1.82574186e-01  8.94427191e-01 -7.25938612e-17 -4.08248290e-01]\n",
      " [ 0.00000000e+00 -2.22044605e-16 -1.00000000e+00 -2.22044605e-16]\n",
      " [ 3.65148372e-01  4.47213595e-01 -6.40987562e-17  8.16496581e-01]\n",
      " [-9.12870929e-01 -2.90131299e-17 -1.01405595e-16  4.08248290e-01]]\n",
      "V =  [[-1.82574186e-01  0.00000000e+00  3.65148372e-01 -9.12870929e-01]\n",
      " [ 8.94427191e-01 -2.22044605e-16  4.47213595e-01 -5.06007537e-17]\n",
      " [-1.73999456e-16 -1.00000000e+00 -1.11022302e-16 -1.11022302e-16]\n",
      " [ 4.08248290e-01 -2.77555756e-17 -8.16496581e-01 -4.08248290e-01]]\n",
      "U@diag(s)@V =  [[ 1.00000000e+00 -1.26008871e-16  5.55111512e-16  1.00000000e+00]\n",
      " [-2.46032764e-17  1.00000000e+00  1.17209363e-17  1.11022302e-16]\n",
      " [ 0.00000000e+00 -3.52026099e-17  1.00000000e+00 -2.00000000e+00]\n",
      " [ 1.00000000e+00  1.01405595e-16 -2.00000000e+00  5.00000000e+00]]\n",
      "Comprobación:  1.7763568394002505e-15\n"
     ]
    }
   ],
   "source": [
    "# Ejercicio 4-e.\n",
    "print(\"Ejercicio 4-e.\")\n",
    "A = array([[1, 0 ,0, 1], [0, 1, 0, 0], [0, 0, 1, -2], [1, 0, -2, 5]])\n",
    "print(\"Matriz: A = \", A)\n",
    "U, s, V = svd(A)\n",
    "print(\"Vector de valores singulares: s = \", s)\n",
    "print(\"Matrices ortogonales-unitarias de la descomposición en valores singulares:\")\n",
    "print(\"U = \", U)\n",
    "print(\"V = \", V)\n",
    "DVS = U@diag(s)@V\n",
    "print(\"U@diag(s)@V = \", DVS)\n",
    "print(\"Comprobación: \", max(abs(DVS - A)))"
   ]
  },
  {
   "cell_type": "markdown",
   "metadata": {},
   "source": [
    "<div align=\"left\"><span style=\"font-family: Arial; color:#000000; font-size: medium\">\n",
    "    <span style=\"color:#FF0000\"><b>Ejercicio 4 (f).</b></span> Ídem con la matriz $A = \\left( \\begin{array}{rrrr} 7 & 1 & 1 & 1 \\\\ 1 & 7 & 1 & 1 \\\\ 1 & 1 & 7 & 1 \\\\ 1 & 1 & 1 & 7 \\end{array} \\right)$.\n",
    "    </span></div>"
   ]
  },
  {
   "cell_type": "code",
   "execution_count": 39,
   "metadata": {},
   "outputs": [
    {
     "name": "stdout",
     "output_type": "stream",
     "text": [
      "Ejercicio 4-f.\n",
      "Matriz: A =  [[7. 1. 1. 1.]\n",
      " [1. 7. 1. 1.]\n",
      " [1. 1. 7. 1.]\n",
      " [1. 1. 1. 7.]]\n",
      "Vector de valores singulares: s =  [10.  6.  6.  6.]\n",
      "Matrices ortogonales-unitarias de la descomposición en valores singulares:\n",
      "U =  [[-5.00000000e-01  8.66025404e-01  0.00000000e+00 -5.46986163e-17]\n",
      " [-5.00000000e-01 -2.88675135e-01 -8.75605293e-17  8.16496581e-01]\n",
      " [-5.00000000e-01 -2.88675135e-01 -7.07106781e-01 -4.08248290e-01]\n",
      " [-5.00000000e-01 -2.88675135e-01  7.07106781e-01 -4.08248290e-01]]\n",
      "V =  [[-5.00000000e-01 -5.00000000e-01 -5.00000000e-01 -5.00000000e-01]\n",
      " [ 8.66025404e-01 -2.88675135e-01 -2.88675135e-01 -2.88675135e-01]\n",
      " [ 0.00000000e+00 -6.99362418e-17 -7.07106781e-01  7.07106781e-01]\n",
      " [ 0.00000000e+00  8.16496581e-01 -4.08248290e-01 -4.08248290e-01]]\n",
      "U@diag(s)@V =  [[7. 1. 1. 1.]\n",
      " [1. 7. 1. 1.]\n",
      " [1. 1. 7. 1.]\n",
      " [1. 1. 1. 7.]]\n",
      "Comprobación:  3.1086244689504383e-15\n"
     ]
    }
   ],
   "source": [
    "# Ejercicio 4-f.\n",
    "print(\"Ejercicio 4-f.\")\n",
    "A = ones((4, 4)) + 6*eye(4)\n",
    "print(\"Matriz: A = \", A)\n",
    "U, s, V = svd(A)\n",
    "print(\"Vector de valores singulares: s = \", s)\n",
    "print(\"Matrices ortogonales-unitarias de la descomposición en valores singulares:\")\n",
    "print(\"U = \", U)\n",
    "print(\"V = \", V)\n",
    "DVS = U@diag(s)@V\n",
    "print(\"U@diag(s)@V = \", DVS)\n",
    "print(\"Comprobación: \", max(abs(DVS - A)))"
   ]
  },
  {
   "cell_type": "markdown",
   "metadata": {},
   "source": [
    "<div align=\"left\"><span style=\"font-family: Arial; color:#000000; font-size: medium\">\n",
    "    <span style=\"color:#FF0000\"><b>Ejercicio 5.</b></span> En aquellos casos del Ejercicio 3 en los que hay autovalores con multiplicidad (dimensión algebraica) mayor que 1, comprobar cuando la dimensión geométrica de los mismos es igual o no (y por tanto la matriz es o no diagonalizable).\n",
    "    <br>\n",
    "    <i>Indicación:</i> la función <span style=\"font-family: Courier\">matrix_rank()</span>, cuyo parámetro de entrada es una matriz (no necesariamente cuadrada), devuelve el rango de la misma.\n",
    "    </span></div>"
   ]
  },
  {
   "cell_type": "code",
   "execution_count": 40,
   "metadata": {},
   "outputs": [
    {
     "name": "stdout",
     "output_type": "stream",
     "text": [
      "Ejercicio 3-d.\n",
      "Matriz: A =  [[ 1  0  0]\n",
      " [-3  1  0]\n",
      " [ 4 -7  1]]\n",
      "Vector de autovalores: d =  [1. 1. 1.]\n",
      "Matriz de autovectores: P =  [[0.00000000e+00 0.00000000e+00 2.34780031e-33]\n",
      " [0.00000000e+00 3.17206578e-17 3.17206578e-17]\n",
      " [1.00000000e+00 1.00000000e+00 1.00000000e+00]]\n",
      "det(P) =  -7.447377042542653e-50\n",
      "La matriz no es diagonalizable.\n"
     ]
    }
   ],
   "source": [
    "# Ejercicio 3-d.\n",
    "print(\"Ejercicio 3-d.\")\n",
    "A = array([[1, 0 ,0], [-3, 1, 0], [4, -7, 1]])\n",
    "print(\"Matriz: A = \", A)\n",
    "d, P = eig(A)\n",
    "print(\"Vector de autovalores: d = \", d)\n",
    "print(\"Matriz de autovectores: P = \", P)\n",
    "detP = det(P)\n",
    "print(\"det(P) = \", detP)\n",
    "if abs(detP) > 1.e-10:\n",
    "    print(\"La matriz es diagonalizable.\")\n",
    "    D = inv(P)@A@P\n",
    "    print(\"inv(P)@A@P = \", D)\n",
    "    print(\"Comprobación: \", max(abs(D - diag(d))))\n",
    "else:\n",
    "    print(\"La matriz no es diagonalizable.\")"
   ]
  },
  {
   "cell_type": "code",
   "execution_count": 41,
   "metadata": {},
   "outputs": [
    {
     "name": "stdout",
     "output_type": "stream",
     "text": [
      "El autovalor 1 tiene multiplicidad (dimensión algebraica) 3.\n",
      "Su dimensión geométrica es  1\n",
      "Por tanto la matriz no es diagonalizable.\n"
     ]
    }
   ],
   "source": [
    "# Ejercicio 5.\n",
    "print(\"El autovalor 1 tiene multiplicidad (dimensión algebraica) 3.\")\n",
    "dg = matrix_rank(P)\n",
    "print(\"Su dimensión geométrica es \", dg)\n",
    "print(\"Por tanto la matriz no es diagonalizable.\")"
   ]
  },
  {
   "cell_type": "code",
   "execution_count": null,
   "metadata": {},
   "outputs": [],
   "source": []
  },
  {
   "cell_type": "markdown",
   "metadata": {},
   "source": [
    "<div align=\"left\"><span style=\"font-family: Arial; color:#000000; font-size: medium\">\n",
    "    <span style=\"color:#FF0000\"><b>Ejercicio 6.</b></span> En aquellos casos del Ejercicio 3 en los que la matriz es normal y por tanto diagonalizable con matriz de paso unitaria, pero la matriz de paso obtenida no lo es, obtener una nueva matriz de paso que sí lo sea.\n",
    "    <br>\n",
    "    <i>Indicación:</i> la función <span style=\"font-family: Courier\">qr()</span>, cuyo parámetro de entrada es una matriz (no necesariamente cuadrada), devuelve dos matrices, siendo la primera de ellas la ortonormalización de Gram-Schmidt de los vectores columnas de la matriz dada.\n",
    "    </span></div>"
   ]
  },
  {
   "cell_type": "code",
   "execution_count": 2,
   "metadata": {},
   "outputs": [
    {
     "name": "stdout",
     "output_type": "stream",
     "text": [
      "Ejercicio 3-f.\n",
      "Matriz: A =  [[7. 1. 1. 1.]\n",
      " [1. 7. 1. 1.]\n",
      " [1. 1. 7. 1.]\n",
      " [1. 1. 1. 7.]]\n",
      "Vector de autovalores: d =  [ 6. 10.  6.  6.]\n",
      "Matriz de autovectores: P =  [[-0.8660254   0.5        -0.11095038 -0.06189687]\n",
      " [ 0.28867513  0.5         0.84675161  0.47238482]\n",
      " [ 0.28867513  0.5        -0.36790061 -0.79208773]\n",
      " [ 0.28867513  0.5        -0.36790061  0.38159978]]\n",
      "det(P) =  0.8230833252150771\n",
      "La matriz es diagonalizable.\n",
      "inv(P)@A@P =  [[ 6.00000000e+00  0.00000000e+00  2.22044605e-16 -2.22044605e-16]\n",
      " [-6.66133815e-16  1.00000000e+01 -2.22044605e-16 -6.66133815e-16]\n",
      " [ 4.44089210e-16  8.88178420e-16  6.00000000e+00  1.33226763e-15]\n",
      " [ 0.00000000e+00  0.00000000e+00  0.00000000e+00  6.00000000e+00]]\n",
      "Comprobación:  1.3322676295501878e-15\n"
     ]
    }
   ],
   "source": [
    "# Ejercicio 3-f.\n",
    "print(\"Ejercicio 3-f.\")\n",
    "A = ones((4, 4)) + 6*eye(4)\n",
    "print(\"Matriz: A = \", A)\n",
    "d, P = eig(A)\n",
    "print(\"Vector de autovalores: d = \", d)\n",
    "print(\"Matriz de autovectores: P = \", P)\n",
    "detP = det(P)\n",
    "print(\"det(P) = \", detP)\n",
    "if abs(detP) > 1.e-10:\n",
    "    print(\"La matriz es diagonalizable.\")\n",
    "    D = inv(P)@A@P\n",
    "    print(\"inv(P)@A@P = \", D)\n",
    "    print(\"Comprobación: \", max(abs(D - diag(d))))\n",
    "else:\n",
    "    print(\"La matriz no es diagonalizable.\")"
   ]
  },
  {
   "cell_type": "code",
   "execution_count": 6,
   "metadata": {},
   "outputs": [
    {
     "name": "stdout",
     "output_type": "stream",
     "text": [
      "[[-8.66025404e-01 -5.00000000e-01 -5.17926092e-17  6.19757006e-19]\n",
      " [ 2.88675135e-01 -5.00000000e-01  8.16496581e-01 -8.76564061e-17]\n",
      " [ 2.88675135e-01 -5.00000000e-01 -4.08248290e-01 -7.07106781e-01]\n",
      " [ 2.88675135e-01 -5.00000000e-01 -4.08248290e-01  7.07106781e-01]]\n",
      "P^*@P =  [[ 1.00000000e+00 -1.11022302e-16  0.00000000e+00  0.00000000e+00]\n",
      " [-1.11022302e-16  1.00000000e+00 -8.32667268e-17  0.00000000e+00]\n",
      " [ 0.00000000e+00 -8.32667268e-17  1.00000000e+00 -1.11022302e-16]\n",
      " [ 0.00000000e+00  0.00000000e+00 -1.11022302e-16  1.00000000e+00]]\n",
      "La matriz de paso es ortogonal-unitaria.\n",
      "det(P) =  -0.9999999999999998\n",
      "La matriz es diagonalizable.\n",
      "inv(P)@A@P =  [[ 6.00000000e+00 -8.88178420e-16 -1.11022302e-16  0.00000000e+00]\n",
      " [-4.44089210e-16  1.00000000e+01  8.88178420e-16  0.00000000e+00]\n",
      " [ 0.00000000e+00  8.88178420e-16  6.00000000e+00  0.00000000e+00]\n",
      " [ 0.00000000e+00  0.00000000e+00  0.00000000e+00  6.00000000e+00]]\n",
      "Comprobación:  8.881784197001252e-16\n"
     ]
    }
   ],
   "source": [
    "#Ejercicio 6\n",
    "P, a = qr(P)\n",
    "print(P)\n",
    "# Matriz de paso ortogonal-unitaria.\n",
    "n = size(d)\n",
    "unit = conjugada(P)@P\n",
    "print(\"P^*@P = \", unit)\n",
    "mv = max(abs(unit - eye(n)))\n",
    "if mv > 1.e-10:\n",
    "    print(\"La matriz de paso no es ortogonal-unitaria.\")\n",
    "else:\n",
    "    print(\"La matriz de paso es ortogonal-unitaria.\")\n",
    "detP = det(P)\n",
    "print(\"det(P) = \", detP)\n",
    "if abs(detP) > 1.e-10:\n",
    "    print(\"La matriz es diagonalizable.\")\n",
    "    D = inv(P)@A@P\n",
    "    print(\"inv(P)@A@P = \", D)\n",
    "    print(\"Comprobación: \", max(abs(D - diag(d))))\n",
    "else:\n",
    "    print(\"La matriz no es diagonalizable.\")"
   ]
  },
  {
   "cell_type": "markdown",
   "metadata": {},
   "source": [
    "<div align=\"left\"><span style=\"font-family: Arial; color:#000000; font-size: medium\">\n",
    "    <span style=\"color:#FF0000\"><b>Ejercicio 7.</b></span> Para la matriz $A = \\left( \\begin{array}{rrr} 1 & 2 & 3 \\\\ 4 & 5 & 6\\\\ 7 & 8 & 9 \\end{array} \\right)$, comprobar que los valores singulares de $A$ son efectivamente las raíces cuadradas positivas de los autovalores de $A^*\\,A$.\n",
    "    </span></div>"
   ]
  },
  {
   "cell_type": "code",
   "execution_count": 15,
   "metadata": {},
   "outputs": [
    {
     "name": "stdout",
     "output_type": "stream",
     "text": [
      "autovalores de A*A: [2.83858587e+02 1.14141342e+00 1.03583089e-15]\n",
      "valores singulares de A:  [1.68481034e+01 1.06836951e+00 3.33475287e-16]\n",
      "Comprobación:  1.7053025658242404e-13\n"
     ]
    }
   ],
   "source": [
    "A=array([[1,2,3],[4,5,6],[7,8,9]])\n",
    "d, P = eig(conjugada(A)@A)\n",
    "U, s, V = svd(A)\n",
    "print(\"autovalores de A*A:\", d)\n",
    "print(\"valores singulares de A: \", s)\n",
    "print(\"Comprobación: \", max(abs(d - s*s)))\n"
   ]
  },
  {
   "cell_type": "markdown",
   "metadata": {},
   "source": [
    "<div align=\"left\"><span style=\"font-family: Arial; color:#000000; font-size: medium\">\n",
    "    <span style=\"color:#FF0000\"><b>Importante.</b></span> Durante el desarrollo de las clases prácticas vamos a crear un fichero <span style=\"font-family: Courier\">Python</span>, al que daremos el nombre de <span style=\"font-family: Courier\">algoritmos.py</span>, donde almacenaremos todas aquellas funciones propias que definamos durante el curso; esta será la <b>biblioteca</b> de nuestras funciones. A partir de ese momento, podremos utilizar dichas funciones en cualquier hoja de trabajo que estemos utilizando, sin más que importar dicho fichero al principio de la hoja de trabajo con una instrucción del tipo <span style=\"font-family: Courier\">from algoritmos import *</span>.\n",
    "    <br>\n",
    "    Cada vez que se modifique dicho fichero, no debemos olvidar guardar su contenido y reinicializar el núcleo de la hoja de trabajo para tener en cuenta dichas modificaciones.\n",
    "    </span></div>"
   ]
  },
  {
   "cell_type": "code",
   "execution_count": null,
   "metadata": {},
   "outputs": [],
   "source": []
  }
 ],
 "metadata": {
  "kernelspec": {
   "display_name": "Python 3",
   "language": "python",
   "name": "python3"
  },
  "language_info": {
   "codemirror_mode": {
    "name": "ipython",
    "version": 3
   },
   "file_extension": ".py",
   "mimetype": "text/x-python",
   "name": "python",
   "nbconvert_exporter": "python",
   "pygments_lexer": "ipython3",
   "version": "3.7.9"
  }
 },
 "nbformat": 4,
 "nbformat_minor": 5
}
