{
 "cells": [
  {
   "attachments": {},
   "cell_type": "markdown",
   "metadata": {},
   "source": [
    "<div align=\"center\"><span style=\"font-family: Arial; color:#0000FF\"><b>\n",
    "    <span style=\"font-size: x-large\">Métodos Numéricos II</span>\n",
    "    <br>\n",
    "    <span style=\"font-size: large\">Segundo de Grado en Matemáticas - Curso 2022/23</span>\n",
    "    <br>\n",
    "    <span style=\"font-size: medium\">Facultad de Ciencias de la Universidad de Málaga</span>\n",
    "    <br>\n",
    "    <span style=\"font-size: small\">Dpto. de Análisis Matemático, Estadística e Investigación Operativa, y Matemática Aplicada</span>\n",
    "    <br>\n",
    "    <span style=\"font-size: small\">Profs. Manuel J. Castro y Francisco J. Palma (Área Conocimiento de Matemática Aplicada)</span>\n",
    "    <br>\n",
    "    <span style=\"font-size: medium; color:#FF0000\">Práctica número 5</span>\n",
    "    </b></span></div>"
   ]
  },
  {
   "cell_type": "code",
   "execution_count": 14,
   "metadata": {},
   "outputs": [],
   "source": [
    "from algoritmos import *"
   ]
  },
  {
   "attachments": {},
   "cell_type": "markdown",
   "metadata": {},
   "source": [
    "<div align=\"left\"><span style=\"font-family: Arial; color:#000000; font-size: medium\">\n",
    "    El objetivo de esta práctica es definir funciones <span style=\"font-family: Courier\">Python</span> para resolver sistemas de ecuaciones lineales por <b>métodos directos de tipo Gauss</b>.\n",
    "    <br>\n",
    "    Suponemos por tanto dadas $A\\in\\mathcal{M}_n(\\mathbb{K})$ inversible y $B\\in\\mathbb{K}^n$, y desarrollamos métodos numéricos para calcular $X\\in\\mathbb{K}^n$ tal que $A\\,X = B$.\n",
    "    </span></div>"
   ]
  },
  {
   "attachments": {},
   "cell_type": "markdown",
   "metadata": {},
   "source": [
    "<div align=\"left\"><span style=\"font-family: Arial; color:#000000; font-size: medium\">\n",
    "    El <b>método de Gauss</b> es un <b>método directo</b> de resolución del problema anterior que, formalmente, equivale a calcular una matriz $M\\in\\mathcal{M}_n(\\mathbb{K})$ inversible tal que la matriz $M\\,A$ sea <b>triangular superior</b> y, posteriormente, resolver el sistema $(M\\,A)\\,X = (M\\,B)$ mediante un <b>método de remonte</b>.\n",
    "    <br>\n",
    "    En la práctica no se calcula dicha matriz $M$, sino que se va <i>triangularizando</i> la matriz $A$ mediante un <b>proceso iterativo</b> de $n-1$ etapas, en cada una de las cuales, tras colocar en la posición diagonal correspondiente un elemento no nulo (<b>pivote</b> de la iteración), se van haciendo nulos a través de adecuadas combinaciones lineales todos los elementos de la columna situados por debajo de la diagonal principal.\n",
    "    </span></div>"
   ]
  },
  {
   "attachments": {},
   "cell_type": "markdown",
   "metadata": {},
   "source": [
    "<div align=\"left\"><span style=\"font-family: Arial; color:#000000; font-size: medium\">\n",
    "    De manera similar, el <b>método de Gauss-Jordan</b> es un <b>método directo</b> de resolución del mismo problema que, formalmente, equivale a calcular una matriz $M\\in\\mathcal{M}_n(\\mathbb{K})$ inversible tal que la matriz $M\\,A$ sea <b>diagonal</b> y, posteriormente, resolver el sistema $(M\\,A)\\,X = (M\\,B)$ que es inmediato debido al carácter diagonal de la matriz.\n",
    "    <br>\n",
    "    Tampoco aquí en la práctica se calcula dicha matriz $M$, sino que se va <i>diagonalizando</i> la matriz $A$ mediante un <b>proceso iterativo</b> de $n$ etapas, en cada una de las cuales, tras colocar en la posición diagonal correspondiente un elemento no nulo (<b>pivote</b> de la iteración), se van haciendo nulos a través de adecuadas combinaciones lineales todos los elementos de la columna excepto, evidentemente, el situado en la diagonal principal.\n",
    "    </span></div>"
   ]
  },
  {
   "attachments": {},
   "cell_type": "markdown",
   "metadata": {},
   "source": [
    "<div align=\"left\"><span style=\"font-family: Arial; color:#000000; font-size: medium\">\n",
    "    En ambos métodos tiene particular importancia la elección del elemento que en cada iteración ocupa la posición de pivote; las dos técnicas más habituales son la de <b>pivote parcial</b> y la de <b>primer pivote no nulo</b>.\n",
    "    </span></div>"
   ]
  },
  {
   "attachments": {},
   "cell_type": "markdown",
   "metadata": {},
   "source": [
    "<div align=\"left\"><span style=\"font-family: Arial; color:#000000; font-size: medium\">\n",
    "    Nos planteamos entonces como primer objetivo elaborar cuatro funciones <span style=\"font-family: Courier\">Python</span>, a las que daremos los nombres de <span style=\"font-family: Courier\">gauss_pp()</span> y <span style=\"font-family: Courier\">gauss_1p()</span>, para el <b>método de Gauss</b>, y <span style=\"font-family: Courier\">gaussjordan_pp()</span> y <span style=\"font-family: Courier\">gaussjordan_1p()</span>, para el de <b>Gauss-Jordan</b>, que implementan ambos algoritmos con las dos <b>técnicas de elección de pivote</b> indicadas anteriormente.\n",
    "    <br>\n",
    "    En todos los casos habrá dos <b>argumentos de entrada</b>, que son la matriz $A$ y el segundo miembro $B$, y como <b>salida</b> se obtienen también dos variables, siendo la primera de tipo booleano, en la que los valores <span style=\"font-family: Courier\">True</span> o <span style=\"font-family: Courier\">False</span> indica que se ha resuelto con éxito o no el sistema, y conteniendo la segunda variable la solución o un mensaje de error, respectivamente.\n",
    "    </span></div>"
   ]
  },
  {
   "attachments": {},
   "cell_type": "markdown",
   "metadata": {},
   "source": [
    "<div align=\"left\"><span style=\"font-family: Arial; color:#000000; font-size: medium\">\n",
    "    En todas las funciones que desarrollemos se intentará utilizar la misma terminología y nombre de las variables que se ha visto en clases teóricas y de problemas; de esta manera es posible seguir mejor la programación del algoritmo correspondiente. En cualquier caso, resaltamos los siguientes hechos:\n",
    "    <ul>\n",
    "    <li>siempre se trabaja con la idea de que las funciones puedan resolver múltiples sistemas lineales, todos con la misma matriz $A$, de manera simultánea, por lo que supondremos que $B$, y en consecuencia $X$ también, no es un vector de $\\mathbb{K}^n$, sino un matriz de $\\mathcal{M}_{n\\times q}(\\mathbb{K})$;</li>\n",
    "    <li> el bucle principal del proceso iterativo se realiza en la variable <span style=\"font-family: Courierç\">k</span>; recordamos que hay $n-1$ iteraciones en el método de Gauss y $n$ en el de Gauss-Jordan;</li>\n",
    "    <li> siempre que se haga referencia a las filas de las matrices se utiliza preferentemente el índice <span style=\"font-family: Courier\">i</span>, mientras que para las columnas se utiliza el índice <span style=\"font-family: Courier\">j</span>;</li>\n",
    "    <li>la fila en la que se localiza la posición del pivote de cada iteración (dependiendo de la estrategia utilizada), se identifica con el índice <span style=\"font-family: Courier\">ik</span>;</li>\n",
    "    <li>son fácilmente identificables las instrucciones que permutan las filas de la matriz y del segundo miembro, en el caso de que el pivote de la iteración no se encuentre en la posición natural;</li>\n",
    "    <li>el proceso de hacer ceros por debajo de la diagonal (y por encima también en el caso de Gauss-Jordan), se realiza únicamente si el pivote elegido es mayor o igual en módulo que $10^{-200}$, que es el umbral de precisión elegido;</li>\n",
    "    <li>en cada iteración solamente se calculan los elementos de la matriz y del segundo miembro que cambian, no realizandose ningún cálculo supérfluo;</li>\n",
    "    <li>en las posiciones que deberían anularse en la iteración $k$-ésima, es decir, $a_{i,k}^{k+1}$, para $i=k+1,\\ldots,n$, (en el caso de Gauss-Jordan también para $i=1,\\ldots,k-1$) no se guardan ceros, sino que se almacenan los cocientes $\\displaystyle\\frac{\\alpha_{i,k}^k}{\\alpha_{k,k}^k}$, que son los elementos no nulos y no diagonales de la matrix de combinaciones lineales $E_k$ con signo cambiado;</li>\n",
    "    <li>en el método de Gauss, el proceso de resolución del (de los) sistema(s) se realiza mediante una llamada al programa <span style=\"font-family: Courier\">remonte()</span>, que sería el que detectaría, si fuera el caso, la existencia de elementos nulos (o casi nulos) en la diagonal principal, es decir, detectaría si la matriz es o no regular;</li>\n",
    "    <li>en el método de Gauss-Jordan, la resolución del (de los) sistema(s), es decir las $n$ divisiones de los elementos del (de los) segundo(s) miembro(s) por los elementos diagonales de $M\\,A$, se realiza en el propio código, previa comprobación de que dichos elementos diagonales superen el umbral de precisión elegido.</li>\n",
    "    </ul>\n",
    "    </span></div>"
   ]
  },
  {
   "attachments": {},
   "cell_type": "markdown",
   "metadata": {},
   "source": [
    "<div align=\"left\"><span style=\"font-family: Arial; color:#000000; font-size: medium\">\n",
    "    <span style=\"color:#FF0000\"><b>Ejercicio 1.</b></span> Elaborar un programa de nombre <span style=\"font-family: Courier\">gauss_pp()</span> que implemente el algoritmo del <b>método de Gauss</b>, con estrategia de <b>pivote parcial</b>, teniendo en cuenta las observaciones anteriores.\n",
    "    </span></div>"
   ]
  },
  {
   "cell_type": "code",
   "execution_count": 5,
   "metadata": {},
   "outputs": [],
   "source": [
    "def gauss_pp(A, B):\n",
    "    m, n = shape(A)\n",
    "    p, q = shape(B)\n",
    "    if m != n or n != p or q < 1:\n",
    "        return False, \"Error gauss_pp: error en las dimensiones.\"\n",
    "    if A.dtype == complex or B.dtype == complex:\n",
    "        gaussA = array(A, dtype=complex)\n",
    "        gaussB = array(B, dtype=complex)\n",
    "    else:\n",
    "        gaussA = array(A, dtype=float)\n",
    "        gaussB = array(B, dtype=float)\n",
    "    for k in range(n-1):\n",
    "        pos = argmax(abs(gaussA[k:, k]))\n",
    "        ik = pos+k\n",
    "        if ik != k:\n",
    "            gaussA[[ik, k], :] = gaussA[[k, ik], :]\n",
    "            gaussB[[ik, k], :] = gaussB[[k, ik], :]\n",
    "        if abs(gaussA[k, k]) >= 1e-200:\n",
    "            for i in range(k+1, n):\n",
    "                gaussA[i, k] = gaussA[i, k]/gaussA[k, k]\n",
    "                gaussA[i, k+1:] -= gaussA[i, k]*gaussA[k, k+1:]\n",
    "                gaussB[i, :] -= gaussA[i, k]*gaussB[k, :]\n",
    "    exito, X = remonte(gaussA, gaussB)\n",
    "    return exito, X"
   ]
  },
  {
   "attachments": {},
   "cell_type": "markdown",
   "metadata": {},
   "source": [
    "<div align=\"left\"><span style=\"font-family: Arial; color:#000000; font-size: medium\">\n",
    "    <span style=\"color:#FF0000\"><b>Ejercicio 2.</b></span> Elaborar un programa de nombre <span style=\"font-family: Courier\">gaussjordan_pp()</span> que implemente el algoritmo del <b>método de Gauss-Jordan</b>, con estrategia de <b>pivote parcial</b>, teniendo en cuenta las observaciones anteriores.\n",
    "    </span></div>"
   ]
  },
  {
   "cell_type": "code",
   "execution_count": 4,
   "metadata": {},
   "outputs": [],
   "source": [
    "def gaussjordan_pp(A, B):\n",
    "    m, n = shape(A)\n",
    "    p, q = shape(B)\n",
    "    if m != n or n != p or q < 1:\n",
    "        return False, \"Error gaussjordan_pp: error en las dimensiones.\"\n",
    "    if A.dtype == complex or B.dtype == complex:\n",
    "        gaussA = array(A, dtype=complex)\n",
    "        gaussB = array(B, dtype=complex)\n",
    "    else:\n",
    "        gaussA = array(A, dtype=float)\n",
    "        gaussB = array(B, dtype=float)\n",
    "    for k in range(n):\n",
    "        pos = argmax(abs(gaussA[k:, k]))\n",
    "        ik = pos+k\n",
    "        if ik != k:\n",
    "            gaussA[[ik, k], :] = gaussA[[k, ik], :]\n",
    "            gaussB[[ik, k], :] = gaussB[[k, ik], :]\n",
    "        if abs(gaussA[k, k]) >= 1e-200:\n",
    "            for i in range(k):\n",
    "                gaussA[i, k] = gaussA[i, k]/gaussA[k, k]\n",
    "                gaussA[i, k+1:] -= gaussA[i, k]*gaussA[k, k+1:]\n",
    "                gaussB[i, :] -= gaussA[i, k]*gaussB[k, :]\n",
    "            for i in range(k+1, n):\n",
    "                gaussA[i, k] = gaussA[i, k]/gaussA[k, k]\n",
    "                gaussA[i, k+1:] -= gaussA[i, k]*gaussA[k, k+1:]\n",
    "                gaussB[i, :] -= gaussA[i, k]*gaussB[k, :]\n",
    "    if(min(abs(diag(gaussA)))) < 1e-200:\n",
    "        return False, \"Error gaussjordan_pp matriz singular\"\n",
    "    if A.dtype == complex or B.dtype == complex:\n",
    "        X = zeros((n,q), dtype=complex)\n",
    "    else:\n",
    "        X = zeros((n,q), dtype=float)\n",
    "    for i in range(n):\n",
    "        X[i, :] = gaussB[i, :]/gaussA[i,i]\n",
    "    return exito, X"
   ]
  },
  {
   "attachments": {},
   "cell_type": "markdown",
   "metadata": {},
   "source": [
    "<div align=\"left\"><span style=\"font-family: Arial; color:#000000; font-size: medium\">\n",
    "    <span style=\"color:#FF0000\"><b>Ejercicio 3.</b></span> Resolver los siguientes sistemas de ecuaciones lineales mediante los métodos de Gauss y de Gauss-Jordan, con estrategias de pivote parcial:\n",
    "\\[\n",
    "\\mbox{(a)} \\quad \\left( \\begin{array}{rrrr}\n",
    "1 & 2 & 1 & 4 \\\\ 2 & 0 & 4 & 3 \\\\ 4 & 2 & 2 & 1 \\\\ -3 & 1 & 3 & 2\n",
    "\\end{array} \\right) \\, \\left( \\begin{array}{c}\n",
    "x_1 \\\\ x_2 \\\\ x_3 \\\\ x_4\n",
    "\\end{array} \\right) = \\left( \\begin{array}{r}\n",
    "13 \\\\ 28 \\\\ 20 \\\\ 6\n",
    "\\end{array} \\right) \\qquad \\mbox{(b)} \\quad \\left( \\begin{array}{rrrr}\n",
    "20514 & 4424 & 978 & 224 \\\\ 4424 & 978 & 224 & 54 \\\\ 978 & 224 & 54 & 14 \\\\ 224 & 54 & 14 & 4\n",
    "\\end{array} \\right) \\, \\left( \\begin{array}{c}\n",
    "x_1 \\\\ x_2 \\\\ x_3 \\\\ x_4\n",
    "\\end{array} \\right) =  \\left( \\begin{array}{r}\n",
    "20514 \\\\ 4424 \\\\ 978 \\\\ 224\n",
    "\\end{array} \\right)\n",
    "\\]\n",
    "    </span></div>"
   ]
  },
  {
   "cell_type": "code",
   "execution_count": 6,
   "metadata": {},
   "outputs": [
    {
     "name": "stdout",
     "output_type": "stream",
     "text": [
      "Ejercicio 3-a.\n",
      "Matriz: A =  [[ 1  2  1  4]\n",
      " [ 2  0  4  3]\n",
      " [ 4  2  2  1]\n",
      " [-3  1  3  2]]\n",
      "Segundo miembro: B =  [[13]\n",
      " [28]\n",
      " [20]\n",
      " [ 6]]\n",
      "Solución: X =  [[ 3.]\n",
      " [-1.]\n",
      " [ 4.]\n",
      " [ 2.]]\n",
      "Comprobación: ||B-A@X||_2 =  0.0\n"
     ]
    }
   ],
   "source": [
    "# Ejercicio 3-a.\n",
    "print(\"Ejercicio 3-a.\")\n",
    "A = array([[1, 2, 1, 4], [2, 0, 4, 3], [4, 2, 2, 1], [-3, 1, 3, 2]])\n",
    "print(\"Matriz: A = \", A)\n",
    "B = array([[13], [28], [20], [6]])\n",
    "print(\"Segundo miembro: B = \", B)\n",
    "exito, X = gauss_pp(A, B)\n",
    "if exito:\n",
    "    print(\"Solución: X = \", X)\n",
    "    print(\"Comprobación: ||B-A@X||_2 = \", norma_vec(B-A@X, 2))\n",
    "else:\n",
    "    print(\"Error \", X)"
   ]
  },
  {
   "cell_type": "code",
   "execution_count": 7,
   "metadata": {},
   "outputs": [
    {
     "name": "stdout",
     "output_type": "stream",
     "text": [
      "Ejercicio 3-b.\n",
      "Matriz: A =  [[ 1  2  1  4]\n",
      " [ 2  0  4  3]\n",
      " [ 4  2  2  1]\n",
      " [-3  1  3  2]]\n",
      "Segundo miembro: B =  [[13]\n",
      " [28]\n",
      " [20]\n",
      " [ 6]]\n",
      "Solución: X =  [[ 3.]\n",
      " [-1.]\n",
      " [ 4.]\n",
      " [ 2.]]\n",
      "Comprobación: ||B-A@X||_2 =  0.0\n"
     ]
    }
   ],
   "source": [
    "# Ejercicio 3-b.\n",
    "print(\"Ejercicio 3-b.\")\n",
    "A = array([[1, 2, 1, 4], [2, 0, 4, 3], [4, 2, 2, 1], [-3, 1, 3, 2]])\n",
    "print(\"Matriz: A = \", A)\n",
    "B = array([[13], [28], [20], [6]])\n",
    "print(\"Segundo miembro: B = \", B)\n",
    "exito, X = gaussjordan_pp(A, B)\n",
    "if exito:\n",
    "    print(\"Solución: X = \", X)\n",
    "    print(\"Comprobación: ||B-A@X||_2 = \", norma_vec(B-A@X, 2))\n",
    "else:\n",
    "    print(\"Error \", X)"
   ]
  },
  {
   "attachments": {},
   "cell_type": "markdown",
   "metadata": {},
   "source": [
    "<div align=\"left\"><span style=\"font-family: Arial; color:#000000; font-size: medium\">\n",
    "    <span style=\"color:#FF0000\"><b>Ejercicio 4.</b></span> Calcular las inversas de las matrices de los sistemas anteriores.\n",
    "    </span></div>"
   ]
  },
  {
   "cell_type": "code",
   "execution_count": 9,
   "metadata": {},
   "outputs": [
    {
     "name": "stdout",
     "output_type": "stream",
     "text": [
      "Ejercicio 4-a.\n",
      "Matriz: A =  [[ 1  2  1  4]\n",
      " [ 2  0  4  3]\n",
      " [ 4  2  2  1]\n",
      " [-3  1  3  2]]\n",
      "[[1. 0. 0. 0.]\n",
      " [0. 1. 0. 0.]\n",
      " [0. 0. 1. 0.]\n",
      " [0. 0. 0. 1.]]\n",
      "Solución:  [[ 0.          0.08333333  0.08333333 -0.16666667]\n",
      " [ 0.06666667 -0.34444444  0.32222222  0.22222222]\n",
      " [-0.2         0.11666667  0.11666667  0.16666667]\n",
      " [ 0.26666667  0.12222222 -0.21111111 -0.11111111]]\n",
      "Comprobación:  [[ 0.00000000e+00  0.00000000e+00  5.55111512e-17  5.55111512e-17]\n",
      " [ 0.00000000e+00  0.00000000e+00  0.00000000e+00  5.55111512e-17]\n",
      " [ 0.00000000e+00  1.11022302e-16  0.00000000e+00  0.00000000e+00]\n",
      " [-1.11022302e-16  4.16333634e-17  1.24900090e-16  0.00000000e+00]] True\n"
     ]
    }
   ],
   "source": [
    "# Ejercicio 4-a.\n",
    "print(\"Ejercicio 4-a.\")\n",
    "A = array([[1, 2, 1, 4], [2, 0, 4, 3], [4, 2, 2, 1], [-3, 1, 3, 2]])\n",
    "print(\"Matriz: A = \", A)\n",
    "B = eye(4)\n",
    "print(B)\n",
    "exito, X = gaussjordan_pp(A,B)\n",
    "if(exito):\n",
    "    print(\"Solución: \", X)\n",
    "    print(\"Comprobación: \", A@X-B, min(abs(A@X-B))<1e-100)\n",
    "else:\n",
    "    print(\"Error\")"
   ]
  },
  {
   "cell_type": "code",
   "execution_count": 8,
   "metadata": {},
   "outputs": [
    {
     "name": "stdout",
     "output_type": "stream",
     "text": [
      "Ejercicio 4-b.\n",
      "Matriz: A =  [[ 1  2  1  4]\n",
      " [ 2  0  4  3]\n",
      " [ 4  2  2  1]\n",
      " [-3  1  3  2]]\n",
      "[[1. 0. 0. 0.]\n",
      " [0. 1. 0. 0.]\n",
      " [0. 0. 1. 0.]\n",
      " [0. 0. 0. 1.]]\n",
      "Solución:  [[ 0.          0.08333333  0.08333333 -0.16666667]\n",
      " [ 0.06666667 -0.34444444  0.32222222  0.22222222]\n",
      " [-0.2         0.11666667  0.11666667  0.16666667]\n",
      " [ 0.26666667  0.12222222 -0.21111111 -0.11111111]]\n",
      "Comprobación:  [[ 0.00000000e+00  0.00000000e+00  5.55111512e-17  5.55111512e-17]\n",
      " [ 0.00000000e+00  0.00000000e+00  0.00000000e+00  5.55111512e-17]\n",
      " [ 0.00000000e+00  1.11022302e-16  0.00000000e+00  0.00000000e+00]\n",
      " [-1.11022302e-16  4.16333634e-17  1.24900090e-16  0.00000000e+00]] True\n"
     ]
    }
   ],
   "source": [
    "# Ejercicio 4-b.\n",
    "print(\"Ejercicio 4-b.\")\n",
    "A = array([[1, 2, 1, 4], [2, 0, 4, 3], [4, 2, 2, 1], [-3, 1, 3, 2]])\n",
    "print(\"Matriz: A = \", A)\n",
    "B = eye(4)\n",
    "print(B)\n",
    "exito, X = gaussjordan_pp(A,B)\n",
    "if(exito):\n",
    "    print(\"Solución: \", X)\n",
    "    print(\"Comprobación: \", A@X-B, min(abs(A@X-B))<1e-100)\n",
    "else:\n",
    "    print(\"Error\")"
   ]
  },
  {
   "attachments": {},
   "cell_type": "markdown",
   "metadata": {},
   "source": [
    "<div align=\"left\"><span style=\"font-family: Arial; color:#000000; font-size: medium\">\n",
    "    <span style=\"color:#FF0000\"><b>Ejercicio 5.</b></span> Para el caso (a) del Ejercicio 3, escribir el sistema final triangular superior resultante $(M\\,A)\\,X = M\\,B$ cuando se utiliza el método de Gauss. Identificar también las matrices $A_k$ y segundos miembros $B_k$, $k=1,2,\\ldots,n$ del proceso iterativo.\n",
    "    </span></div>"
   ]
  },
  {
   "cell_type": "code",
   "execution_count": 12,
   "metadata": {},
   "outputs": [],
   "source": [
    "def gauss_pp_verbose(A, B):\n",
    "    m, n = shape(A)\n",
    "    p, q = shape(B)\n",
    "    if m != n or n != p or q < 1:\n",
    "        return False, \"Error gauss_pp: error en las dimensiones.\"\n",
    "    if A.dtype == complex or B.dtype == complex:\n",
    "        gaussA = array(A, dtype=complex)\n",
    "        gaussB = array(B, dtype=complex)\n",
    "    else:\n",
    "        gaussA = array(A, dtype=float)\n",
    "        gaussB = array(B, dtype=float)\n",
    "    for k in range(n-1):\n",
    "        print(\"Iteración: k = \", k+1)\n",
    "        pos = argmax(abs(gaussA[k:, k]))\n",
    "        ik = pos+k\n",
    "        print(\"Posicion pivot: ik = \", ik+1)\n",
    "        if ik != k:\n",
    "            gaussA[[ik, k], :] = gaussA[[k, ik], :]\n",
    "            gaussB[[ik, k], :] = gaussB[[k, ik], :]\n",
    "        if abs(gaussA[k, k]) >= 1e-200:\n",
    "            for i in range(k+1, n):\n",
    "                gaussA[i, k] = gaussA[i, k]/gaussA[k, k]\n",
    "                gaussA[i, k+1:] -= gaussA[i, k]*gaussA[k, k+1:]\n",
    "                gaussB[i, :] -= gaussA[i, k]*gaussB[k, :]\n",
    "        print(\"Matriz: A_k+1 = \", gaussA)\n",
    "    print(\"Matriz diagonal: \", tril(triu(gaussA)))\n",
    "    print(\"Segundo miembro: \", gaussB)\n",
    "    exito, X = remonte(gaussA, gaussB)\n",
    "    return exito, X"
   ]
  },
  {
   "cell_type": "code",
   "execution_count": 15,
   "metadata": {},
   "outputs": [
    {
     "name": "stdout",
     "output_type": "stream",
     "text": [
      "Ejercicio 5-a.\n",
      "Matriz: A =  [[ 1  2  1  4]\n",
      " [ 2  0  4  3]\n",
      " [ 4  2  2  1]\n",
      " [-3  1  3  2]]\n",
      "Segundo miembro: B =  [[13]\n",
      " [28]\n",
      " [20]\n",
      " [ 6]]\n",
      "Iteración: k =  1\n",
      "Posicion pivot: ik =  3\n",
      "Matriz: A_k+1 =  [[ 4.    2.    2.    1.  ]\n",
      " [ 0.5  -1.    3.    2.5 ]\n",
      " [ 0.25  1.5   0.5   3.75]\n",
      " [-0.75  2.5   4.5   2.75]]\n",
      "Iteración: k =  2\n",
      "Posicion pivot: ik =  4\n",
      "Matriz: A_k+1 =  [[ 4.    2.    2.    1.  ]\n",
      " [-0.75  2.5   4.5   2.75]\n",
      " [ 0.25  0.6  -2.2   2.1 ]\n",
      " [ 0.5  -0.4   4.8   3.6 ]]\n",
      "Iteración: k =  3\n",
      "Posicion pivot: ik =  4\n",
      "Matriz: A_k+1 =  [[ 4.          2.          2.          1.        ]\n",
      " [-0.75        2.5         4.5         2.75      ]\n",
      " [ 0.5        -0.4         4.8         3.6       ]\n",
      " [ 0.25        0.6        -0.45833333  3.75      ]]\n",
      "Matriz triangular:  [[4.   2.   2.   1.  ]\n",
      " [0.   2.5  4.5  2.75]\n",
      " [0.   0.   4.8  3.6 ]\n",
      " [0.   0.   0.   3.75]]\n",
      "Segundo miembro:  [[20. ]\n",
      " [21. ]\n",
      " [26.4]\n",
      " [ 7.5]]\n",
      "Solución:  [[ 3.]\n",
      " [-1.]\n",
      " [ 4.]\n",
      " [ 2.]]\n",
      "Comprobación:  [[0.]\n",
      " [0.]\n",
      " [0.]\n",
      " [0.]] True\n"
     ]
    }
   ],
   "source": [
    "# Ejercicio 5-a.\n",
    "print(\"Ejercicio 5-a.\")\n",
    "A = array([[1, 2, 1, 4], [2, 0, 4, 3], [4, 2, 2, 1], [-3, 1, 3, 2]])\n",
    "print(\"Matriz: A = \", A)\n",
    "B = array([[13], [28], [20], [6]])\n",
    "print(\"Segundo miembro: B = \", B)\n",
    "exito, X = gauss_pp_verbose(A,B)\n",
    "if(exito):\n",
    "    print(\"Solución: \", X)\n",
    "    print(\"Comprobación: \", A@X-B, min(abs(A@X-B))<1e-100)\n",
    "else:\n",
    "    print(\"Error\")"
   ]
  },
  {
   "attachments": {},
   "cell_type": "markdown",
   "metadata": {},
   "source": [
    "<div align=\"left\"><span style=\"font-family: Arial; color:#000000; font-size: medium\">\n",
    "    <span style=\"color:#FF0000\"><b>Ejercicio 6.</b></span> Para el caso (a) del Ejercicio 3, escribir el sistema final diagonal resultante $(M\\,A)\\,X = M\\,B$ cuando se utiliza el método de Gauss-Jordan. Identificar también las matrices $A_k$ y segundos miembros $B_k$, $k=1,2,\\ldots,n+1$ del proceso iterativo.\n",
    "    </span></div>"
   ]
  },
  {
   "cell_type": "code",
   "execution_count": 10,
   "metadata": {},
   "outputs": [],
   "source": [
    "def gaussjordan_pp_verbose(A, B):\n",
    "    m, n = shape(A)\n",
    "    p, q = shape(B)\n",
    "    if m != n or n != p or q < 1:\n",
    "        return False, \"Error gaussjordan_pp: error en las dimensiones.\"\n",
    "    if A.dtype == complex or B.dtype == complex:\n",
    "        gaussA = array(A, dtype=complex)\n",
    "        gaussB = array(B, dtype=complex)\n",
    "    else:\n",
    "        gaussA = array(A, dtype=float)\n",
    "        gaussB = array(B, dtype=float)\n",
    "    for k in range(n):\n",
    "        pos = argmax(abs(gaussA[k:, k]))\n",
    "        ik = pos+k\n",
    "        if ik != k:\n",
    "            gaussA[[ik, k], :] = gaussA[[k, ik], :]\n",
    "            gaussB[[ik, k], :] = gaussB[[k, ik], :]\n",
    "        if abs(gaussA[k, k]) >= 1e-200:\n",
    "            for i in range(k):\n",
    "                gaussA[i, k] = gaussA[i, k]/gaussA[k, k]\n",
    "                gaussA[i, k+1:] -= gaussA[i, k]*gaussA[k, k+1:]\n",
    "                gaussB[i, :] -= gaussA[i, k]*gaussB[k, :]\n",
    "            for i in range(k+1, n):\n",
    "                gaussA[i, k] = gaussA[i, k]/gaussA[k, k]\n",
    "                gaussA[i, k+1:] -= gaussA[i, k]*gaussA[k, k+1:]\n",
    "                gaussB[i, :] -= gaussA[i, k]*gaussB[k, :]\n",
    "        print(\"Matriz: A_k+1 = \", gaussA)\n",
    "    print(\"Matriz triangular: \", triu(gaussA))\n",
    "    print(\"Segundo miembro: \", gaussB)\n",
    "    if(min(abs(diag(gaussA)))) < 1e-200:\n",
    "        return False, \"Error gaussjordan_pp matriz singular\"\n",
    "    if A.dtype == complex or B.dtype == complex:\n",
    "        X = zeros((n,q), dtype=complex)\n",
    "    else:\n",
    "        X = zeros((n,q), dtype=float)\n",
    "    for i in range(n):\n",
    "        X[i, :] = gaussB[i, :]/gaussA[i,i]\n",
    "    return True, X"
   ]
  },
  {
   "cell_type": "code",
   "execution_count": 11,
   "metadata": {},
   "outputs": [
    {
     "name": "stdout",
     "output_type": "stream",
     "text": [
      "Ejercicio 6-a.\n",
      "Matriz: A =  [[ 1  2  1  4]\n",
      " [ 2  0  4  3]\n",
      " [ 4  2  2  1]\n",
      " [-3  1  3  2]]\n",
      "Segundo miembro: B =  [[13]\n",
      " [28]\n",
      " [20]\n",
      " [ 6]]\n",
      "Matriz: A_k+1 =  [[ 4.    2.    2.    1.  ]\n",
      " [ 0.5  -1.    3.    2.5 ]\n",
      " [ 0.25  1.5   0.5   3.75]\n",
      " [-0.75  2.5   4.5   2.75]]\n",
      "Matriz: A_k+1 =  [[ 4.    0.8  -1.6  -1.2 ]\n",
      " [-0.75  2.5   4.5   2.75]\n",
      " [ 0.25  0.6  -2.2   2.1 ]\n",
      " [ 0.5  -0.4   4.8   3.6 ]]\n",
      "Matriz: A_k+1 =  [[ 4.          0.8        -0.33333333  0.        ]\n",
      " [-0.75        2.5         0.9375     -0.625     ]\n",
      " [ 0.5        -0.4         4.8         3.6       ]\n",
      " [ 0.25        0.6        -0.45833333  3.75      ]]\n",
      "Matriz: A_k+1 =  [[ 4.          0.8        -0.33333333  0.        ]\n",
      " [-0.75        2.5         0.9375     -0.16666667]\n",
      " [ 0.5        -0.4         4.8         0.96      ]\n",
      " [ 0.25        0.6        -0.45833333  3.75      ]]\n",
      "Matriz triangular:  [[ 4.          0.8        -0.33333333  0.        ]\n",
      " [ 0.          2.5         0.9375     -0.16666667]\n",
      " [ 0.          0.          4.8         0.96      ]\n",
      " [ 0.          0.          0.          3.75      ]]\n",
      "Segundo miembro:  [[12. ]\n",
      " [-2.5]\n",
      " [19.2]\n",
      " [ 7.5]]\n",
      "Solución: X =  [[ 3.]\n",
      " [-1.]\n",
      " [ 4.]\n",
      " [ 2.]]\n",
      "Comprobación: ||B-A@X||_2 =  0.0\n"
     ]
    }
   ],
   "source": [
    "# Ejercicio 6-a.\n",
    "print(\"Ejercicio 6-a.\")\n",
    "A = array([[1, 2, 1, 4], [2, 0, 4, 3], [4, 2, 2, 1], [-3, 1, 3, 2]])\n",
    "print(\"Matriz: A = \", A)\n",
    "B = array([[13], [28], [20], [6]])\n",
    "print(\"Segundo miembro: B = \", B)\n",
    "exito, X = gaussjordan_pp_verbose(A, B)\n",
    "if exito:\n",
    "    print(\"Solución: X = \", X)\n",
    "    print(\"Comprobación: ||B-A@X||_2 = \", norma_vec(B-A@X, 2))\n",
    "else:\n",
    "    print(\"Error \", X)"
   ]
  },
  {
   "attachments": {},
   "cell_type": "markdown",
   "metadata": {},
   "source": [
    "<div align=\"justify\"><span style=\"font-family: Arial,Helvetica,sans-serif; font-size: medium; color:#000000\"\">\n",
    "    <span style=\"color:#FF0000\"><b>Ejercicio 7.</b></span> Elaborar un programa de nombre <span style=\"font-family: Courier,monospace\">gaus_1p()</span> que implemente el algoritmo del <b>método de Gauss</b>, con estrategia de <b>primer pivote no nulo</b>.\n",
    "    </span></div>"
   ]
  },
  {
   "cell_type": "code",
   "execution_count": 19,
   "metadata": {},
   "outputs": [],
   "source": [
    "def gauss_1p(A, B):\n",
    "    m, n = shape(A)\n",
    "    p, q = shape(B)\n",
    "    if m != n or n != p or q < 1:\n",
    "        return False, \"Error gauss_pp: error en las dimensiones.\"\n",
    "    if A.dtype == complex or B.dtype == complex:\n",
    "        gaussA = array(A, dtype=complex)\n",
    "        gaussB = array(B, dtype=complex)\n",
    "    else:\n",
    "        gaussA = array(A, dtype=float)\n",
    "        gaussB = array(B, dtype=float)\n",
    "    for k in range(n-1):\n",
    "        pos=(gaussA[k:, k]!=0).argmax()\n",
    "        ik = pos+k\n",
    "        if ik != k:\n",
    "            gaussA[[ik, k], :] = gaussA[[k, ik], :]\n",
    "            gaussB[[ik, k], :] = gaussB[[k, ik], :]\n",
    "        if abs(gaussA[k, k]) >= 1e-200:\n",
    "            for i in range(k+1, n):\n",
    "                gaussA[i, k] = gaussA[i, k]/gaussA[k, k]\n",
    "                gaussA[i, k+1:] -= gaussA[i, k]*gaussA[k, k+1:]\n",
    "                gaussB[i, :] -= gaussA[i, k]*gaussB[k, :]\n",
    "    exito, X = remonte(gaussA, gaussB)\n",
    "    return exito, X"
   ]
  },
  {
   "attachments": {},
   "cell_type": "markdown",
   "metadata": {},
   "source": [
    "<div align=\"justify\"><span style=\"font-family: Arial,Helvetica,sans-serif; font-size: medium; color:#000000\"\">\n",
    "    <span style=\"color:#FF0000\"><b>Ejercicio 8.</b></span> Elaborar un programa de nombre <span style=\"font-family: Courier,monospace\">gausjordan_1p()</span> que implemente el algoritmo del <b>método de Gauss-Jordan</b>, con estrategia de <b>primer pivote no nulo</b>.\n",
    "    </span></div>"
   ]
  },
  {
   "cell_type": "code",
   "execution_count": 29,
   "metadata": {},
   "outputs": [],
   "source": [
    "def gaussjordan_1p(A, B):\n",
    "    m, n = shape(A)\n",
    "    p, q = shape(B)\n",
    "    if m != n or n != p or q < 1:\n",
    "        return False, \"Error gaussjordan_pp: error en las dimensiones.\"\n",
    "    if A.dtype == complex or B.dtype == complex:\n",
    "        gaussA = array(A, dtype=complex)\n",
    "        gaussB = array(B, dtype=complex)\n",
    "    else:\n",
    "        gaussA = array(A, dtype=float)\n",
    "        gaussB = array(B, dtype=float)\n",
    "    for k in range(n):\n",
    "        pos=(gaussA[k:, k]!=0).argmax()\n",
    "        ik = pos+k\n",
    "        if ik != k:\n",
    "            gaussA[[ik, k], :] = gaussA[[k, ik], :]\n",
    "            gaussB[[ik, k], :] = gaussB[[k, ik], :]\n",
    "        if abs(gaussA[k, k]) >= 1e-200:\n",
    "            for i in range(k):\n",
    "                gaussA[i, k] = gaussA[i, k]/gaussA[k, k]\n",
    "                gaussA[i, k+1:] -= gaussA[i, k]*gaussA[k, k+1:]\n",
    "                gaussB[i, :] -= gaussA[i, k]*gaussB[k, :]\n",
    "            for i in range(k+1, n):\n",
    "                gaussA[i, k] = gaussA[i, k]/gaussA[k, k]\n",
    "                gaussA[i, k+1:] -= gaussA[i, k]*gaussA[k, k+1:]\n",
    "                gaussB[i, :] -= gaussA[i, k]*gaussB[k, :]\n",
    "    if(min(abs(diag(gaussA)))) < 1e-200:\n",
    "        return False, \"Error gaussjordan_pp matriz singular\"\n",
    "    if A.dtype == complex or B.dtype == complex:\n",
    "        X = zeros((n,q), dtype=complex)\n",
    "    else:\n",
    "        X = zeros((n,q), dtype=float)\n",
    "    for i in range(n):\n",
    "        X[i, :] = gaussB[i, :]/gaussA[i,i]\n",
    "    return True, X"
   ]
  },
  {
   "attachments": {},
   "cell_type": "markdown",
   "metadata": {},
   "source": [
    "<div align=\"justify\"><span style=\"font-family: Arial,Helvetica,sans-serif; font-size: medium; color:#000000\"\">\n",
    "    <span style=\"color:#FF0000\"><b>Ejercicio 9.</b></span> Resolver los sistemas de ecuaciones lineales del ejercicio 3 mediante los métodos de Gauss y de Gauss-Jordan, con estrategias de primer pivote no nulo.\n",
    "    </span></div>"
   ]
  },
  {
   "cell_type": "code",
   "execution_count": 20,
   "metadata": {},
   "outputs": [
    {
     "name": "stdout",
     "output_type": "stream",
     "text": [
      "Matriz: A =  [[ 1  2  1  4]\n",
      " [ 2  0  4  3]\n",
      " [ 4  2  2  1]\n",
      " [-3  1  3  2]]\n",
      "Segundo miembro: B =  [[13]\n",
      " [28]\n",
      " [20]\n",
      " [ 6]]\n",
      "Solución: X =  [[ 3.]\n",
      " [-1.]\n",
      " [ 4.]\n",
      " [ 2.]]\n",
      "Comprobación: ||B-A@X||_2 =  0.0\n"
     ]
    }
   ],
   "source": [
    "A = array([[1, 2, 1, 4], [2, 0, 4, 3], [4, 2, 2, 1], [-3, 1, 3, 2]])\n",
    "print(\"Matriz: A = \", A)\n",
    "B = array([[13], [28], [20], [6]])\n",
    "print(\"Segundo miembro: B = \", B)\n",
    "exito, X = gauss_1p(A, B)\n",
    "if exito:\n",
    "    print(\"Solución: X = \", X)\n",
    "    print(\"Comprobación: ||B-A@X||_2 = \", norma_vec(B-A@X, 2))\n",
    "else:\n",
    "    print(\"Error \", X)"
   ]
  },
  {
   "cell_type": "code",
   "execution_count": 32,
   "metadata": {},
   "outputs": [
    {
     "name": "stdout",
     "output_type": "stream",
     "text": [
      "1\n",
      "Matriz: A =  [[ 1  2  1  4]\n",
      " [ 2  0  4  3]\n",
      " [ 4  2  2  1]\n",
      " [-3  1  3  2]]\n",
      "Segundo miembro: B =  [[13]\n",
      " [28]\n",
      " [20]\n",
      " [ 6]]\n",
      "Solución: X =  [[ 3.]\n",
      " [-1.]\n",
      " [ 4.]\n",
      " [ 2.]]\n",
      "Comprobación: ||B-A@X||_2 =  0.0\n"
     ]
    }
   ],
   "source": [
    "A = array([[1, 2, 1, 4], [2, 0, 4, 3], [4, 2, 2, 1], [-3, 1, 3, 2]])\n",
    "print(\"Matriz: A = \", A)\n",
    "B = array([[13], [28], [20], [6]])\n",
    "print(\"Segundo miembro: B = \", B)\n",
    "exito, X = gaussjordan_1p(A, B)\n",
    "if exito:\n",
    "    print(\"Solución: X = \", X)\n",
    "    print(\"Comprobación: ||B-A@X||_2 = \", norma_vec(B-A@X, 2))\n",
    "else:\n",
    "    print(\"Error \", X)"
   ]
  },
  {
   "cell_type": "code",
   "execution_count": null,
   "metadata": {},
   "outputs": [],
   "source": []
  }
 ],
 "metadata": {
  "kernelspec": {
   "display_name": "Python 3",
   "language": "python",
   "name": "python3"
  },
  "language_info": {
   "codemirror_mode": {
    "name": "ipython",
    "version": 3
   },
   "file_extension": ".py",
   "mimetype": "text/x-python",
   "name": "python",
   "nbconvert_exporter": "python",
   "pygments_lexer": "ipython3",
   "version": "3.7.9"
  }
 },
 "nbformat": 4,
 "nbformat_minor": 4
}
