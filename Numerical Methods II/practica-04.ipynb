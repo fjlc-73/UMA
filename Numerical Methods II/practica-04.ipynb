{
 "cells": [
  {
   "cell_type": "code",
   "execution_count": 1,
   "metadata": {},
   "outputs": [],
   "source": [
    "from algoritmos import *"
   ]
  },
  {
   "cell_type": "markdown",
   "metadata": {},
   "source": [
    "<div align=\"left\"><span style=\"font-family: Arial; color:#000000; font-size: medium\">\n",
    "    El objetivo de esta práctica es definir funciones <span style=\"font-family: Courier\">Python</span> para resolver sistemas de ecuaciones lineales cuya matriz de coeficientes es triangular y que por tanto pueden ser resueltos mediante los <b>métodos de descenso</b> o de <b>sustitución progresiva</b> (en el caso de matrices triangulares inferiores) y los <b>métodos de remonte</b>  o de <b>sustitución regresiva</b> (en el caso de matrices triangulares superiores).\n",
    "    </span></div>"
   ]
  },
  {
   "cell_type": "code",
   "execution_count": null,
   "metadata": {},
   "outputs": [],
   "source": []
  },
  {
   "cell_type": "markdown",
   "metadata": {},
   "source": [
    "<div align=\"left\"><span style=\"font-family: Arial; color:#000000; font-size: medium\">\n",
    "    Comenzamos por el caso de matrices triangulares inferiores, es decir, estudiamos los <b>métodos de descenso</b>.\n",
    "    <br>\n",
    "    Consideramos un sistema de $n$ ecuaciones lineales con $n$ incógnitas compatible y determinado $A\\,X=B$, donde $A\\in\\mathcal{M}_n(\\mathbb{K})$ es <b>triangular inferior</b> y $X,B\\in\\mathbb{K}^n$, es decir,\n",
    "\\[\n",
    "\\left( \\begin{array}{cccc}\n",
    "a_{1,1} & & & \\\\\n",
    "a_{2,1} & a_{2,2} & & \\\\\n",
    "\\vdots & \\vdots & \\ddots & \\\\\n",
    "a_{n,1} & a_{n,2} & \\cdots & a_{n,n}\n",
    "\\end{array} \\right) \\, \\left( \\begin{array}{c}\n",
    "x_1 \\\\ x_2 \\\\ \\vdots \\\\ x_n\n",
    "\\end{array} \\right) = \\left( \\begin{array}{c}\n",
    "b_1 \\\\ b_2 \\\\ \\vdots \\\\ b_n\n",
    "\\end{array} \\right)\\,.\n",
    "\\]\n",
    "    <br>\n",
    "    El carácter compatible y determinado del sistema implica que la matriz $A$ es regular y, por tanto, $a_{i,i}\\ne0$, para todo $i=1,2,\\ldots,n$.\n",
    "    <br>\n",
    "    Estos sistemas son fácilmente resolubles, pues al ser la matriz $A$ triangular inferior hace que se puedan calcular las incógnitas de manera inmediata, empezando por la primera y continuando hacia abajo; esto se conoce como <b>método de descenso</b> o de <b>sustitución progresiva</b>, y el algoritmo correspondiente es:\n",
    "\\[\n",
    "\\left\\{ \\begin{array}{ccl}\n",
    "x_1 & = & \\displaystyle \\frac{1}{a_{1,1}}\\,b_1 \\\\\n",
    "x_i & = & \\displaystyle \\frac{1}{a_{i,i}}\\,\\left( b_i - \\sum_{j=1}^{i-1} a_{i,j}\\,x_j \\right) \\quad \\mbox{para} \\quad i=2,3,\\ldots,n\n",
    "\\end{array} \\right.\n",
    "\\]\n",
    "    </span></div>"
   ]
  },
  {
   "cell_type": "markdown",
   "metadata": {},
   "source": [
    "<div align=\"left\"><span style=\"font-family: Arial; color:#000000; font-size: medium\">\n",
    "    <span style=\"color:#FF0000\"><b>Ejercicio 1.</b></span> Definir una función, de nombre <span style=\"font-family: Courier\">descenso()</span>, que implemente el algoritmo del <b>método de descenso</b>. Esta función debe tener dos argumentos de entrada, que son la matriz $A$ y el segundo miembro $B$; por otro lado debe devolver también dos valores, siendo el primero de tipo booleano, en la que los valores <span style=\"font-family: Courier\">True</span> o <span style=\"font-family: Courier\">False</span> indican que se ha resuelto o no con éxito el sistema, y conteniendo el segundo valor la solución del sistema en caso de éxito o un mensaje de error en caso contrario.\n",
    "    </span></div>"
   ]
  },
  {
   "cell_type": "code",
   "execution_count": 2,
   "metadata": {},
   "outputs": [],
   "source": [
    "def descenso(A, B):\n",
    "    m, n = shape(A)\n",
    "    p, q = shape(B)\n",
    "    if m != n or n != p or q != 1:\n",
    "        return False, \"Error descenso: error en las dimensiones.\"\n",
    "    if min(abs(diag(A))) < 1e-200:\n",
    "        return False, \"Error descenso: matriz singular.\"\n",
    "    if A.dtype == complex or B.dtype == complex:\n",
    "        X = zeros((n, 1), dtype=complex)\n",
    "    else:\n",
    "        X = zeros((n, 1), dtype=float)\n",
    "    for i in range(n):\n",
    "        X[i, 0] = B[i, 0]\n",
    "        if i != 0:\n",
    "            X[i, 0] -= A[i, :i]@X[:i, 0]\n",
    "        X[i, 0] = X[i, 0]/A[i, i]\n",
    "    return True, X"
   ]
  },
  {
   "cell_type": "markdown",
   "metadata": {},
   "source": [
    "<div align=\"left\"><span style=\"font-family: Arial; color:#000000; font-size: medium\">\n",
    "    <b>Comentario:</b> observamos que no se hace una <b>comprobación del carácter triangular</b> de la matriz $A$, trabajando con la parte triangular inferior e ignorando los elementos que puedan estar en la parte estrictamente triangular superior (que pueden o no ser ceros); esta estrategia se mostrará útil en algoritmos futuros que usen estas funciones como parte del código.\n",
    "    <br>\n",
    "    Los <b>casos de no éxito</b> en la resolución por el método de descenso se limitan a un problema con las dimensiones (bien porque la matriz $A$ no sea cuadrada, bien porque el segundo miembro $B$ no tenga las dimensiones adecuadas), o también a que la matriz $A$ sea singular o <i>casi singular</i>; el criterio de singularidad se establece en que $\\displaystyle \\min_{i=1,2,\\ldots,n}|a_{i,i}|<10^{-200}$.\n",
    "    <br>\n",
    "    Finalmente, en los <b>casos de éxito</b> la solución $X$ será un vector de las dimensiones adecuadas de tipo real, excepto que alguno se los datos, $A$ o $B$, sea de tipo complejo, en cuyo caso será, evidentemente, de tipo complejo también.\n",
    "    </span></div>"
   ]
  },
  {
   "cell_type": "markdown",
   "metadata": {},
   "source": [
    "<div align=\"left\"><span style=\"font-family: Arial; color:#000000; font-size: medium\">\n",
    "    <span style=\"color:#FF0000\"><b>Ejercicio 2.</b></span> Comprobar el funcionamiento de la función elaborada resolviendo el sistema\n",
    "\\[\n",
    "\\left( \\begin{array}{ccc}\n",
    "1 & & \\\\\n",
    "2 & 3 & \\\\\n",
    "4 & 5 & 6\n",
    "\\end{array} \\right) \\left( \\begin{array}{c}\n",
    "x_1 \\\\ x_2 \\\\ x_3\n",
    "\\end{array} \\right) = \\left( \\begin{array}{c}\n",
    "1 \\\\ 5 \\\\ 15\n",
    "\\end{array} \\right)\\,,\n",
    "\\]\n",
    "cuya solución es el vector con sus tres componentes iguales a 1. Comprobar el resultado verificando que $B-A\\,X=0$.\n",
    "    </span></div>"
   ]
  },
  {
   "cell_type": "code",
   "execution_count": 3,
   "metadata": {},
   "outputs": [
    {
     "name": "stdout",
     "output_type": "stream",
     "text": [
      "Ejercicio 2.\n",
      "Solución: X =  [[1.]\n",
      " [1.]\n",
      " [1.]]\n",
      "Comprobación: ||B-A@X||_2 =  0.0\n"
     ]
    }
   ],
   "source": [
    "# Ejercicio 2.\n",
    "print(\"Ejercicio 2.\")\n",
    "A = array([[1, 0, 0], [2, 3, 0], [4, 5, 6]])\n",
    "B = array([[1], [5], [15]])\n",
    "exito, X = descenso(A, B)\n",
    "if exito:\n",
    "    print(\"Solución: X = \", X)\n",
    "    print(\"Comprobación: ||B-A@X||_2 = \", norma_vec(B-A@X, 2))\n",
    "else:\n",
    "    print(X)"
   ]
  },
  {
   "cell_type": "markdown",
   "metadata": {},
   "source": [
    "<div align=\"left\"><span style=\"font-family: Arial; color:#000000; font-size: medium\">\n",
    "    <span style=\"color:#FF0000\"><b>Ejercicio 3.</b></span> Modificar el programa anterior para prever la posibilidad de <b>resolver simultáneamente varios sistemas lineales</b> $A\\,X_r=B_r$, $r=1,2,\\ldots,q$, todos con la misma matriz $A$ y diferentes segundos miembros $B_r$. Es por ello que el segundo argumento de entrada del programa $B$ no es necesariamente un vector columna, sino una matriz\n",
    "\\[\n",
    "B = \\left( B_1 | B_2 | \\cdots | B_q \\right) \\in \\mathcal{M}_{n\\times q}(\\mathbb{K})\n",
    "\\]\n",
    "mientras que, en caso de éxito, la segunda salida del programa $X$ es también una matriz\n",
    "\\[\n",
    "X = \\left( X_1 | X_2 | \\cdots | X_q \\right) \\in \\mathcal{M}_{n\\times q}(\\mathbb{K})\n",
    "\\]\n",
    "de las mismas dimensiones con las soluciones correspondientes.\n",
    "    <br>\n",
    "    En este sentido, recordamos que si $A\\in\\mathcal{M}_n(\\mathbb{K})$ es una matriz invertible, el problema de <b>calcular su inversa</b> $A^{-1}$ es equivalente a resolver $n$ sistemas de ecuaciones lineales, todos con la misma matriz de coeficientes $A$. En efecto, si hacemos la descomposición por bloques de la matriz inversa\n",
    "\\[\n",
    "A^{-1} = \\left( X_1 | X_2 | \\cdots | X_n \\right)\\,,\n",
    "\\]\n",
    "y de la matriz identidad\n",
    "\\[\n",
    "I = \\left( E_1 | E_2 | \\cdots | E_n \\right)\\,,\n",
    "\\]\n",
    "entonces\n",
    "\\[\n",
    "A\\,A^{-1} = I \\Leftrightarrow A\\,X_i = E_i \\quad \\mbox{para todo} \\quad i=1,2,\\ldots,n\\,.\n",
    "\\]\n",
    "    <br>\n",
    "    En general, utilizaremos esta técnica de resolver varios sistemas lineales de forma simultánea <b>siempre</b> que el algoritmo lo permita.\n",
    "    </span></div>"
   ]
  },
  {
   "cell_type": "code",
   "execution_count": 7,
   "metadata": {},
   "outputs": [],
   "source": [
    "def descenso(A, B):\n",
    "    m, n = shape(A)\n",
    "    p, q = shape(B)\n",
    "    if m != n or n != p or q < 1:\n",
    "        return False, \"Error descenso: error en las dimensiones.\"\n",
    "    if min(abs(diag(A))) < 1e-200:\n",
    "        return False, \"Error descenso: matriz singular.\"\n",
    "    if A.dtype == complex or B.dtype == complex:\n",
    "        X = zeros((n, q), dtype=complex)\n",
    "    else:\n",
    "        X = zeros((n, q), dtype=float)\n",
    "    for i in range(n):\n",
    "        X[i, :] = B[i, :]\n",
    "        if i != 0:\n",
    "            X[i, :] -= A[i, :i]@X[:i, :]\n",
    "        X[i, :] = X[i, :]/A[i, i]\n",
    "    return True, X"
   ]
  },
  {
   "cell_type": "markdown",
   "metadata": {},
   "source": [
    "<div align=\"left\"><span style=\"font-family: Arial; color:#000000; font-size: medium\">\n",
    "    <span style=\"color:#FF0000\"><b>Ejercicio 4.</b></span> Comprobar el funcionamiento de la modificación realizada en el programa calculando la inversa de la matriz\n",
    "\\[\n",
    "A = \\left( \\begin{array}{ccc}\n",
    "1 & & \\\\\n",
    "2 & 3 & \\\\\n",
    "4 & 5 & 6\n",
    "\\end{array} \\right)\\,.\n",
    "\\]\n",
    "Comprobar también el resultado verificando que $A\\,A^{-1}=I$.\n",
    "    </span></div>"
   ]
  },
  {
   "cell_type": "code",
   "execution_count": 5,
   "metadata": {},
   "outputs": [
    {
     "name": "stdout",
     "output_type": "stream",
     "text": [
      "Inversa: A^{-1} =  [[ 1.          0.          0.        ]\n",
      " [-0.66666667  0.33333333  0.        ]\n",
      " [-0.11111111 -0.27777778  0.16666667]]\n",
      "Comprobación: ||I-A@A^{-1}||_2 =  1.3877787807814457e-16\n"
     ]
    }
   ],
   "source": [
    "A = array([[1, 0, 0], [2, 3, 0], [4, 5, 6]])\n",
    "B = eye(3)\n",
    "exito, X = descenso(A, B)\n",
    "if exito:\n",
    "    print(\"Inversa: A^{-1} = \", X)\n",
    "    print(\"Comprobación: ||I-A@A^{-1}||_2 = \", norma_mat(B-A@X, 2)) \n",
    "else:\n",
    "    print(X)"
   ]
  },
  {
   "cell_type": "code",
   "execution_count": 11,
   "metadata": {},
   "outputs": [
    {
     "name": "stdout",
     "output_type": "stream",
     "text": [
      "[[1.00000000e+00 0.00000000e+00 0.00000000e+00]\n",
      " [0.00000000e+00 1.00000000e+00 0.00000000e+00]\n",
      " [8.32667268e-17 1.11022302e-16 1.00000000e+00]]\n"
     ]
    }
   ],
   "source": [
    "print(A@X)"
   ]
  },
  {
   "cell_type": "markdown",
   "metadata": {},
   "source": [
    "<div align=\"left\"><span style=\"font-family: Arial; color:#000000; font-size: medium\">\n",
    "    Consideramos ahora el caso de matrices triangulares superiores, es decir, estudiamos los <b>métodos de remonte</b>.\n",
    "    <br>\n",
    "    Consideramos un sistema de $n$ ecuaciones lineales con $n$ incógnitas compatible y determinado $A\\,X=B$, donde $A\\in\\mathcal{M}_n(\\mathbb{K})$ es <b>triangular superior</b> y $X,B\\in\\mathbb{K}^n$, es decir,\n",
    "\\[\n",
    "\\left( \\begin{array}{cccc}\n",
    "a_{1,1} & a_{1,2} & \\cdots & a_{1,n} \\\\\n",
    "& a_{2,2} & \\cdots & a_{2,n} \\\\\n",
    "& & \\ddots & \\vdots \\\\\n",
    "& & & a_{n,n}\n",
    "\\end{array} \\right) \\left( \\begin{array}{c}\n",
    "x_1 \\\\ x_2 \\\\ \\vdots \\\\ x_n\n",
    "\\end{array} \\right) = \\left( \\begin{array}{c}\n",
    "b_1 \\\\ b_2 \\\\ \\vdots \\\\ b_n\n",
    "\\end{array} \\right)\\,.\n",
    "\\]\n",
    "    <br>\n",
    "    Aquí también el carácter compatible y determinado del sistema implica que la matriz $A$ es regular y, por tanto, $a_{i,i}\\ne0$, para todo $i=1,2,\\ldots,n$.\n",
    "    <br>\n",
    "    Estos sistemas son fácilmente resolubles, pues al ser la matriz $A$ triangular superior hace que se puedan calcular las incógnitas de manera inmediata, empezando ahora por la última y continuando hacia arriba; esto se conoce como <b>método de remonte</b> o de <b>sustitución regresiva</b>, y el algoritmo correspondiente es:\n",
    "\\[\n",
    "\\left\\{ \\begin{array}{ccl}\n",
    "x_n & = & \\displaystyle \\frac{1}{a_{n,n}}\\,b_n \\\\\n",
    "x_i & = & \\displaystyle \\frac{1}{a_{i,i}}\\,\\left( b_i - \\sum_{j=i+1}^n a_{i,j}\\,x_j \\right) \\quad \\mbox{para} \\quad i=n-1,n-2,\\ldots,1\n",
    "\\end{array} \\right.\n",
    "\\]\n",
    "    </span></div>"
   ]
  },
  {
   "cell_type": "markdown",
   "metadata": {},
   "source": [
    "<div align=\"left\"><span style=\"font-family: Arial; color:#000000; font-size: medium\">\n",
    "    <span style=\"color:#FF0000\"><b>Ejercicio 5.</b></span> Definir una función, de nombre <span style=\"font-family: Courier\">remonte()</span>, que implemente el algoritmo del <b>método de remonte</b>. Esta función debe tener las mismas características que el programa <span style=\"font-family: Courier\">descenso()</span>.\n",
    "    <br>\n",
    "    <b>Comentario:</b> para generar un contador que retroceda, se puede utilizar la instrucción <span style=\"font-family: Courier\">range(a,b,c)</span> que genera una lista de enteros desde <span style=\"font-family: Courier\">a</span> (incluido) hasta <span style=\"font-family: Courier\">b</span> (excluido), con salto de <span style=\"font-family: Courier\">c</span> (que puede ser negativo).\n",
    "    </span></div>"
   ]
  },
  {
   "cell_type": "code",
   "execution_count": 12,
   "metadata": {},
   "outputs": [],
   "source": [
    "def remonte(A, B):\n",
    "    m, n = shape(A)\n",
    "    p, q = shape(B)\n",
    "    if m != n or n != p or q < 1:\n",
    "        return False, \"Error remonte: error en las dimensiones.\"\n",
    "    if min(abs(diag(A))) < 1e-200:\n",
    "        return False, \"Error remonte: matriz singular.\"\n",
    "    if A.dtype == complex or B.dtype == complex:\n",
    "        X = zeros((n, q), dtype=complex)\n",
    "    else:\n",
    "        X = zeros((n, q), dtype=float)\n",
    "    for i in range(n-1,-1,-1):\n",
    "        X[i, :] = B[i, :]\n",
    "        if i != n-1:\n",
    "            X[i, :] -= A[i, i+1:]@X[i+1:, :]\n",
    "        X[i, :] = X[i, :]/A[i, i]\n",
    "    return True, X"
   ]
  },
  {
   "cell_type": "markdown",
   "metadata": {},
   "source": [
    "<div align=\"left\"><span style=\"font-family: Arial; color:#000000; font-size: medium\">\n",
    "    <span style=\"color:#FF0000\"><b>Ejercicio 6.</b></span> Comprobar el funcionamiento de la función elaborada resolviendo el sistema\n",
    "\\[\n",
    "\\left( \\begin{array}{ccc}\n",
    "1 & 2 & 3\\\\\n",
    "& 4 & 5 \\\\\n",
    "& & 6\n",
    "\\end{array} \\right) \\left( \\begin{array}{c}\n",
    "x_1 \\\\ x_2 \\\\ x_3\n",
    "\\end{array} \\right) = \\left( \\begin{array}{c}\n",
    "6 \\\\ 9 \\\\ 6\n",
    "\\end{array} \\right)\\,,\n",
    "\\]\n",
    "cuya solución es el vector con sus tres componentes iguales a 1. Calcular también la inversa de la matriz de coeficientes y comprobar los resultados obtenidos.\n",
    "    </span></div>"
   ]
  },
  {
   "cell_type": "code",
   "execution_count": 15,
   "metadata": {
    "scrolled": true
   },
   "outputs": [
    {
     "name": "stdout",
     "output_type": "stream",
     "text": [
      "Solución: X =  [[1.]\n",
      " [1.]\n",
      " [1.]]\n",
      "Comprobación: ||B-A@X||_2 =  0.0\n"
     ]
    }
   ],
   "source": [
    "A = array([[1, 2, 3], [0, 4, 5], [0, 0, 6]])\n",
    "B = array([[6], [9], [6]])\n",
    "exito, X = remonte(A, B)\n",
    "if exito:\n",
    "    print(\"Solución: X = \", X)\n",
    "    print(\"Comprobación: ||B-A@X||_2 = \", norma_vec(B-A@X, 2))\n",
    "else:\n",
    "    print(X)"
   ]
  },
  {
   "cell_type": "markdown",
   "metadata": {},
   "source": [
    "<div align=\"justify\"><span style=\"font-family: Arial,Helvetica,sans-serif; font-size: medium; color:#000000\"\">\n",
    "    <span style=\"color:#FF0000\"><b>Problema.</b></span> Resolver los siguientes sistemas de ecuaciones lineales:\n",
    "\\[\n",
    "\\begin{array}{lllll}\n",
    "\\mbox{(a)} & \\left( \\begin{array}{rrrr}\n",
    "5 & & & \\\\ 1 & 3 & & \\\\ 3 & 4 & 2 & \\\\ -1 & 3 & -6 & -1\n",
    "\\end{array} \\right) \\left( \\begin{array}{c}\n",
    "x_1 \\\\ x_2 \\\\ x_3 \\\\ x_4\n",
    "\\end{array} \\right) = \\left( \\begin{array}{r}\n",
    "-10 \\\\ 4 \\\\ 2 \\\\ 5\n",
    "\\end{array} \\right) & \\mbox{} &\n",
    "\\mbox{(b)} & \\left( \\begin{array}{rrrr}\n",
    "2 & & & \\\\ -1 & 4 & & \\\\ 3 & -2 & -1 & \\\\ 1 & -2 & 6 & 3\n",
    "\\end{array} \\right) \\left( \\begin{array}{c}\n",
    "x_1 \\\\ x_2 \\\\ x_3 \\\\ x_4\n",
    "\\end{array} \\right) = \\left( \\begin{array}{r}\n",
    "6 \\\\ 5 \\\\ 4 \\\\ 2\n",
    "\\end{array} \\right) \\\\\n",
    "\\mbox{} \\\\\n",
    "\\mbox{(c)} & \\left( \\begin{array}{rrrr}\n",
    "4 & -1 & 2 & 3 \\\\ & -2 & 7 & -4 \\\\ & & 6 & 5 \\\\ & & & 3\n",
    "\\end{array} \\right) \\left( \\begin{array}{c}\n",
    "x_1 \\\\ x_2 \\\\ x_3 \\\\ x_4\n",
    "\\end{array} \\right) = \\left( \\begin{array}{r}\n",
    "20 \\\\ -7 \\\\ 4 \\\\ 6\n",
    "\\end{array} \\right) & \\mbox{} &\n",
    "\\mbox{(d)} & \\left( \\begin{array}{rrrr}\n",
    "3 & -2 & 1 & -1 \\\\ & 4 & -1 & 2 \\\\ & & 2 & 3 \\\\ & & & 5\n",
    "\\end{array} \\right) \\left( \\begin{array}{c}\n",
    "x_1 \\\\ x_2 \\\\ x_3 \\\\ x_4\n",
    "\\end{array} \\right) = \\left( \\begin{array}{r}\n",
    "8 \\\\ -3 \\\\ 11 \\\\ 15\n",
    "\\end{array} \\right)\n",
    "\\end{array}\n",
    "\\]\n",
    "    <br><br>\n",
    "    Como tarea adicional se pide:\n",
    "<ul>\n",
    "    <li> comprobar la exactitud de los resultados obtenidos;</li>\n",
    "    <li> calcular las inversas de las matrices de coeficientes y comprobar la exactitud de los resultados;</li>\n",
    "    <li> en algún caso, cambiar alguna dimensión en la matriz de coeficientes o en el segundo miembro, de manera que se provoque una situación de error;</li>\n",
    "    <li> el algún caso, cambiar a 0 (o a un número muy próximo a 0) el valor de un elemento diagonal de la matriz de coeficientes, de manera que se provoque una situación de error;</li>\n",
    "    <li> en algún caso, cambiar el valor de algunos de los elementos que deben ser 0 en una matriz triangular, por otros valores distintos de 0 de manera que la matriz deje de ser triangular; observar como los programas obvian estos valores y resuelven los sistemas como si las matrices fueran triangulares (si se hace la comprobación de la exactitud de los resultados se detectará este problema);</li>\n",
    "    <li> cambiar algunos de los elementos de la matriz de coeficientes y/o del segundo miembro por números complejos para comprobar que los programas funcionan con aritmética compleja.</li>\n",
    "</ul>\n",
    "    </span></div>"
   ]
  },
  {
   "cell_type": "code",
   "execution_count": 17,
   "metadata": {
    "scrolled": true
   },
   "outputs": [
    {
     "name": "stdout",
     "output_type": "stream",
     "text": [
      "Solución: X =  [[-2.]\n",
      " [ 2.]\n",
      " [ 0.]\n",
      " [ 3.]]\n",
      "Comprobación: ||B-A@X||_2 =  0.0\n"
     ]
    }
   ],
   "source": [
    "A = array([[5, 0, 0,0], [1, 3, 0, 0], [3, 4, 2, 0], [-1, 3, -6, -1]])\n",
    "B = array([[-10], [4], [2], [5]])\n",
    "exito, X = descenso(A, B)\n",
    "if exito:\n",
    "    print(\"Solución: X = \", X)\n",
    "    print(\"Comprobación: ||B-A@X||_2 = \", norma_vec(B-A@X, 2))\n",
    "else:\n",
    "    print(X)"
   ]
  },
  {
   "cell_type": "code",
   "execution_count": null,
   "metadata": {},
   "outputs": [],
   "source": []
  },
  {
   "cell_type": "markdown",
   "metadata": {},
   "source": [
    "<div align=\"justify\"><span style=\"font-family: Arial,Helvetica,sans-serif; font-size: medium; color:#000000\"\">\n",
    "    <span style=\"color:#FF0000\"><b>Ejercicio 7.</b></span> Elaborar dos nuevas funciones, a las que daremos el nombre de <span style=\"font-family: Courier,monospace\">descenso1()</span> y <span style=\"font-family: Courier,monospace\">remonte1()</span>, respectivamente, que implementen los mismos <b>métodos de descenso y remonte</b>, pero suponiendo ahora que la matriz de coeficientes $A$ tiene <b>1 en la diagonal principal</b> (independientemente de los valores que estén guardados en los elementos diagonales de la matriz que se pasa como argumento a las funciones creadas). Estos programas serán de utilidad en la fase final de resolución de un sistema lineal por métodos de descomposición.\n",
    "    <br><br>\n",
    "    <span style=\"color:#FF0000\"><b>Comentario.</b></span> Para realizar los programas anteriores, únicamente hay que tener en cuenta que los elementos diagonales de las matrices solamente aparecen en la división final del algoritmo, por lo que <i>suprimir esa división</i> es equivalente a <i>dividir por 1</i>. Por otro lado no será necesario en este caso la comprobación sobre el carácter regular de la matriz, puesto que estamos suponiendo que los elementos diagonales valen 1 (independientemente de los valores que se encuentren almacenados en dichas posiciones) y por tanto la matriz es siempre inversible.\n",
    "    </span></div>"
   ]
  },
  {
   "cell_type": "code",
   "execution_count": 19,
   "metadata": {},
   "outputs": [],
   "source": [
    "def descenso1(A, B):\n",
    "    m, n = shape(A)\n",
    "    p, q = shape(B)\n",
    "    if m != n or n != p or q < 1:\n",
    "        return False, \"Error descenso: error en las dimensiones.\"\n",
    "    if A.dtype == complex or B.dtype == complex:\n",
    "        X = zeros((n, q), dtype=complex)\n",
    "    else:\n",
    "        X = zeros((n, q), dtype=float)\n",
    "    for i in range(n):\n",
    "        X[i, :] = B[i, :]\n",
    "        if i != 0:\n",
    "            X[i, :] -= A[i, :i]@X[:i, :]\n",
    "    return True, X"
   ]
  },
  {
   "cell_type": "code",
   "execution_count": 20,
   "metadata": {},
   "outputs": [],
   "source": [
    "def remonte1(A, B):\n",
    "    m, n = shape(A)\n",
    "    p, q = shape(B)\n",
    "    if m != n or n != p or q < 1:\n",
    "        return False, \"Error remonte: error en las dimensiones.\"\n",
    "    if A.dtype == complex or B.dtype == complex:\n",
    "        X = zeros((n, q), dtype=complex)\n",
    "    else:\n",
    "        X = zeros((n, q), dtype=float)\n",
    "    for i in range(n-1,-1,-1):\n",
    "        X[i, :] = B[i, :]\n",
    "        if i != n-1:\n",
    "            X[i, :] -= A[i, i+1:]@X[i+1:, :]\n",
    "    return True, X"
   ]
  },
  {
   "cell_type": "markdown",
   "metadata": {},
   "source": [
    "<div align=\"justify\"><span style=\"font-family: Arial,Helvetica,sans-serif; font-size: medium; color:#000000\"\">\n",
    "    <span style=\"color:#FF0000\"><b>Ejercicio 8.</b></span> Resolver los siguientes sistemas de ecuaciones lineales:\n",
    "\\[\n",
    "\\begin{array}{lllll}\n",
    "\\mbox{(a)} & \\left( \\begin{array}{rrrr}\n",
    "1 & & & \\\\ 1 & 1 & & \\\\ 3 & 4 & 1 & \\\\ -1 & 3 & -6 & 1\n",
    "\\end{array} \\right) \\left( \\begin{array}{c}\n",
    "x_1 \\\\ x_2 \\\\ x_3 \\\\ x_4\n",
    "\\end{array} \\right) = \\left( \\begin{array}{r}\n",
    "-10 \\\\ 4 \\\\ 2 \\\\ 5\n",
    "\\end{array} \\right) & \\mbox{} &\n",
    "\\mbox{(b)} & \\left( \\begin{array}{rrrr}\n",
    "1 & -1 & 2 & 3 \\\\ & 1 & 7 & -4 \\\\ & & 1 & 5 \\\\ & & & 1\n",
    "\\end{array} \\right) \\left( \\begin{array}{c}\n",
    "x_1 \\\\ x_2 \\\\ x_3 \\\\ x_4\n",
    "\\end{array} \\right) = \\left( \\begin{array}{r}\n",
    "20 \\\\ -7 \\\\ 4 \\\\ 6\n",
    "\\end{array} \\right)\n",
    "\\end{array}\n",
    "\\]\n",
    "    <br><br>\n",
    "    Dado que ambas matrices tienes elementos diagonales iguales a 1, resolver los sistemas utilizando tanto los métodos generales de <span style=\"font-family: Courier,monospace\">descenso()</span> y <span style=\"font-family: Courier,monospace\">remonte()</span>, respectivamente, como los métodos modificados de <span style=\"font-family: Courier,monospace\">descenso1()</span> y <span style=\"font-family: Courier,monospace\">remonte1()</span>, viendo que se obtienen los mismos resultados.\n",
    "    </span></div>"
   ]
  },
  {
   "cell_type": "code",
   "execution_count": 6,
   "metadata": {},
   "outputs": [
    {
     "name": "stdout",
     "output_type": "stream",
     "text": [
      "Solución: X =  [[ -10.]\n",
      " [  14.]\n",
      " [ -24.]\n",
      " [-191.]]\n",
      "Comprobación: ||B-A@X||_2 =  0.0\n"
     ]
    }
   ],
   "source": [
    "A = array([[1, 0, 0, 0], [1, 1, 0, 0], [3, 4, 1, 0], [-1, 3, -6, 1]])\n",
    "B = array([[-10], [4], [2], [5]])\n",
    "exito, X = descenso1(A, B)\n",
    "if exito:\n",
    "    print(\"Solución: X = \", X)\n",
    "    print(\"Comprobación: ||B-A@X||_2 = \", norma_vec(B-A@X, 2))\n",
    "else:\n",
    "    print(X)"
   ]
  },
  {
   "cell_type": "code",
   "execution_count": 7,
   "metadata": {},
   "outputs": [
    {
     "name": "stdout",
     "output_type": "stream",
     "text": [
      "Solución: X =  [[253.]\n",
      " [199.]\n",
      " [-26.]\n",
      " [  6.]]\n",
      "Comprobación: ||B-A@X||_2 =  0.0\n"
     ]
    }
   ],
   "source": [
    "A = array([[1, -1, 2, 3], [0, 1, 7, -4], [0, 0, 1, 5], [0, 0, 0, 1]])\n",
    "B = array([[20], [-7], [4], [6]])\n",
    "exito, X = remonte1(A, B)\n",
    "if exito:\n",
    "    print(\"Solución: X = \", X)\n",
    "    print(\"Comprobación: ||B-A@X||_2 = \", norma_vec(B-A@X, 2))\n",
    "else:\n",
    "    print(X)"
   ]
  },
  {
   "cell_type": "markdown",
   "metadata": {},
   "source": [
    "<div align=\"justify\"><span style=\"font-family: Arial,Helvetica,sans-serif; font-size: medium; color:#000000\"\">\n",
    "    Otro caso particularmente interesante se produce cuando la <b>matriz triangular</b> $A$ es, al mismo tiempo, <b>tridiagonal</b>, lo que significa que realmente sus únicos elementos no nulos pueden estar situados en dos diagonales: la diagonal principal y una diagonal adicional, bien la sub-diagonal en el caso de triangulares inferiores, bien la supra-diagonal en el caso de triangulares superiores. Una <b>resolución óptima</b> de estos sistemas evita aquellos cálculos inútiles al involucrar los muchos 0 que existen.\n",
    "    </span></div>"
   ]
  },
  {
   "cell_type": "markdown",
   "metadata": {},
   "source": [
    "<div align=\"justify\"><span style=\"font-family: Arial,Helvetica,sans-serif; font-size: medium; color:#000000\"\">\n",
    "    <span style=\"color:#FF0000\"><b>Ejercicio 9.</b></span> Elaborar dos nuevas funciones, a las que daremos el nombre de <span style=\"font-family: Courier,monospace\">descenso_1diag()</span> y <span style=\"font-family: Courier,monospace\">remonte_1diag()</span>, respectivamente, que implementen la <b>mejora de tiempo de cálculo</b> descrita en el párrafo anterior para <b>matrices triangulares y tridiagonales</b>. Estos programas serán similares a los anteriores en cuanto a argumentos de entrada y de salida y tampoco harán una comprobación sobre el carácter tridiagonal de la matriz, suponiendo que son nulos los elementos que deben serlo, independientemente de los valores que estén guardados en dichas posiciones de la matriz.\n",
    "    </span></div>"
   ]
  },
  {
   "cell_type": "code",
   "execution_count": 23,
   "metadata": {},
   "outputs": [],
   "source": [
    "def descenso_1diag(A, B):\n",
    "    m, n = shape(A)\n",
    "    p, q = shape(B)\n",
    "    if m != n or n != p or q < 1:\n",
    "        return False, \"Error descenso: error en las dimensiones.\"\n",
    "    if min(abs(diag(A))) < 1e-200:\n",
    "        return False, \"Error descenso: matriz singular.\"\n",
    "    if A.dtype == complex or B.dtype == complex:\n",
    "        X = zeros((n, q), dtype=complex)\n",
    "    else:\n",
    "        X = zeros((n, q), dtype=float)\n",
    "    for i in range(n):\n",
    "        X[i, :] = B[i, :]\n",
    "        if i != 0:\n",
    "            X[i, :] -= A[i, i-1]*X[i-1, :]\n",
    "        X[i, :] = X[i, :]/A[i, i]\n",
    "    return True, X"
   ]
  },
  {
   "cell_type": "code",
   "execution_count": 36,
   "metadata": {},
   "outputs": [],
   "source": [
    "def remonte_1diag(A, B):\n",
    "    m, n = shape(A)\n",
    "    p, q = shape(B)\n",
    "    if m != n or n != p or q < 1:\n",
    "        return False, \"Error remonte: error en las dimensiones.\"\n",
    "    if min(abs(diag(A))) < 1e-200:\n",
    "        return False, \"Error remonte: matriz singular.\"\n",
    "    if A.dtype == complex or B.dtype == complex:\n",
    "        X = zeros((n, q), dtype=complex)\n",
    "    else:\n",
    "        X = zeros((n, q), dtype=float)\n",
    "    for i in range(n-1,-1,-1):\n",
    "        X[i, :] = B[i, :]\n",
    "        if i != n-1:\n",
    "            X[i, :] -= A[i, i+1]*X[i+1, :]\n",
    "        X[i, :] = X[i, :]/A[i, i]\n",
    "    return True, X"
   ]
  },
  {
   "cell_type": "markdown",
   "metadata": {},
   "source": [
    "<div align=\"justify\"><span style=\"font-family: Arial,Helvetica,sans-serif; font-size: medium; color:#000000\"\">\n",
    "    <span style=\"color:#FF0000\"><b>Ejercicio 10.</b></span> Crear una matriz de orden 5, triangular inferior (superior) y tridiagonal, que tenga en la diagonal principal 2 y en la sub-diagonal (supra-diagonal) $-1$; crear igualmente un segundo miembro adecuado para que la solución del sistema lineal correspondiente sea el vector con todos sus elementos igual a 1 (esto se consigue tomando como segundo miembro el vector cuyos elementos son las sumas de los elementos de las filas correspondientes de la matriz de coeficientes).\n",
    "    <br><br>\n",
    "    Resolver ese sistema lineal con la función que implementa el método de descenso (remonte) completo y el que implementa el método correspondiente optimizado para matrices tridiagonales, comprobando que se obtienen resultados similares.\n",
    "    </span></div>"
   ]
  },
  {
   "cell_type": "code",
   "execution_count": 8,
   "metadata": {},
   "outputs": [
    {
     "name": "stdout",
     "output_type": "stream",
     "text": [
      "Solución: X =  [[1.]\n",
      " [1.]\n",
      " [1.]\n",
      " [1.]\n",
      " [1.]]\n",
      "Comprobación: ||B-A@X||_2 =  0.0\n"
     ]
    }
   ],
   "source": [
    "A = 2*eye(5) - eye(5, k=-1)\n",
    "B = reshape(sum(A, axis=1), (5, 1))\n",
    "exito, X = descenso(A, B)\n",
    "if exito:\n",
    "    print(\"Solución: X = \", X)\n",
    "    print(\"Comprobación: ||B-A@X||_2 = \", norma_vec(B-A@X, 2))\n",
    "else:\n",
    "    print(X)"
   ]
  },
  {
   "cell_type": "code",
   "execution_count": 2,
   "metadata": {},
   "outputs": [
    {
     "name": "stdout",
     "output_type": "stream",
     "text": [
      "Solución: X =  [[0.5]\n",
      " [0.5]\n",
      " [0.5]\n",
      " [0.5]\n",
      " [1. ]]\n",
      "Comprobación: ||B-A@X||_2 =  1.3228756555322954\n"
     ]
    }
   ],
   "source": [
    "A = 2*eye(5) - eye(5, k=1)\n",
    "B = reshape(sum(A, axis=1), (5, 1))\n",
    "exito, X = descenso_1diag(A, B)\n",
    "if exito:\n",
    "    print(\"Solución: X = \", X)\n",
    "    print(\"Comprobación: ||B-A@X||_2 = \", norma_vec(B-A@X, 2))\n",
    "else:\n",
    "    print(X)"
   ]
  },
  {
   "cell_type": "markdown",
   "metadata": {},
   "source": [
    "<div align=\"justify\"><span style=\"font-family: Arial,Helvetica,sans-serif; font-size: medium; color:#000000\"\">\n",
    "    <span style=\"color:#FF0000\"><b>Ejercicio 11.</b></span> Calcular las inversas de las matrices del ejercicio anterior, comprobando que dichas inversas no conservan el carácter tridiagonal de la matriz inicial.\n",
    "    </span></div>"
   ]
  },
  {
   "cell_type": "code",
   "execution_count": 4,
   "metadata": {},
   "outputs": [
    {
     "name": "stdout",
     "output_type": "stream",
     "text": [
      "[[0.5     0.25    0.125   0.0625  0.03125]\n",
      " [0.      0.5     0.25    0.125   0.0625 ]\n",
      " [0.      0.      0.5     0.25    0.125  ]\n",
      " [0.      0.      0.      0.5     0.25   ]\n",
      " [0.      0.      0.      0.      0.5    ]]\n"
     ]
    }
   ],
   "source": [
    "A = 2*eye(5) - eye(5, k=1)\n",
    "print(inv(A))"
   ]
  },
  {
   "cell_type": "code",
   "execution_count": null,
   "metadata": {},
   "outputs": [],
   "source": []
  },
  {
   "cell_type": "markdown",
   "metadata": {},
   "source": [
    "<div align=\"justify\"><span style=\"font-family: Arial,Helvetica,sans-serif; font-size: medium; color:#000000\"\">\n",
    "    <span style=\"color:#FF0000\"><b>Ejercicio 12.</b></span> Se puede <b>controlar el tiempo de ejecución</b> de un programa importando la función <span style=\"font-family: Courier,monospace\">time()</span> del módulo <span style=\"font-family: Courier,monospace\">time</span>, haciendo una llamada a dicha función antes y después de ejecutar el programa que queramos controlar y calculando la diferencia de tiempos.\n",
    "    <br><br>\n",
    "    Analizar la diferencia de tiempos de ejecución de la versión general del programa <span style=\"font-family: Courier,monospace\">descenso()</span> (respect. <span style=\"font-family: Courier,monospace\">remonte()</span>) y del programa <span style=\"font-family: Courier,monospace\">descenso_1diag()</span> (respect. <span style=\"font-family: Courier,monospace\">remonte_1diag()</span>), usando un sistema lineal análogo al del Ejercicio 10, pero de tamaño tan grande como sea posible.\n",
    "    </span></div>"
   ]
  },
  {
   "cell_type": "code",
   "execution_count": 35,
   "metadata": {},
   "outputs": [
    {
     "name": "stdout",
     "output_type": "stream",
     "text": [
      "0.17716097831726074\n",
      "0.08977079391479492\n"
     ]
    }
   ],
   "source": [
    "from time import time\n",
    "n = 15000\n",
    "A = 2*eye(n) - eye(n, k=-1)\n",
    "B = reshape(sum(A, axis=1), (n, 1))\n",
    "#\n",
    "tiempo_ini = time()\n",
    "exito, X = descenso(A, B)\n",
    "tiempo_fin = time()\n",
    "print(tiempo_fin-tiempo_ini)\n",
    "\n",
    "tiempo_ini = time()\n",
    "exito, X = descenso_1diag(A, B)\n",
    "tiempo_fin = time()\n",
    "print(tiempo_fin-tiempo_ini)"
   ]
  },
  {
   "cell_type": "code",
   "execution_count": 37,
   "metadata": {},
   "outputs": [
    {
     "name": "stdout",
     "output_type": "stream",
     "text": [
      "0.16657567024230957\n",
      "0.091766357421875\n"
     ]
    }
   ],
   "source": [
    "from time import time\n",
    "n = 15000\n",
    "A = 2*eye(n) - eye(n, k=1)\n",
    "B = reshape(sum(A, axis=1), (n, 1))\n",
    "#\n",
    "tiempo_ini = time()\n",
    "exito, X = remonte(A, B)\n",
    "tiempo_fin = time()\n",
    "print(tiempo_fin-tiempo_ini)\n",
    "\n",
    "tiempo_ini = time()\n",
    "exito, X = remonte_1diag(A, B)\n",
    "tiempo_fin = time()\n",
    "print(tiempo_fin-tiempo_ini)"
   ]
  },
  {
   "cell_type": "markdown",
   "metadata": {},
   "source": [
    "<div align=\"justify\"><span style=\"font-family: Arial,Helvetica,sans-serif; font-size: medium; color:#000000\"\">\n",
    "    <span style=\"color:#FF0000\"><b>Ejercicio 13.</b></span> Al igual que para las matrices triangulares y tridiagonales (es decir, matrices banda con semi-anchura de la banda $r=1$) hemos elaborado funciones optimizadas de los algoritmos de descenso y de remonte respectivamente, elaborar funciones similares para el caso de <b>matrices banda con semi-anchura de la banda $r$</b> ($1\\le r<n$).\n",
    "    <br><br>\n",
    "    Utilizar los nombres de <span style=\"font-family: Courier,monospace\">descenso_rdiag()</span> y <span style=\"font-family: Courier,monospace\">remonte_rdiag()</span> para dichas funciones, que deben tener un parámetro de entrada adicional que es justamente el valor de $r$.\n",
    "    <br><br>\n",
    "    Observamos que en el caso $r=n-1$ la matriz es realmente llena, si bien el carácter de matriz banda se utiliza cuando $r$ es <i>pequeño<i> en comparación con $n$.\n",
    "    </span></div>"
   ]
  },
  {
   "cell_type": "code",
   "execution_count": null,
   "metadata": {},
   "outputs": [],
   "source": [
    "def descenso_rdiag(A, B, r):\n",
    "..."
   ]
  },
  {
   "cell_type": "code",
   "execution_count": null,
   "metadata": {},
   "outputs": [],
   "source": [
    "def remonte_rdiag(A, B, r):\n",
    "..."
   ]
  },
  {
   "cell_type": "markdown",
   "metadata": {},
   "source": [
    "<div align=\"justify\"><span style=\"font-family: Arial,Helvetica,sans-serif; font-size: medium; color:#000000\"\">\n",
    "    <span style=\"color:#FF0000\"><b>Ejercicio 14.</b></span> Crear una matriz de orden 5, pentadiagonal inferior (superior) y tridiagonal, que tenga en la diagonal principal 4 y en las dos sub-diagonales (supra-diagonales) $-1$; crear igualmente un segundo miembro adecuado para que la solución del sistema lineal correspondiente sea el vector con todos sus elementos igual a 1.\n",
    "    <br><br>\n",
    "    Resolver ese sistema lineal con la función que implementa el método de descenso (remonte) completo y el que implementa el método correspondiente optimizado para matrices $r$-bandas, comprobando que se obtienen resultados similares.\n",
    "    </span></div>"
   ]
  },
  {
   "cell_type": "code",
   "execution_count": null,
   "metadata": {},
   "outputs": [],
   "source": [
    "A = 4*eye(5) - eye(5, k=-1) - eye(5, k=-2)\n",
    "B = reshape(sum(A, axis=1), (5, 1))\n",
    "..."
   ]
  },
  {
   "cell_type": "code",
   "execution_count": null,
   "metadata": {},
   "outputs": [],
   "source": [
    "A = 4*eye(5) - eye(5, k=1) - eye(5, k=2)\n",
    "B = reshape(sum(A, axis=1), (5, 1))\n",
    "..."
   ]
  },
  {
   "cell_type": "markdown",
   "metadata": {},
   "source": [
    "<div align=\"justify\"><span style=\"font-family: Arial,Helvetica,sans-serif; font-size: medium; color:#000000\"\">\n",
    "    <span style=\"color:#FF0000\"><b>Comentario.</b></span> Consideremos de nuevo el caso de una matriz invertible $A\\in\\mathcal{M}_n(\\mathbf{K})$ triangular inferior y tridiagonal. Es habitual que para el <b>almacenamiento</b> de la misma en la memoria del ordenador, no se utilice una matriz de tamaño $n\\times n$ (cuyos elementos serían en su mayoría 0), sino que se utilice una <i>matriz optimizada</i> de tamaño $n\\times2$, en cuya segunda columna se almacenan los elementos de la diagonal principal conservando la fila, y en cuya primera columna se almacenan los elementos de la sub-diagonal también conservando la fila (el valor almacenada en la primera fila y primera columna de esta <i>matriz optimizada</i> no tiene ninguna utilidad en este caso). En el caso de matrices triangulares superiores se almacena la diagonal principal en la primera columna, mientras que en la segunda columna se almacenan los elementos de la supra-diagonal, siempre conservando la fila (en este caso el valor almacenado en la segunda columna de la última fila no tiene ninguna utilidad).\n",
    "    <br><br>\n",
    "    Otras técnicas similares se utilizan, en general, para el almacenamiento de <b>matrices vacías</b>.\n",
    "    </span></div>"
   ]
  },
  {
   "cell_type": "markdown",
   "metadata": {},
   "source": [
    "<div align=\"justify\"><span style=\"font-family: Arial,Helvetica,sans-serif; font-size: medium; color:#000000\"\">\n",
    "    <span style=\"color:#FF0000\"><b>Ejercicio 15.</b></span> Modificar nuestro programa <span style=\"font-family: Courier,monospace\">descenso_1diag()</span> creando un nuevo programa de nombre <span style=\"font-family: Courier,monospace\">descenso_1diag_vacia()</span> que tenga en cuenta esta forma optimizada de almacenamiento de la matriz. Realizar un análisis similar para el caso de matrices triangulares superiores, pasando del programa <span style=\"font-family: Courier,monospace\">remonte_1diag()</span> al programa <span style=\"font-family: Courier,monospace\">remonte_1diag_vacia()</span>."
   ]
  },
  {
   "cell_type": "code",
   "execution_count": null,
   "metadata": {},
   "outputs": [],
   "source": [
    "def descenso_1diag_vacia(A, B):\n",
    "..."
   ]
  },
  {
   "cell_type": "code",
   "execution_count": null,
   "metadata": {},
   "outputs": [],
   "source": [
    "def remonte_1diag_vacia(A, B):\n",
    "..."
   ]
  },
  {
   "cell_type": "markdown",
   "metadata": {},
   "source": [
    "<div align=\"justify\"><span style=\"font-family: Arial,Helvetica,sans-serif; font-size: medium; color:#000000\"\">\n",
    "    <span style=\"color:#FF0000\"><b>Ejercicio 16.</b></span> Crear una matriz de orden $n$ (con $n$ suficientemente grande), triangular inferior (superior) y tridiagonal, que tenga en la diagonal principal 2 y en la sub-diagonal (supra-diagonal) $-1$; crear igualmente un segundo miembro adecuado para que la solución del sistema lineal correspondiente sea el vector con todos sus elementos igual a 1.\n",
    "    <br><br>\n",
    "    Resolver ese sistema lineal con la función que implementa el método de descenso (remonte) completo, el que implementa el método de descenso (remonte) optimizado para matrices triadiagonales y el que implementa el método correspondiente optimizado para matrices tridiagonales y para el almacenamiento optimizado de la matriz, comprobando que se obtienen resultados similares.\n",
    "    </span></div>"
   ]
  },
  {
   "cell_type": "code",
   "execution_count": null,
   "metadata": {},
   "outputs": [],
   "source": []
  }
 ],
 "metadata": {
  "kernelspec": {
   "display_name": "Python 3",
   "language": "python",
   "name": "python3"
  },
  "language_info": {
   "codemirror_mode": {
    "name": "ipython",
    "version": 3
   },
   "file_extension": ".py",
   "mimetype": "text/x-python",
   "name": "python",
   "nbconvert_exporter": "python",
   "pygments_lexer": "ipython3",
   "version": "3.7.9"
  }
 },
 "nbformat": 4,
 "nbformat_minor": 4
}
