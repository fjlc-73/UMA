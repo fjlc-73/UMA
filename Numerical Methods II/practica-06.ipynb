{
 "cells": [
  {
   "cell_type": "markdown",
   "metadata": {},
   "source": [
    "<div align=\"center\"><span style=\"font-family: Arial; color:#0000FF\"><b>\n",
    "    <span style=\"font-size: x-large\">Métodos Numéricos II</span>\n",
    "    <br>\n",
    "    <span style=\"font-size: large\">Segundo de Grado en Matemáticas - Curso 2022/23</span>\n",
    "    <br>\n",
    "    <span style=\"font-size: medium\">Facultad de Ciencias de la Universidad de Málaga</span>\n",
    "    <br>\n",
    "    <span style=\"font-size: small\">Dpto. de Análisis Matemático, Estadística e Investigación Operativa, y Matemática Aplicada</span>\n",
    "    <br>\n",
    "    <span style=\"font-size: small\">Profs. Manuel J. Castro y Francisco J. Palma (Área Conocimiento de Matemática Aplicada)</span>\n",
    "    <br>\n",
    "    <span style=\"font-size: medium; color:#FF0000\">Práctica número 6</span>\n",
    "    </b></span></div>"
   ]
  },
  {
   "cell_type": "code",
   "execution_count": 7,
   "metadata": {},
   "outputs": [],
   "source": [
    "from algoritmos import *"
   ]
  },
  {
   "cell_type": "markdown",
   "metadata": {},
   "source": [
    "<div align=\"left\"><span style=\"font-family: Arial; color:#000000; font-size: medium\">\n",
    "    El objetivo de esta práctica es definir funciones <span style=\"font-family: Courier\">Python</span> para resolver sistemas de ecuaciones lineales utilizando para ello <b>factorizaciones</b> de tipo $LU$ y de Cholesky.\n",
    "    </span></div>"
   ]
  },
  {
   "cell_type": "markdown",
   "metadata": {},
   "source": [
    "<div align=\"left\"><span style=\"font-family: Arial; color:#000000; font-size: medium\">\n",
    "    Recordamos que dada $A\\in\\mathcal{M}_n(\\mathbb{K})$ inversible, se llama <b>factorización</b> $LU$ a la descomposición, si es posible, $A=L\\,U$, siendo $L\\in\\mathcal{M}_n(\\mathbb{K})$ triangular inferior, inversible y con unos en la diagonal principal y $U\\in\\mathcal{M}_n(\\mathbb{K})$ triangular superior e inversible. Esta factorización es posible si y solamente si todas las submatrices principales de $A$ son también inversibles, siendo además única.\n",
    "    </span></div>"
   ]
  },
  {
   "cell_type": "markdown",
   "metadata": {},
   "source": [
    "<div align=\"left\"><span style=\"font-family: Arial; color:#000000; font-size: medium\">\n",
    "    La factorización $LU$ de una matriz $A$, cuando es posible, está asociada de forma natural a un método directo de resolución del sistema $AX=B$, llamado <b>método</b> $LU$, en el que se pueden diferenciar dos etapas:<ul>\n",
    "    <li>determinación de la factorización $A=L\\,U$ de la matriz;</li>\n",
    "    <li>resolución mediante un proceso de descenso seguido de uno de remonte del sistema lineal, ya que\n",
    "\\[\n",
    "A\\,X = B\\quad \\Longleftrightarrow\\quad L\\,Y = B \\quad \\mbox{y} \\quad U\\,X=Y\\,.\n",
    "\\]</li></ul>\n",
    "    </span></div>"
   ]
  },
  {
   "cell_type": "markdown",
   "metadata": {},
   "source": [
    "<div align=\"left\"><span style=\"font-family: Arial; color:#000000; font-size: medium\">\n",
    "    <span style=\"color:#FF0000\"><b>Ejercicio 1.</b></span> Escribir una función <span style=\"font-family: Courier\">Python</span>, de nombre <span style=\"font-family: Courier\">facto_lu()</span>, que implemente el algoritmo de la <b>factorización</b> $LU$ de una matriz $A$. Recordamos que realizar la factorización $LU$ de una matriz es equivalente a realizar el método de Gauss sin permutación de filas en cada iteración; la función debe prever que la matriz dada verifique las hipótesis necesarias para que dicha factorización sea posible.\n",
    "    <br>\n",
    "    Dicha función debe tener un único argumento de entrada, que es la matriz $A$ y dos argumentos de salida, siendo el primero de tipo boleano (para indicar si se ha realizado o no dicha factorización) y el segundo una única matriz que debe contener en la parte triangular superior la matriz $U$ y en la parte estrictamente triangular inferior la matrz $L$ (cuyos elementos diagonales, que valen 1, no se guardan).\n",
    "    </span></div>"
   ]
  },
  {
   "cell_type": "code",
   "execution_count": 5,
   "metadata": {},
   "outputs": [],
   "source": [
    "def facto_lu(A):\n",
    "    m, n = shape(A)\n",
    "    if m != n:\n",
    "        return False, \"Error facto_lu: error en las dimensiones.\"\n",
    "    if A.dtype == complex:\n",
    "        lu = array(A, dtype=complex)\n",
    "    else:\n",
    "        lu = array(A, dtype=float)\n",
    "    for k in range(n-1):\n",
    "        if abs(lu[k, k]) >= 1e-200:\n",
    "            for i in range(k+1, n):\n",
    "                lu[i, k] = lu[i, k]/lu[k, k]\n",
    "                lu[i, k+1:] -= lu[i, k]*lu[k, k+1:]\n",
    "        else:\n",
    "            return False, \"Error facto_lu: no admite factorización.\"\n",
    "    return True, lu"
   ]
  },
  {
   "cell_type": "markdown",
   "metadata": {},
   "source": [
    "<div align=\"left\"><span style=\"font-family: Arial; color:#000000; font-size: medium\">\n",
    "    <span style=\"color:#FF0000\"><b>Ejercicio 2.</b></span> Realizar, si es posible, la factorización $LU$ de las siguientes matrices:\n",
    "\\[\n",
    "\\mbox{(a)} \\quad A = \\left(\\begin{array}{rrrr} 2 & -1 & 4 & 0 \\\\ 4 & -1 & 5 & 1 \\\\ -2 & 2 & -2 & 3 \\\\ 0 & 3 & -9 & 4 \\end{array} \\right)\\,;\n",
    "\\qquad\n",
    "\\mbox{(b)} \\quad A = \\left(\\begin{array}{rrrr} 3 & -2 & 6 & -5 \\\\ 18 & -12 & 41 & -39 \\\\ -27 & 18 & -62 & 54 \\\\ 9 & 14 & 15 & -47 \\end{array} \\right)\\,.\n",
    "\\]\n",
    "    Comprobar la exactitud de los cálculos realizados, verificando que $A-L\\,U=0$.\n",
    "    </span></div>"
   ]
  },
  {
   "cell_type": "code",
   "execution_count": 2,
   "metadata": {},
   "outputs": [
    {
     "name": "stdout",
     "output_type": "stream",
     "text": [
      "Ejercicio 2-a.\n",
      "Matriz: A =  [[ 2 -1  4  0]\n",
      " [ 4 -1  5  1]\n",
      " [-2  2 -2  3]\n",
      " [ 0  3 -9  4]]\n",
      "Factorización: lu =  [[ 2. -1.  4.  0.]\n",
      " [ 2.  1. -3.  1.]\n",
      " [-1.  1.  5.  2.]\n",
      " [ 0.  3.  0.  1.]]\n",
      "Matriz: U =  [[ 2. -1.  4.  0.]\n",
      " [ 0.  1. -3.  1.]\n",
      " [ 0.  0.  5.  2.]\n",
      " [ 0.  0.  0.  1.]]\n",
      "Matriz: L =  [[ 1.  0.  0.  0.]\n",
      " [ 2.  1.  0.  0.]\n",
      " [-1.  1.  1.  0.]\n",
      " [ 0.  3.  0.  1.]]\n",
      "Comprobación: ||A-L@U||_2 =  0.0\n"
     ]
    }
   ],
   "source": [
    "# Ejercicio 2-a.\n",
    "print(\"Ejercicio 2-a.\")\n",
    "A = array([[2, -1, 4, 0], [4, -1, 5, 1], [-2, 2, -2, 3], [0, 3, -9, 4]])\n",
    "print(\"Matriz: A = \", A)\n",
    "exito, lu = facto_lu(A)\n",
    "if exito:\n",
    "    print(\"Factorización: lu = \", lu)\n",
    "    U = triu(lu)\n",
    "    print(\"Matriz: U = \", U)\n",
    "    L = eye(4) + tril(lu, k=-1)\n",
    "    print(\"Matriz: L = \", L)\n",
    "    print(\"Comprobación: ||A-L@U||_2 = \", norma_mat(A - L@U, 2)) \n",
    "else:\n",
    "    print(\"Error \", lu)"
   ]
  },
  {
   "cell_type": "code",
   "execution_count": 8,
   "metadata": {},
   "outputs": [
    {
     "name": "stdout",
     "output_type": "stream",
     "text": [
      "Ejercicio 2-b.\n",
      "Matriz: A =  [[  3  -2   6  -5]\n",
      " [ 18 -12  41 -39]\n",
      " [-27  18 -62  54]\n",
      " [  9  14  15 -47]]\n",
      "Error  No existe la factorizacion LU\n"
     ]
    }
   ],
   "source": [
    "# Ejercicio 2-b.\n",
    "print(\"Ejercicio 2-b.\")\n",
    "A = array([[3, -2, 6, -5], [18, -12, 41, -39], [-27, 18, -62, 54], [9, 14, 15, -47]])\n",
    "print(\"Matriz: A = \", A)\n",
    "exito, lu = facto_lu(A)\n",
    "if exito:\n",
    "    print(\"Factorización: lu = \", lu)\n",
    "    U = triu(lu)\n",
    "    print(\"Matriz: U = \", U)\n",
    "    L = eye(4) + tril(lu, k=-1)\n",
    "    print(\"Matriz: L = \", L)\n",
    "    print(\"Comprobación: ||A-L@U||_2 = \", norm(A - L@U, 2)) \n",
    "else:\n",
    "    print(\"Error \", lu)"
   ]
  },
  {
   "cell_type": "markdown",
   "metadata": {},
   "source": [
    "<div align=\"left\"><span style=\"font-family: Arial; color:#000000; font-size: medium\">\n",
    "    <span style=\"color:#FF0000\"><b>Ejercicio 3.</b></span> Escribir una función <span style=\"font-family: Courier\">Python</span>, de nombre <span style=\"font-family: Courier\">metodo_lu()</span>, que implemente el algoritmo del <b>método</b> $LU$ para resolver un sistema lineal $A\\,X=B$.\n",
    "    <br>\n",
    "    Dicha función debe tener dos argumentos de entrada, que son la matriz $A$ y el(los) segundo(s) miembro(s) $X$, y dos argumentos de salida, siendo el primero de tipo boleano (para indicar si se ha resuelto o no el sistema) y el segundo la(s) solución(ones) del sistema en caso de éxito o un mensaje de error en caso contrario.\n",
    "    </span></div>"
   ]
  },
  {
   "cell_type": "code",
   "execution_count": 9,
   "metadata": {},
   "outputs": [],
   "source": [
    "def metodo_lu(A, B):\n",
    "    m, n = shape(A)\n",
    "    p, q = shape(B)\n",
    "    if m!=n or n!=p or q < 1:\n",
    "        return False, \"Tamaños erróneos\"\n",
    "    exito, lu = facto_lu(A)\n",
    "    if exito: \n",
    "        ex, Y = descenso1(lu,B)\n",
    "        ex, X = remonte(lu, Y)\n",
    "        return True, X\n",
    "    else:\n",
    "        return False, \"Error metodo LU: error en la resolución\""
   ]
  },
  {
   "cell_type": "markdown",
   "metadata": {},
   "source": [
    "<div align=\"left\"><span style=\"font-family: Arial; color:#000000; font-size: medium\">\n",
    "    <span style=\"color:#FF0000\"><b>Ejercicio 4.</b></span> Resolver mediante el método $LU$, si es posible, los siguientes sistemas lineales:\n",
    "\\[\n",
    "\\mbox{(a)} \\quad \\left(\\begin{array}{rrrr} 2 & -1 & 4 & 0 \\\\ 4 & -1 & 5 & 1 \\\\ -2 & 2 & -2 & 3 \\\\ 0 & 3 & -9 & 4 \\end{array} \\right) \\left( \\begin{array}{c} x_1 \\\\ x_2 \\\\ x_3 \\\\ x_4 \\end{array} \\right) =  \\left( \\begin{array}{r} 5 \\\\ 9 \\\\ 1 \\\\ -2 \\end{array} \\right)\\,;\n",
    "\\qquad\n",
    "\\mbox{(b)} \\quad \\left(\\begin{array}{rrrr} 3 & -2 & 6 & -5 \\\\ 24 & -12 & 41 & -39 \\\\ -27 & 18 & -62 & 54 \\\\ 9 & 14 & 15 & -47 \\end{array} \\right) \\left( \\begin{array}{c} x_1 \\\\ x_2 \\\\ x_3 \\\\ x_4 \\end{array} \\right) =  \\left( \\begin{array}{r} 1 \\\\ 1 \\\\ 1 \\\\ 1 \\end{array} \\right)\\,.\n",
    "\\]\n",
    "    Comprobar la exactitud de los cálculos realizados, verificando que $B-A\\,X=0$.\n",
    "    <br>\n",
    "    Calcular también,cuando sea posible, las inversas de las matrices dadas mediante el método $LU$.\n",
    "    </span></div>"
   ]
  },
  {
   "cell_type": "code",
   "execution_count": 10,
   "metadata": {},
   "outputs": [
    {
     "name": "stdout",
     "output_type": "stream",
     "text": [
      "Ejercicio 4-a.\n",
      "Matriz: A =  [[ 2 -1  4  0]\n",
      " [ 4 -1  5  1]\n",
      " [-2  2 -2  3]\n",
      " [ 0  3 -9  4]]\n",
      "Solución X =  [[1.]\n",
      " [1.]\n",
      " [1.]\n",
      " [1.]]\n",
      "Comprobación: ||B-A@X||_2 =  0.0\n"
     ]
    }
   ],
   "source": [
    "# Ejercicio 4-a.\n",
    "print(\"Ejercicio 4-a.\")\n",
    "A = array([[2, -1, 4, 0], [4, -1, 5, 1], [-2, 2, -2, 3], [0, 3, -9, 4]])\n",
    "print(\"Matriz: A = \", A)\n",
    "B = array([[5], [9], [1], [-2]])\n",
    "exito, X = metodo_lu(A,B)\n",
    "if exito:\n",
    "    print(\"Solución X = \", X)\n",
    "    print(\"Comprobación: ||B-A@X||_2 = \", norma_vec(B-A@X,2))\n",
    "else:\n",
    "    print(\"Error: \", X)"
   ]
  },
  {
   "cell_type": "code",
   "execution_count": 11,
   "metadata": {},
   "outputs": [
    {
     "name": "stdout",
     "output_type": "stream",
     "text": [
      "Ejercicio 4-b.\n",
      "Matriz: A =  [[  3  -2   6  -5]\n",
      " [ 18 -12  41 -39]\n",
      " [-27  18 -62  54]\n",
      " [  9  14  15 -47]]\n",
      "Error:  Error metodo LU: error en la resolución\n"
     ]
    }
   ],
   "source": [
    "# Ejercicio 4-b.\n",
    "print(\"Ejercicio 4-b.\")\n",
    "A = array([[3, -2, 6, -5], [18, -12, 41, -39], [-27, 18, -62, 54], [9, 14, 15, -47]])\n",
    "print(\"Matriz: A = \", A)\n",
    "B = array([[1], [1], [1], [1]])\n",
    "exito, X = metodo_lu(A,B)\n",
    "if exito:\n",
    "    print(\"Solución X = \", X)\n",
    "    print(\"Comprobación: ||B-A@X||_2 = \", norma_vec(B-A@X,2))\n",
    "else:\n",
    "    print(\"Error: \", X)"
   ]
  },
  {
   "cell_type": "code",
   "execution_count": null,
   "metadata": {},
   "outputs": [],
   "source": []
  },
  {
   "cell_type": "markdown",
   "metadata": {},
   "source": [
    "<div align=\"left\"><span style=\"font-family: Arial; color:#000000; font-size: medium\">\n",
    "    Recordamos ahora que dada $A\\in\\mathcal{M}_n(\\mathbb{R})$ simétrica e inversible, se llama <b>factorización de Cholesky</b> a la descomposición, si es posible, $A=C\\,C^t$, siendo $C\\in\\mathcal{M}_n(\\mathbb{R})$ triangular inferior e inversible. Esta factorización es posible si y solamente si la matriz $A$ es definida positiva, siendo además única si se impone que los elementos diagonales de $C$ sean positivos.\n",
    "    </span></div>"
   ]
  },
  {
   "cell_type": "markdown",
   "metadata": {},
   "source": [
    "<div align=\"left\"><span style=\"font-family: Arial; color:#000000; font-size: medium\">\n",
    "    La factorización de Cholesky de una matriz $A$, cuando es posible, está asociada de forma natural a un método directo de resolución del sistema $AX=B$, llamado <b>método de Cholesky</b>, en el que se pueden diferenciar dos etapas:<ul>\n",
    "    <li>determinación de la factorización de Cholesky $A=C\\,C^t$ de la matriz;</li>\n",
    "    <li>resolución mediante un proceso de descenso seguido de uno de remonte del sistema lineal, ya que\n",
    "\\[\n",
    "A\\,X = B\\quad \\Longleftrightarrow\\quad C\\,Y = B \\quad \\mbox{y} \\quad C^t\\,X=Y\\,.\n",
    "\\]</li></ul>\n",
    "    </span></div>"
   ]
  },
  {
   "cell_type": "markdown",
   "metadata": {},
   "source": [
    "<div align=\"left\"><span style=\"font-family: Arial; color:#000000; font-size: medium\">\n",
    "    <span style=\"color:#FF0000\"><b>Ejercicio 5.</b></span> Escribir una función <span style=\"font-family: Courier\">Python</span>, de nombre <span style=\"font-family: Courier\">facto_cholesky()</span>, que implemente el algoritmo de la <b>factorización de Cholesky</b> de una matriz $A$. Recordamos que para optimizar el número de operaciones que conducen a dicha factorización, utilizando el carácter simétrico de la matriz $A$, es importante hacer una impementación correcta de la relación\n",
    "\\[\n",
    "a_{i,j} = \\sum_{k=1}^i c_{i,k}\\,c_{j,k}, \\quad 1 \\le i \\le j \\le n\\,.\n",
    "\\]\n",
    "    Haciendo $i=1,2,\\ldots,n$ sucesivamente permite calcular las columnas de la matriz $C$.\n",
    "    <br>\n",
    "    La función creada debe tener un único argumento de entrada, que es la matriz $A$ y dos argumentos de salida, siendo el primero de tipo boleano (para indicar si se ha realizado o no dicha factorización) y el segundo una única matriz que debe contener en la parte triangular inferior la matriz $C$ y en la parte triangular superior la matrz $C^t$ (cuyos elementos diagonales son los mismos de los de la matriz $C$).\n",
    "    </span></div>"
   ]
  },
  {
   "cell_type": "code",
   "execution_count": 19,
   "metadata": {},
   "outputs": [],
   "source": [
    "def facto_cholesky(A):\n",
    "    m, n = shape(A)\n",
    "    if m != n:\n",
    "        return False, \"Error facto_cholesky: error en las dimensiones.\"\n",
    "    if A.dtype == complex:\n",
    "        return False, \"Error facto_cholesky: matriz compleja.\"\n",
    "    else:\n",
    "        chol = array(A, dtype=float)\n",
    "    for i in range(n):\n",
    "        chol[i, i] -= sum(power(chol[i, :i], 2))\n",
    "        if chol[i, i] >= 1e-100:\n",
    "            chol[i, i] = sqrt(chol[i, i])\n",
    "        else:\n",
    "            return False, \"Error facto_cholesky: no se factoriza la matriz\"\n",
    "        for j in range(i+1, n):\n",
    "            chol[j, i] -= sum(chol[i, :i]*chol[j, :i])\n",
    "            chol[j, i] = chol[j, i]/chol[i, i]\n",
    "            chol[i, j] = chol[j, i]\n",
    "    return True, chol"
   ]
  },
  {
   "cell_type": "markdown",
   "metadata": {},
   "source": [
    "<div align=\"left\"><span style=\"font-family: Arial; color:#000000; font-size: medium\">\n",
    "    <span style=\"color:#FF0000\"><b>Ejercicio 6.</b></span> Realizar, si es posible, la factorización de Cholesky de las siguientes matrices:\n",
    "\\[\n",
    "\\mbox{(a)} \\quad A = \\left(\\begin{array}{rrrr} 1 & 2 & 3 & 4 \\\\ 2 & 5 & 1 & 10 \\\\ 3 & 1 & 35 & 5 \\\\ 4 & 10 & 5 & 45 \\end{array} \\right)\\,;\n",
    "\\qquad\n",
    "\\mbox{(b)} \\quad A = \\left(\\begin{array}{rrrr} 1 & 2 & 1 & 1 \\\\ 2 & 3 & 4 & 3 \\\\ 1 & 4 & -4 & 0 \\\\ 1 & 3 & 0 & 0 \\end{array} \\right)\\,.\n",
    "\\]\n",
    "    Comprobar la exactitud de los cálculos realizados, verificando que $A-C\\,C^t=0$.\n",
    "    </span></div>"
   ]
  },
  {
   "cell_type": "code",
   "execution_count": 21,
   "metadata": {},
   "outputs": [
    {
     "name": "stdout",
     "output_type": "stream",
     "text": [
      "Ejercicio 6-a.\n",
      "Matriz: A =  [[ 1  2  3  4]\n",
      " [ 2  5  1 10]\n",
      " [ 3  1 35  5]\n",
      " [ 4 10  5 45]]\n",
      "Factorización: chol =  [[ 1.  2.  3.  4.]\n",
      " [ 2.  1. -5.  2.]\n",
      " [ 3. -5.  1.  3.]\n",
      " [ 4.  2.  3.  4.]]\n",
      "Matriz: C =  [[ 1.  0.  0.  0.]\n",
      " [ 2.  1.  0.  0.]\n",
      " [ 3. -5.  1.  0.]\n",
      " [ 4.  2.  3.  4.]]\n",
      "Comprobación: ||A-C@C^t||_2 =  0.0\n"
     ]
    }
   ],
   "source": [
    "# Ejercicio 6-a.\n",
    "print(\"Ejercicio 6-a.\")\n",
    "A = array([[1, 2, 3, 4], [ 2, 5, 1, 10], [ 3, 1, 35, 5], [ 4, 10, 5, 45]])\n",
    "print(\"Matriz: A = \", A)\n",
    "exito, chol = facto_cholesky(A)\n",
    "if exito:\n",
    "    print(\"Factorización: chol = \", chol)\n",
    "    C = tril(chol)\n",
    "    print(\"Matriz: C = \", C)\n",
    "    print(\"Comprobación: ||A-C@C^t||_2 = \", norm(A - C@transpose(C), 2)) #norma_mat\n",
    "else:\n",
    "    print(\"Error \", chol)"
   ]
  },
  {
   "cell_type": "code",
   "execution_count": 22,
   "metadata": {},
   "outputs": [
    {
     "name": "stdout",
     "output_type": "stream",
     "text": [
      "Ejercicio 6-a.\n",
      "Matriz: A =  [[ 1  2  1  1]\n",
      " [ 2  3  4  3]\n",
      " [ 1  4 -4  0]\n",
      " [ 1  3  0  0]]\n",
      "Error  Error facto_cholesky: no se factoriza la matriz\n"
     ]
    }
   ],
   "source": [
    "# Ejercicio 6-b.\n",
    "print(\"Ejercicio 6-a.\")\n",
    "A = array([[1, 2, 1, 1], [ 2, 3, 4, 3], [ 1, 4, -4, 0], [ 1, 3, 0, 0]])\n",
    "print(\"Matriz: A = \", A)\n",
    "exito, chol = facto_cholesky(A)\n",
    "if exito:\n",
    "    print(\"Factorización: chol = \", chol)\n",
    "    C = tril(chol)\n",
    "    print(\"Matriz: C = \", C)\n",
    "    print(\"Comprobación: ||A-C@C^t||_2 = \", norm(A - C@transpose(C), 2)) #norma_mat\n",
    "else:\n",
    "    print(\"Error \", chol)"
   ]
  },
  {
   "cell_type": "code",
   "execution_count": null,
   "metadata": {},
   "outputs": [],
   "source": []
  },
  {
   "cell_type": "markdown",
   "metadata": {},
   "source": [
    "<div align=\"left\"><span style=\"font-family: Arial; color:#000000; font-size: medium\">\n",
    "    <span style=\"color:#FF0000\"><b>Ejercicio 7.</b></span> Para las matrices del ejercicio anterior, coando sea posible, construir segundos miembros adecuados para que la solución del sistema resultante sea el vector de todas sus componentes iguales a 1 y resolver el sistema mediante el método de Cholesky.\n",
    "    </span></div>"
   ]
  },
  {
   "cell_type": "code",
   "execution_count": 16,
   "metadata": {},
   "outputs": [],
   "source": [
    "def metodo_cholesky(A, B):\n",
    "    m, n = shape(A)\n",
    "    p, q = shape(B)\n",
    "    if m!=n or n!=p or q < 1:\n",
    "        return False, \"Tamaños erróneos\"\n",
    "    exito, chol = facto_cholesky(A)\n",
    "    if exito: \n",
    "        ex, Y = descenso(chol,B)\n",
    "        ex, X = remonte(chol, Y)\n",
    "        return True, X\n",
    "    else:\n",
    "        return False, \"Error metodo Cholesky: error en la resolución\""
   ]
  },
  {
   "cell_type": "code",
   "execution_count": 18,
   "metadata": {
    "scrolled": true
   },
   "outputs": [
    {
     "name": "stdout",
     "output_type": "stream",
     "text": [
      "Ejercicio 7\n",
      "Matriz: A =  [[ 1  2  3  4]\n",
      " [ 2  5  1 10]\n",
      " [ 3  1 35  5]\n",
      " [ 4 10  5 45]]\n",
      "Solución X =  [[1.]\n",
      " [1.]\n",
      " [1.]\n",
      " [1.]]\n",
      "Comprobación: ||B-A@X||_2 =  0.0\n"
     ]
    }
   ],
   "source": [
    "print(\"Ejercicio 7\")\n",
    "A = array([[1, 2, 3, 4], [ 2, 5, 1, 10], [ 3, 1, 35, 5], [ 4, 10, 5, 45]])\n",
    "print(\"Matriz: A = \", A)\n",
    "B=reshape(sum(A,axis=1),(4,1))\n",
    "exito, X = metodo_cholesky(A,B)\n",
    "if exito:\n",
    "    print(\"Solución X = \", X)\n",
    "    print(\"Comprobación: ||B-A@X||_2 = \", norma_vec(B-A@X,2))\n",
    "else:\n",
    "    print(\"Error: \", X)"
   ]
  },
  {
   "cell_type": "markdown",
   "metadata": {},
   "source": [
    "**Ejercicio 8.** Considerar las matrices de Hilbert de orden $n=5,6,7,\\ldots$, y tomar como segundo miembro la suma de las columnas de A. Evidentemente la solución del sistema resultante es el vector con todas las componentes igual a 1. Resolver los sistemas con el método de Cholesky y ver qué ocurre. (Observación: se puede demostrar que las matrices de Hilbert son simétricas y definidas positivas, por lo que admiten dicha factorización.)\n",
    "\n",
    "Nota: Las matrices de Hilbert se caracterizan porque el patrón de generación de sus elementos responde a la siguiente estructura: \n",
    "\n",
    "$$H_{i,j}=\\frac{1}{i+j-1}$$\n",
    "\n",
    "$$\n",
    "H_4=\\begin{pmatrix} 1&\\frac{1}{2}&\\frac{1}{3}&\\frac{1}{4}\\\\ \n",
    "\\frac{1}{2}&\\frac{1}{3}&\\frac{1}{4}&\\frac{1}{5}\\\\ \n",
    "\\frac{1}{3}&\\frac{1}{4}&\\frac{1}{5}&\\frac{1}{6}\\\\ \n",
    "\\frac{1}{4}&\\frac{1}{5}&\\frac{1}{6}&\\frac{1}{7}\n",
    "\\end{pmatrix}\n",
    "$$"
   ]
  },
  {
   "cell_type": "code",
   "execution_count": 21,
   "metadata": {},
   "outputs": [
    {
     "name": "stdout",
     "output_type": "stream",
     "text": [
      "Matriz: A =  [[1.         0.5        0.33333333 0.25       0.2        0.16666667\n",
      "  0.14285714 0.125     ]\n",
      " [0.5        0.33333333 0.25       0.2        0.16666667 0.14285714\n",
      "  0.125      0.11111111]\n",
      " [0.33333333 0.25       0.2        0.16666667 0.14285714 0.125\n",
      "  0.11111111 0.1       ]\n",
      " [0.25       0.2        0.16666667 0.14285714 0.125      0.11111111\n",
      "  0.1        0.09090909]\n",
      " [0.2        0.16666667 0.14285714 0.125      0.11111111 0.1\n",
      "  0.09090909 0.08333333]\n",
      " [0.16666667 0.14285714 0.125      0.11111111 0.1        0.09090909\n",
      "  0.08333333 0.07692308]\n",
      " [0.14285714 0.125      0.11111111 0.1        0.09090909 0.08333333\n",
      "  0.07692308 0.07142857]\n",
      " [0.125      0.11111111 0.1        0.09090909 0.08333333 0.07692308\n",
      "  0.07142857 0.06666667]]\n",
      "Solución X =  [[1.        ]\n",
      " [1.        ]\n",
      " [0.99999996]\n",
      " [1.00000019]\n",
      " [0.99999948]\n",
      " [1.00000073]\n",
      " [0.99999948]\n",
      " [1.00000015]]\n",
      "Comprobación: ||B-A@X||_2 =  2.9373740229761033e-16\n"
     ]
    }
   ],
   "source": [
    "I=linspace(1,8,8)\n",
    "J=reshape(I,(8,1))\n",
    "A=1./(I+J-1)\n",
    "print(\"Matriz: A = \", A)\n",
    "B=reshape(sum(A,axis=1),(8,1))\n",
    "exito, X = metodo_lu(A,B)\n",
    "if exito:\n",
    "    print(\"Solución X = \", X)\n",
    "    print(\"Comprobación: ||B-A@X||_2 = \", norma_vec(B-A@X,2))\n",
    "else:\n",
    "    print(\"Error: \", X)"
   ]
  },
  {
   "cell_type": "code",
   "execution_count": null,
   "metadata": {},
   "outputs": [],
   "source": []
  }
 ],
 "metadata": {
  "kernelspec": {
   "display_name": "Python 3",
   "language": "python",
   "name": "python3"
  },
  "language_info": {
   "codemirror_mode": {
    "name": "ipython",
    "version": 3
   },
   "file_extension": ".py",
   "mimetype": "text/x-python",
   "name": "python",
   "nbconvert_exporter": "python",
   "pygments_lexer": "ipython3",
   "version": "3.7.9"
  }
 },
 "nbformat": 4,
 "nbformat_minor": 4
}
