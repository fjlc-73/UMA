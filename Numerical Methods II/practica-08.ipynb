{
 "cells": [
  {
   "cell_type": "code",
   "execution_count": 1,
   "id": "0514de44",
   "metadata": {},
   "outputs": [],
   "source": [
    "from algoritmos import *"
   ]
  },
  {
   "cell_type": "markdown",
   "id": "9b48514f",
   "metadata": {},
   "source": [
    "<div align=\"left\"><span style=\"font-family: Arial; color:#000000; font-size: medium\">\n",
    "    El objetivo de esta práctica es desarrollar funciones <span style=\"font-family: Courier\">Python</span> para resolver sistemas de ecuaciones lineales mediante los <b>métodos iterativos clásicos de Jacobi, de Gauss-Seidel y de relajación</b>.\n",
    "    </span></div>"
   ]
  },
  {
   "cell_type": "markdown",
   "id": "d8d21b86",
   "metadata": {},
   "source": [
    "<div align=\"left\"><span style=\"font-family: Arial; color:#000000; font-size: medium\">\n",
    "    Recordamos que, en general, los métodos iterativos para resolver un sistema de ecuaciones lineales compatible y determinado de $n$ ecuaciones con $n$ incógnitas $A\\,X=B$ (donde los datos del problema son $A\\in\\mathcal{M}_n(\\mathbb{K})$ inversible y $B\\in\\mathbb{K}^n$, y la incógnita es $X\\in\\mathbb{K}^n$), se basan en construir una matriz $C\\in\\mathcal{M}_n(\\mathbb{K})$ y un vector $V\\in\\mathbb{K}^n$ tales que\n",
    "\\[\n",
    "A\\,X = B \\quad \\Leftrightarrow \\quad X = C\\,X +V\\,.\n",
    "\\]\n",
    "    <br>\n",
    "    A partir de esta formulación equivalente del problema, se construye una sucesión $\\{X_k\\}_{k\\in\\mathbb{N}}$ de aproximaciones de la solución de la forma siguiente:\n",
    "\\[\n",
    "\\left\\{ \\begin{array}{l} X_0 \\in \\mathbb{K}^n \\quad \\mbox{dado}\\,, \\\\ X_{k+1} = C\\,X_k + V\\,, \\quad k=0,1,2,\\ldots. \\end{array} \\right.\n",
    "\\]\n",
    "    <br>\n",
    "    Es claro que esta construcción de la sucesión permite asegurar que en caso de convergencia lo hará hacia la única solución del problema dado, y sabemos que esa convergencia se produce si y solo si $\\rho(C)<1$.\n",
    "    <br>\n",
    "    Para la construcción de la matriz $C$ y del vector $V$, se parte de una descomposición de la matriz $A=M-N$, donde $M,N\\in\\mathcal{M}_n(\\mathbb{K})$, con $M$ inversible: se escribe entonces\n",
    "\\[\n",
    "A\\,X = B \\quad \\Leftrightarrow \\quad X = M^{-1}\\,N\\,X + M^{-1}\\,B\\,,\n",
    "\\]\n",
    "con lo que $C=M^{-1}\\,N$ y $V=M^{-1}\\,B$.\n",
    "    <br>\n",
    "    Los métodos iterativos clásicos utilizan la descomposición de la matriz $A$ en la forma\n",
    "\\[\n",
    "A = D - E - F\\,,\n",
    "\\]\n",
    "donde las matrices $D,E,F\\in\\mathcal{M}_n(\\mathbb{K})$ son, respectivamente, diagonal, estrictamente triangular inferior y estrictamente triangular superior. Hacemos siempre la hipótesis que los elementos diagonales de $A$ son no nulos, lo que asegura que la matriz $D$ siempre es inversible.\n",
    "    </span></div>"
   ]
  },
  {
   "cell_type": "markdown",
   "id": "f1457ce8",
   "metadata": {},
   "source": [
    "<div align=\"left\"><span style=\"font-family: Arial; color:#000000; font-size: medium\">\n",
    "    El <b>método iterativo de Jacobi</b> se basa en la elección $M=D$ y $N=E+F$, con lo que se tiene que $C=D^{-1}\\,(E+F)$ (esta matriz se suele notar mediante $J$) y $V=D^{-1}\\,B$. La sucesión generada $\\{X_k\\}_{k\\in\\mathbb{N}}$ viene dada por\n",
    "\\[\n",
    "\\left\\{ \\begin{array}{l} X_0 \\in \\mathbb{K}^n \\quad \\mbox{dado}\\,, \\\\ X_{k+1} = D^{-1}\\,(E+F)\\,X_k + D^{-1}\\,B\\,, \\quad k=0,1,2,\\ldots, \\end{array} \\right.\n",
    "\\]\n",
    "o equivalentemente\n",
    "\\[\n",
    "\\left\\{ \\begin{array}{l} X_0 \\in \\mathbb{K}^n \\quad \\mbox{dado}\\,, \\\\ D\\,X_{k+1} = B + (E+F)\\,X_k\\,, \\quad k=0,1,2,\\ldots. \\end{array} \\right.\n",
    "\\]\n",
    "    <br>\n",
    "    Si ponemos $X_k=(x_i^{(k)})_{i=1}^n$, entonces\n",
    "\\[\n",
    "x_i^{(k+1)} = \\frac{1}{a_{i,i}}\\,\\left( b_i - \\sum_{j=1\\,,\\,j\\ne i}^n a_{i,j}\\,x_j^{(k)} \\right)\\,.\n",
    "\\]\n",
    "    </span></div>"
   ]
  },
  {
   "cell_type": "markdown",
   "id": "0fe8bfce",
   "metadata": {},
   "source": [
    "<div align=\"left\"><span style=\"font-family: Arial; color:#000000; font-size: medium\">\n",
    "    <span style=\"color:#FF0000\"><b>Ejercicio 1.</b></span> Elaborar un programa de nombre <span style=\"font-family: Courier\">jacobi()</span> que implemente el algoritmo del <b>método iterativo de Jacobi</b>.\n",
    "    </span></div>"
   ]
  },
  {
   "cell_type": "markdown",
   "id": "ddb4e03b",
   "metadata": {},
   "source": [
    "<div align=\"left\"><span style=\"font-family: Arial; color:#000000; font-size: medium\">\n",
    "    <span style=\"color:#FF0000\"><b>Observación.</b></span> En todos los programas que siguen, los mismos llevan como parámetros de entrada la matriz $A$, el segundo miembro $B$, el vector $X_0$ con el que iniciar las iteraciones, el número máximo de iteraciones a realizar y la tolerancia del test de parada (que es la norma infinito de la diferencia entre dos iteraciones sucesivas); en el caso del método de relajación, también hay que dar el parámetro de relajación $\\omega$.\n",
    "    </span></div>"
   ]
  },
  {
   "cell_type": "code",
   "execution_count": 2,
   "id": "541cd02a",
   "metadata": {},
   "outputs": [],
   "source": [
    "def jacobi(A, B, XOLD, itermax, tol):\n",
    "    m, n = shape(A)\n",
    "    p, q = shape(B)\n",
    "    r, s = shape(XOLD)\n",
    "    if m != n or n != p or q != 1 or n != r or s != 1 or min(abs(diag(A))) < 1e-200:\n",
    "        return False, 'ERROR jacobi: no se resuelve el sistema.'\n",
    "    k = 0\n",
    "    error = 1.\n",
    "    while k < itermax and error >= tol:\n",
    "        k = k+1\n",
    "        XNEW = array(B)\n",
    "        for i in range(n):\n",
    "            if i != 0:\n",
    "                XNEW[i, 0] -= A[i, :i]@XOLD[:i, 0]\n",
    "            if i != n-1:\n",
    "                XNEW[i, 0] -= A[i, i+1:]@XOLD[i+1:, 0]\n",
    "            XNEW[i, 0] = XNEW[i, 0]/A[i, i]\n",
    "        error = norma_vec(XNEW - XOLD, inf)\n",
    "        XOLD = array(XNEW)\n",
    "    print('Iteración: k = ', k)\n",
    "    print('Error absoluto: error = ', error)\n",
    "    if k == itermax and error >= tol:\n",
    "        return False, 'ERROR jacobi: no se alcanza convergencia.'\n",
    "    else:\n",
    "        print('Convergencia numérica alcanzada: jacobi.')\n",
    "        return True, XNEW"
   ]
  },
  {
   "cell_type": "markdown",
   "id": "2b5c3c19",
   "metadata": {},
   "source": [
    "<div align=\"left\"><span style=\"font-family: Arial; color:#000000; font-size: medium\">\n",
    "    <span style=\"color:#FF0000\"><b>Ejercicio 2.</b></span> Resolver mediante el método iterativo de Jacobi un sistema lineal $A\\,X=B$, cuya matriz de coeficientes $A$ (del tamaño que se quiera) es tridiagonal, con elementos diagonales iguales a 2 y elementos sub-diagonales y supra-diagonales iguales a $-1$ (esta matriz es definida positiva); sabemos que hay convergencia en este caso. Tomamos como segundo miembro $B$ un vector cuyas componentes son las sumas de las respectivas filas de la matriz $A$, lo que nos asegura que la solución exacta del sistema $X$ es el vector con todas las componentes iguales a 1. Tomamos como vector inicial $X_0$ el vector nulo, establecemos un número máximo de iteraciones de 1000 y un valor para la constante de tolerancia de $10^{-5}$.\n",
    "    </span></div>"
   ]
  },
  {
   "cell_type": "code",
   "execution_count": 15,
   "id": "c2463b43",
   "metadata": {},
   "outputs": [
    {
     "name": "stdout",
     "output_type": "stream",
     "text": [
      "Iteración: k =  74\n",
      "Error absoluto: error =  7.945943831355606e-06\n",
      "Convergencia numérica alcanzada: jacobi.\n",
      "\n",
      " [[0.99998411]\n",
      " [0.99997616]\n",
      " [0.99996822]\n",
      " [0.99997616]\n",
      " [0.99998411]]\n"
     ]
    }
   ],
   "source": [
    "n = 5\n",
    "A = 2*eye(n) - eye(n, k=1) - eye(n, k=-1)\n",
    "B = reshape(sum(A, axis=1),(n,1))\n",
    "XOLD = zeros((n,1))\n",
    "exito, X = jacobi(A, B, XOLD, 1000, 1e-5)\n",
    "print('\\n', X) "
   ]
  },
  {
   "cell_type": "markdown",
   "id": "8759e679",
   "metadata": {},
   "source": [
    "<div align=\"left\"><span style=\"font-family: Arial; color:#000000; font-size: medium\">\n",
    "    El <b>método iterativo de Gauss-Seidel</b> se basa en la elección $M=D-E$ y $N=F$, con lo que se tiene que $C=(D-E)^{-1}\\,F$ (esta matriz se suele notar mediante $\\mathcal{L}_1$) y $V=(D-E)^{-1}\\,B$. La sucesión generada $\\{X_k\\}_{k\\in\\mathbb{N}}$ viene dada por\n",
    "\\[\n",
    "\\left\\{ \\begin{array}{l} X_0 \\in \\mathbb{K}^n \\quad \\mbox{dado}\\,, \\\\ X_{k+1} = (D-E)^{-1}\\,F\\,X_k + (D-E)^{-1}\\,B\\,, k=0,1,2,\\ldots, \\end{array} \\right.\n",
    "\\]\n",
    "o equivalentemente\n",
    "\\[\n",
    "\\left\\{ \\begin{array}{l} X_0 \\in \\mathbb{K}^n \\quad \\mbox{dado}\\,, \\\\ D\\,X_{k+1} = B + E\\,X_{k+1} + F\\,X_k\\,, \\quad k=0,1,2,\\ldots. \\end{array} \\right.\n",
    "\\]\n",
    "    <br>\n",
    "    Si ponemos $X_k=(x_i^{(k)})_{k=1}^n$, entonces\n",
    "\\[\n",
    "x_i^{(k+1)} = \\frac{1}{a_{i,i}}\\,\\left( b_i - \\sum_{j=1}^{i-1} a_{i,j}\\,x_j^{(k+1)} - \\sum_{j=i+1}^n a_{i,j}\\,x_j^{(k)} \\right)\\,.\n",
    "\\]\n",
    "    </span></div>"
   ]
  },
  {
   "cell_type": "markdown",
   "id": "30c8a5e4",
   "metadata": {},
   "source": [
    "<div align=\"left\"><span style=\"font-family: Arial; color:#000000; font-size: medium\">\n",
    "    <span style=\"color:#FF0000\"><b>Ejercicio 3.</b></span> Elaborar un programa de nombre <span style=\"font-family: Courier\">gauss_seidel()</span> que implemente el algoritmo del <b>método iterativo de Gauss-Seidel</b>.\n",
    "    </span></div>"
   ]
  },
  {
   "cell_type": "code",
   "execution_count": 17,
   "id": "211078ce",
   "metadata": {},
   "outputs": [],
   "source": [
    "def gauss_seidel(A, B, XOLD, itermax, tol):\n",
    "    m, n = shape(A)\n",
    "    p, q = shape(B)\n",
    "    r, s = shape(XOLD)\n",
    "    if m != n or n != p or q != 1 or n != r or s != 1 or min(abs(diag(A))) < 1e-200:\n",
    "        return False, 'ERROR gauss_seidel: no se resuelve el sistema.'\n",
    "    k = 0\n",
    "    error = 1.\n",
    "    while k < itermax and error >= tol:\n",
    "        k = k+1\n",
    "        XNEW = array(B)\n",
    "        for i in range(n):\n",
    "            if i != 0:\n",
    "                XNEW[i, 0] -= A[i, :i]@XNEW[:i, 0]\n",
    "            if i != n-1:\n",
    "                XNEW[i, 0] -= A[i, i+1:]@XOLD[i+1:, 0]\n",
    "            XNEW[i, 0] = XNEW[i, 0]/A[i, i]\n",
    "        error = norma_vec(XNEW - XOLD, inf)\n",
    "        XOLD = array(XNEW)\n",
    "    print('Iteración: k = ', k)\n",
    "    print('Error absoluto: error = ', error)\n",
    "    if k == itermax and error >= tol:\n",
    "        return False, 'ERROR gauss_seidel: no se alcanza convergencia.'\n",
    "    else:\n",
    "        print('Convergencia numérica alcanzada: gauss_seidel.')\n",
    "        return True, XNEW"
   ]
  },
  {
   "cell_type": "markdown",
   "id": "7d751e40",
   "metadata": {},
   "source": [
    "<div align=\"left\"><span style=\"font-family: Arial; color:#000000; font-size: medium\">\n",
    "    <span style=\"color:#FF0000\"><b>Ejercicio 4.</b></span> Resolver el mismo sistema que se plantea en el ejercicio 2 mediante el método de Gauss-Seidel</b>.\n",
    "    </span></div>"
   ]
  },
  {
   "cell_type": "code",
   "execution_count": 18,
   "id": "319c050e",
   "metadata": {},
   "outputs": [
    {
     "name": "stdout",
     "output_type": "stream",
     "text": [
      "Iteración: k =  38\n",
      "Error absoluto: error =  8.277024824421275e-06\n",
      "Convergencia numérica alcanzada: gauss_seidel.\n",
      "\n",
      " [[0.99998345]\n",
      " [0.99997517]\n",
      " [0.99997517]\n",
      " [0.99998138]\n",
      " [0.99999069]]\n"
     ]
    }
   ],
   "source": [
    "n = 5\n",
    "A = 2*eye(n) - eye(n, k=1) - eye(n, k=-1)\n",
    "B = reshape(sum(A, axis=1),(n,1))\n",
    "XOLD = zeros((n,1))\n",
    "exito, X = gauss_seidel(A, B, XOLD, 1000, 1e-5)\n",
    "print('\\n', X) "
   ]
  },
  {
   "cell_type": "markdown",
   "id": "3536a564",
   "metadata": {},
   "source": [
    "<div align=\"left\"><span style=\"font-family: Arial; color:#000000; font-size: medium\">\n",
    "    Finalmente la familia de <b>métodos iterativos de relajación</b> se basa en la elección $M=\\frac{1}{\\omega}\\,D-E$ y $N=\\frac{1-\\omega}{\\omega}\\,D+F$, donde $\\omega\\in\\mathbb{R}-\\{0\\}$, con lo que se tiene que $C=\\left(\\frac{1}{\\omega}\\,D-E\\right)^{-1}\\,\\left(\\frac{1-\\omega}{\\omega}\\,D+F\\right)$ (esta matriz se suele notar mediante $\\mathcal{L}_\\omega$) y $V=\\left(\\frac{1}{\\omega}\\,D-E\\right)^{-1}\\,B$. La sucesión generada $\\{X_k\\}_{k\\in\\mathbb{N}}$ viene dada por\n",
    "\\[\n",
    "\\left\\{ \\begin{array}{l} X_0 \\in \\mathbb{K}^n \\quad \\mbox{dado}\\,, \\\\ X_{k+1} = \\left(\\frac{1}{\\omega}\\,D-E\\right)^{-1}\\,\\left(\\frac{1-\\omega}{\\omega}\\,D+F\\right)\\,X_k + \\left(\\frac{1}{\\omega}\\,D-E\\right)^{-1}\\,B\\,, \\quad k=0,1,2,\\ldots, \\end{array} \\right.\n",
    "\\]\n",
    "o equivalentemente\n",
    "\\[\n",
    "\\left\\{ \\begin{array}{l} X_0 \\in \\mathbb{K}^n \\quad \\mbox{dado}\\,, \\\\ \\frac{1}{\\omega}\\,D\\,X_{k+1} = B + E\\,X_{k+1} + \\frac{1-\\omega}{\\omega}\\,D\\,X_k + F\\,X_k\\,, \\quad k=0,1,2,\\ldots. \\end{array} \\right.\n",
    "\\]\n",
    "    <br>\n",
    "    Si ponemos $X_k=(x_i^{(k)})_{k=1}^n$, entonces\n",
    "\\[\n",
    "x_i^{(k+1)} = \\frac{\\omega}{a_{i,i}}\\,\\left( b_i - \\sum_{j=1}^{i-1} a_{i,j}\\,x_j^{(k+1)} + \\frac{1-\\omega}{\\omega}\\,a_{i,i}\\,x_i^{(k)} - \\sum_{j=i+1}^n a_{i,j}\\,x_j^{(k)} \\right)\\,.\n",
    "\\]\n",
    "    </span></div>"
   ]
  },
  {
   "cell_type": "code",
   "execution_count": 23,
   "id": "46e0e81d",
   "metadata": {},
   "outputs": [],
   "source": [
    "def relajacion(A, B, XOLD, omega, itermax, tol):\n",
    "    m, n = shape(A)\n",
    "    p, q = shape(B)\n",
    "    r, s = shape(XOLD)\n",
    "    if m != n or n != p or q != 1 or n != r or s != 1 or min(abs(diag(A))) < 1e-200:\n",
    "        return False, 'ERROR relajacion: no se resuelve el sistema.'\n",
    "    k = 0\n",
    "    error = 1.\n",
    "    while k < itermax and error >= tol:\n",
    "        k = k+1\n",
    "        XNEW = array(B)\n",
    "        for i in range(n):\n",
    "            if i != 0:\n",
    "                XNEW[i, 0] -= A[i, :i]@XNEW[:i, 0]\n",
    "            if i != n-1:\n",
    "                XNEW[i, 0] -= A[i, i+1:]@XOLD[i+1:, 0]\n",
    "            XNEW[i, 0] +=((1-omega)/omega)*A[i, i]*XOLD[i, 0]\n",
    "            XNEW[i, 0] = omega*XNEW[i, 0]/A[i, i]\n",
    "        error = norma_vec(XNEW - XOLD, inf)\n",
    "        XOLD = array(XNEW)\n",
    "    print('Iteración: k = ', k)\n",
    "    print('Error absoluto: error = ', error)\n",
    "    if k == itermax and error >= tol:\n",
    "        return False, 'ERROR relajacion: no se alcanza convergencia.'\n",
    "    else:\n",
    "        print('Convergencia numérica alcanzada: relajacion.')\n",
    "        return True, XNEW"
   ]
  },
  {
   "cell_type": "markdown",
   "id": "531803c1",
   "metadata": {},
   "source": [
    "<div align=\"left\"><span style=\"font-family: Arial; color:#000000; font-size: medium\">\n",
    "    <span style=\"color:#FF0000\"><b>Ejercicio 5.</b></span> Resolver el mismo sistema que se plantea en el ejercicio 2 mediante el método de relajación, tomando diferentes valores del parámetro $\\omega$</b>.\n",
    "    </span></div>"
   ]
  },
  {
   "cell_type": "code",
   "execution_count": 43,
   "id": "ed0ab25e",
   "metadata": {},
   "outputs": [
    {
     "name": "stdout",
     "output_type": "stream",
     "text": [
      "Iteración: k =  14\n",
      "Error absoluto: error =  4.932190440287698e-06\n",
      "Convergencia numérica alcanzada: relajacion.\n",
      "\n",
      " [[1.00000181]\n",
      " [1.00000389]\n",
      " [1.00000246]\n",
      " [1.00000121]\n",
      " [1.00000042]]\n"
     ]
    }
   ],
   "source": [
    "n = 5\n",
    "A = 2*eye(n) - eye(n, k=1) - eye(n, k=-1)\n",
    "B = reshape(sum(A, axis=1),(n,1))\n",
    "XOLD = zeros((n,1))\n",
    "exito, X = relajacion(A, B, XOLD, 1.35, 1000, 1e-5)\n",
    "print('\\n', X) "
   ]
  },
  {
   "cell_type": "code",
   "execution_count": null,
   "id": "ddc43546",
   "metadata": {},
   "outputs": [],
   "source": []
  },
  {
   "cell_type": "markdown",
   "id": "061a604e",
   "metadata": {},
   "source": [
    "<div align=\"left\"><span style=\"font-family: Arial; color:#000000; font-size: medium\">\n",
    "    <span style=\"color:#FF0000\"><b>Ejercicio 6.</b></span> Para un caso concreto de matriz tridiagonal definida positiva, calcular el parámetro óptimo de relajación, y realizar diferentes ensayos de dicho método, utilizando el valor óptimo de $\\omega$, así como valores inferiores y superiores.\n",
    "    </span></div>"
   ]
  },
  {
   "cell_type": "code",
   "execution_count": null,
   "id": "884a6846",
   "metadata": {},
   "outputs": [],
   "source": []
  },
  {
   "cell_type": "markdown",
   "id": "047d0a46",
   "metadata": {},
   "source": [
    "<div align=\"left\"><span style=\"font-family: Arial; color:#000000; font-size: medium\">\n",
    "    <span style=\"color:#FF0000\"><b>Ejercicio 7.</b></span> En el caso de matrices tridiagonales y, en general, banda con semianchura de banda $p$, optimizar los programas anteriores de manera que se eviten las operaciones innecesarias.\n",
    "    </span></div>"
   ]
  },
  {
   "cell_type": "code",
   "execution_count": null,
   "id": "2a6aae29",
   "metadata": {},
   "outputs": [],
   "source": []
  }
 ],
 "metadata": {
  "kernelspec": {
   "display_name": "Python 3",
   "language": "python",
   "name": "python3"
  },
  "language_info": {
   "codemirror_mode": {
    "name": "ipython",
    "version": 3
   },
   "file_extension": ".py",
   "mimetype": "text/x-python",
   "name": "python",
   "nbconvert_exporter": "python",
   "pygments_lexer": "ipython3",
   "version": "3.8.8"
  }
 },
 "nbformat": 4,
 "nbformat_minor": 5
}
